{
 "cells": [
  {
   "cell_type": "markdown",
   "id": "eb0a8b2d",
   "metadata": {},
   "source": [
    "Import the necessary libraries."
   ]
  },
  {
   "cell_type": "code",
   "execution_count": 1,
   "id": "689f5774",
   "metadata": {},
   "outputs": [],
   "source": [
    "import csv\n",
    "import numpy as np\n",
    "from numpy import dot\n",
    "from numpy.linalg import norm\n",
    "from sklearn.feature_extraction.text import TfidfVectorizer\n",
    "from create_input_lists import create_input_lists_from_csv, lemmatize\n",
    "from statistics import mean\n",
    "from sklearn.metrics.pairwise import cosine_similarity, euclidean_distances\n",
    "from statistics import mean, median, mode\n",
    "import matplotlib.pyplot as plt\n",
    "import math\n",
    "from sklearn.cluster import KMeans\n",
    "from collections import defaultdict, Counter\n",
    "from sklearn.metrics import silhouette_score"
   ]
  },
  {
   "cell_type": "markdown",
   "id": "c290ad38",
   "metadata": {},
   "source": [
    "Obtain and pre-process the texts."
   ]
  },
  {
   "cell_type": "code",
   "execution_count": 2,
   "id": "2c90b377",
   "metadata": {},
   "outputs": [],
   "source": [
    "paragraph_path = './OneDrive-2020-12-04/intro_bio (with periods)_labelled/paragraphs.csv'\n",
    "assessment_path = './OneDrive-2020-12-04/intro_bio (with periods)_labelled/assessments.csv'"
   ]
  },
  {
   "cell_type": "code",
   "execution_count": 3,
   "id": "9bb64baf",
   "metadata": {},
   "outputs": [],
   "source": [
    "para_ids, lemm_para, orig_para, assess_ids, lemma_assess, orig_assess = create_input_lists_from_csv(paragraph_path, assessment_path)"
   ]
  },
  {
   "cell_type": "markdown",
   "id": "a2c033dc",
   "metadata": {},
   "source": [
    "Obtain the lengths of all assessments and paragraphs."
   ]
  },
  {
   "cell_type": "code",
   "execution_count": 4,
   "id": "b9741c5a",
   "metadata": {},
   "outputs": [],
   "source": [
    "assessment_lengths = []\n",
    "for assessment in lemma_assess:\n",
    "    assessment_lengths.append(len(assessment))\n",
    "    \n",
    "paragraph_lengths = []\n",
    "for paragraph in lemm_para:\n",
    "    paragraph_lengths.append(len(paragraph))"
   ]
  },
  {
   "cell_type": "markdown",
   "id": "445a17ea",
   "metadata": {},
   "source": [
    "Obtain the TF-IDF vectorization of the texts."
   ]
  },
  {
   "cell_type": "code",
   "execution_count": 5,
   "id": "ca8e914c",
   "metadata": {},
   "outputs": [
    {
     "name": "stdout",
     "output_type": "stream",
     "text": [
      "Minimum Length of an Assessment: 9\n",
      "Maximum Length of an Assessment: 925\n",
      "Mean Length of an Assessment: 163.72\n",
      "\n",
      "Minimum Length of a Paragraph: 1\n",
      "Maximum Length of a Paragraph: 2151\n",
      "Mean Length of a Paragraph: 216.06\n"
     ]
    }
   ],
   "source": [
    "min_assessment_length = min(assessment_lengths)\n",
    "max_assessment_length = max(assessment_lengths)\n",
    "mean_assessment_length = 0 if len(assessment_lengths) == 0 else sum(assessment_lengths)/len(assessment_lengths)\n",
    "\n",
    "print('Minimum Length of an Assessment:', min_assessment_length)\n",
    "print('Maximum Length of an Assessment:', max_assessment_length)\n",
    "print(f'Mean Length of an Assessment: {(mean_assessment_length):.2f}\\n')\n",
    "\n",
    "min_paragraph_length = min(paragraph_lengths)\n",
    "max_paragraph_length = max(paragraph_lengths)\n",
    "mean_paragraph_length = 0 if len(paragraph_lengths) == 0 else sum(paragraph_lengths)/len(paragraph_lengths)\n",
    "\n",
    "print('Minimum Length of a Paragraph:', min_paragraph_length)\n",
    "print('Maximum Length of a Paragraph:', max_paragraph_length)\n",
    "print(f'Mean Length of a Paragraph: {(mean_paragraph_length):.2f}')"
   ]
  },
  {
   "cell_type": "markdown",
   "id": "b25882f4",
   "metadata": {},
   "source": [
    "Obtain the TF-IDF vectorization of the texts."
   ]
  },
  {
   "cell_type": "code",
   "execution_count": 4,
   "id": "55c8643f",
   "metadata": {},
   "outputs": [],
   "source": [
    "vectorizer = TfidfVectorizer(use_idf=True, stop_words = 'english')\n",
    "para_vectors = vectorizer.fit_transform(lemm_para)\n",
    "assess_vectors = vectorizer.fit_transform(lemma_assess)"
   ]
  },
  {
   "cell_type": "code",
   "execution_count": 5,
   "id": "7f38768c",
   "metadata": {},
   "outputs": [
    {
     "name": "stdout",
     "output_type": "stream",
     "text": [
      "(1608, 4121)\n",
      "(1095, 2630)\n"
     ]
    }
   ],
   "source": [
    "print(para_vectors.shape)\n",
    "print(assess_vectors.shape)"
   ]
  },
  {
   "cell_type": "code",
   "execution_count": 6,
   "id": "7b71df25",
   "metadata": {},
   "outputs": [],
   "source": [
    "para_nonzero_counts = []\n",
    "for vector in para_vectors:\n",
    "    para_nonzero_counts.append(vector.count_nonzero())\n",
    "\n",
    "assess_nonzero_counts = []\n",
    "for vector in assess_vectors:\n",
    "    assess_nonzero_counts.append(vector.count_nonzero())"
   ]
  },
  {
   "cell_type": "markdown",
   "id": "fee5aefb",
   "metadata": {},
   "source": [
    "Output Summary Statistics of Vectorizations:"
   ]
  },
  {
   "cell_type": "code",
   "execution_count": 7,
   "id": "5f98b22c",
   "metadata": {},
   "outputs": [
    {
     "name": "stdout",
     "output_type": "stream",
     "text": [
      "TF-IDF for Paragraphs:\n",
      "\n",
      "Average Number of Non-Zeros: 20.018034825870647\n",
      "Total # of Dimensions: 4121\n",
      "\n",
      "\n",
      "TF-IDF for Assessments:\n",
      "\n",
      "Average Number of Non-Zeros: 14.107762557077626\n",
      "Total # of Dimensions: 2630\n"
     ]
    }
   ],
   "source": [
    "print('TF-IDF for Paragraphs:\\n')\n",
    "print('Average Number of Non-Zeros:', mean(para_nonzero_counts))\n",
    "print('Total # of Dimensions:', para_vectors.shape[1])\n",
    "\n",
    "\n",
    "print('\\n\\nTF-IDF for Assessments:\\n')\n",
    "print('Average Number of Non-Zeros:', mean(assess_nonzero_counts))\n",
    "print('Total # of Dimensions:', assess_vectors.shape[1])"
   ]
  },
  {
   "cell_type": "code",
   "execution_count": 8,
   "id": "979abec4",
   "metadata": {},
   "outputs": [],
   "source": [
    "def plot_distances(distances_list):\n",
    "    plt.hist(distances_list, rwidth = 0.8, bins=np.arange(min(distances_list), max(distances_list) + 0.01, 0.01))\n",
    "    plt.xlabel('Pairwise Distance',fontsize=10)\n",
    "    plt.ylabel('Frequency',fontsize=10)\n",
    "    plt.xticks(fontsize=6)\n",
    "    plt.yticks(fontsize=6)\n",
    "    plt.xticks(np.arange(min(distances_list), max(distances_list)+0.1, 0.1))\n",
    "    plt.grid()\n",
    "    plt.show()\n",
    "    \n",
    "def plot_similarities(cos_sim_list):\n",
    "    plt.hist(cos_sim_list, rwidth = 0.8, bins=np.arange(min(cos_sim_list), max(cos_sim_list) + 0.01, 0.01))\n",
    "    plt.xlabel('Pairwise Cosine Similarity',fontsize=10)\n",
    "    plt.ylabel('Frequency',fontsize=10)\n",
    "    plt.xticks(fontsize=6)\n",
    "    plt.yticks(fontsize=6)\n",
    "    plt.xticks(np.arange(min(cos_sim_list), max(cos_sim_list)+0.1, 0.1))\n",
    "    plt.grid()\n",
    "    plt.show()\n",
    "    \n",
    "def calculate_pairwise_metrics(pairs):    \n",
    "    cos_sim_list = []\n",
    "    dist_list = []\n",
    "    orthogonal_count = 0\n",
    "    for pair in pairs:\n",
    "        a,b = pair\n",
    "        a = np.array(a)\n",
    "        b = np.array(b)\n",
    "        cos_sim = dot(a, b)/(norm(a)*norm(b))\n",
    "        cos_sim_list.append(cos_sim)\n",
    "\n",
    "        if cos_sim == 0:\n",
    "            orthogonal_count += 1\n",
    "\n",
    "        dist = norm(a - b)\n",
    "        dist_list.append(dist)\n",
    "    \n",
    "    return(cos_sim_list, orthogonal_count, dist_list)\n",
    "\n",
    "def print_similarity_statistics(sim_list):\n",
    "    sim_list = [x for x in sim_list if math.isnan(x) == False]\n",
    "    print('Cosine Similarity Mean:', mean(sim_list))\n",
    "    print('Cosine Similarity Median:', median(sim_list))\n",
    "    print('Cosine Similarity Mode:', mode(sim_list))\n",
    "    print('Cosine Similarity Min:', min(sim_list))\n",
    "    print('Cosine Similarity Max:', max(sim_list))\n",
    "    \n",
    "def print_distance_statistics(dist_list):\n",
    "    dist_list = [x for x in dist_list if math.isnan(x) == False]\n",
    "    print('Euclidean Distance Mean:', mean(dist_list))\n",
    "    print('Euclidean Distance Median:', median(dist_list))\n",
    "    print('Euclidean Distance Mode:', mode(dist_list))\n",
    "    print('Euclidean Distance Min:', min(dist_list))\n",
    "    print('Euclidean Distance Max:', max(dist_list))"
   ]
  },
  {
   "cell_type": "code",
   "execution_count": 9,
   "id": "524eb072",
   "metadata": {},
   "outputs": [
    {
     "name": "stderr",
     "output_type": "stream",
     "text": [
      "<ipython-input-8-e90b1626ce59>:29: RuntimeWarning: invalid value encountered in double_scalars\n",
      "  cos_sim = dot(a, b)/(norm(a)*norm(b))\n"
     ]
    },
    {
     "name": "stdout",
     "output_type": "stream",
     "text": [
      "Cosine Similarity Mean: 0.020659342884977668\n",
      "Cosine Similarity Median: 0.0\n",
      "Cosine Similarity Mode: 0.0\n",
      "Cosine Similarity Min: 0.0\n",
      "Cosine Similarity Max: 1.0000000000000002\n",
      "\n",
      "Number of Pairs: 1292028\n",
      "Number of Orthogonal Pairs: 814454\n"
     ]
    },
    {
     "data": {
      "image/png": "[encoded data removed]",
      "text/plain": [
       "<Figure size 432x288 with 1 Axes>"
      ]
     },
     "metadata": {
      "needs_background": "light"
     },
     "output_type": "display_data"
    },
    {
     "name": "stdout",
     "output_type": "stream",
     "text": [
      "Euclidean Distance Mean: 1.3968001301261443\n",
      "Euclidean Distance Median: 1.414213562373095\n",
      "Euclidean Distance Mode: 1.4142135623730951\n",
      "Euclidean Distance Min: 0.0\n",
      "Euclidean Distance Max: 1.4142135623730954\n"
     ]
    },
    {
     "data": {
      "image/png": "[encoded data removed]",
      "text/plain": [
       "<Figure size 432x288 with 1 Axes>"
      ]
     },
     "metadata": {
      "needs_background": "light"
     },
     "output_type": "display_data"
    }
   ],
   "source": [
    "para_vectors = para_vectors.toarray().tolist()\n",
    "\n",
    "para_pairs = [[a, b] for idx, a in enumerate(para_vectors) for b in para_vectors[idx + 1:]]\n",
    "\n",
    "para_sim_list, para_count, para_dist_list = calculate_pairwise_metrics(para_pairs)\n",
    "print_similarity_statistics(para_sim_list)\n",
    "print('\\nNumber of Pairs:', len(para_pairs))\n",
    "print('Number of Orthogonal Pairs:', para_count)\n",
    "plot_similarities(para_sim_list)\n",
    "\n",
    "print_distance_statistics(para_dist_list)\n",
    "plot_distances(para_dist_list)"
   ]
  },
  {
   "cell_type": "code",
   "execution_count": 10,
   "id": "2d879122",
   "metadata": {},
   "outputs": [
    {
     "name": "stdout",
     "output_type": "stream",
     "text": [
      "Cosine Similarity Mean: 0.019603841279011342\n",
      "Cosine Similarity Median: 0.0\n",
      "Cosine Similarity Mode: 0.0\n",
      "Cosine Similarity Min: 0.0\n",
      "Cosine Similarity Max: 1.0000000000000002\n",
      "\n",
      "Number of Pairs: 598965\n",
      "Number of Orthogonal Pairs: 437676\n",
      "Percentage of Orthogonal Pairs: 0.7307204928501665\n"
     ]
    },
    {
     "data": {
      "image/png": "[encoded data removed]",
      "text/plain": [
       "<Figure size 432x288 with 1 Axes>"
      ]
     },
     "metadata": {
      "needs_background": "light"
     },
     "output_type": "display_data"
    },
    {
     "name": "stdout",
     "output_type": "stream",
     "text": [
      "Euclidean Distance Mean: 1.3995396937044458\n",
      "Euclidean Distance Median: 1.414213562373095\n",
      "Euclidean Distance Mode: 1.4142135623730951\n",
      "Euclidean Distance Min: 0.0\n",
      "Euclidean Distance Max: 1.4142135623730954\n"
     ]
    },
    {
     "data": {
      "image/png": "[encoded data removed]",
      "text/plain": [
       "<Figure size 432x288 with 1 Axes>"
      ]
     },
     "metadata": {
      "needs_background": "light"
     },
     "output_type": "display_data"
    }
   ],
   "source": [
    "assess_vectors = assess_vectors.toarray().tolist()\n",
    "\n",
    "assess_pairs = [[a, b] for idx, a in enumerate(assess_vectors) for b in assess_vectors[idx + 1:]]\n",
    "\n",
    "assess_sim_list, assess_count, assess_dist_list = calculate_pairwise_metrics(assess_pairs)\n",
    "print_similarity_statistics(assess_sim_list)\n",
    "print('\\nNumber of Pairs:', len(assess_pairs))\n",
    "print('Number of Orthogonal Pairs:', assess_count)\n",
    "print('Percentage of Orthogonal Pairs:', assess_count/len(assess_pairs))\n",
    "plot_similarities(assess_sim_list)\n",
    "\n",
    "print_distance_statistics(assess_dist_list)\n",
    "plot_distances(assess_dist_list)"
   ]
  },
  {
   "cell_type": "code",
   "execution_count": 35,
   "id": "2fd0dfc5",
   "metadata": {},
   "outputs": [
    {
     "name": "stdout",
     "output_type": "stream",
     "text": [
      "0.10879960415421469\n"
     ]
    }
   ],
   "source": [
    "km = KMeans(n_clusters = 200, max_iter = 50000, init = 'k-means++')\n",
    "cluster_assignment = km.fit(assess_vectors).labels_\n",
    "s = silhouette_score(assess_vectors, cluster_assignment, metric='euclidean')\n",
    "print(s)"
   ]
  },
  {
   "cell_type": "code",
   "execution_count": 36,
   "id": "df4ff3c4",
   "metadata": {},
   "outputs": [],
   "source": [
    "clusterIndex_to_clusteredText1 = defaultdict(lambda: \" \")\n",
    "text_id1_to_clusterIndex = dict()\n",
    "\n",
    "for i, clusterIndex in enumerate(cluster_assignment): # len(cluster_assignment) is equal to len(vectors)\n",
    "    clusterIndex_to_clusteredText1[clusterIndex] += orig_assess[i] + \". \" \n",
    "    text_id1_to_clusterIndex[assess_ids[i]] = clusterIndex"
   ]
  },
  {
   "cell_type": "code",
   "execution_count": 37,
   "id": "5cfa73b3",
   "metadata": {},
   "outputs": [
    {
     "name": "stdout",
     "output_type": "stream",
     "text": [
      "Cosine Similarity Mean: 0.017778784302364445\n",
      "Cosine Similarity Median: 0.0\n",
      "Cosine Similarity Mode: 0.0\n",
      "Cosine Similarity Min: 0.0\n",
      "Cosine Similarity Max: 0.8496707999000419\n",
      "\n",
      "Number of Pairs: 595644\n",
      "Number of Orthogonal Pairs: 437561\n",
      "Percentage of Orthogonal Pairs: 0.7346015405174903\n"
     ]
    },
    {
     "data": {
      "image/png": "[encoded data removed]",
      "text/plain": [
       "<Figure size 432x288 with 1 Axes>"
      ]
     },
     "metadata": {
      "needs_background": "light"
     },
     "output_type": "display_data"
    },
    {
     "name": "stdout",
     "output_type": "stream",
     "text": [
      "Euclidean Distance Mean: 1.4011054754007257\n",
      "Euclidean Distance Median: 1.4142135623730951\n",
      "Euclidean Distance Mode: 1.4142135623730951\n",
      "Euclidean Distance Min: 0.5483232625011603\n",
      "Euclidean Distance Max: 1.4142135623730954\n"
     ]
    },
    {
     "data": {
      "image/png": "[encoded data removed]",
      "text/plain": [
       "<Figure size 432x288 with 1 Axes>"
      ]
     },
     "metadata": {
      "needs_background": "light"
     },
     "output_type": "display_data"
    }
   ],
   "source": [
    "assess_pair_ids = [[a, b] for idx, a in enumerate(assess_ids) for b in assess_ids[idx + 1:]]\n",
    "\n",
    "inter_cluster_pairs = []\n",
    "for index in range(0,len(assess_pairs)):\n",
    "    a, b = assess_pairs[index]\n",
    "    a_id, b_id = assess_pair_ids[index]\n",
    "    a_cluster = text_id1_to_clusterIndex[a_id]\n",
    "    b_cluster = text_id1_to_clusterIndex[b_id]\n",
    "    if a_cluster != b_cluster:\n",
    "        inter_cluster_pairs.append([a,b])\n",
    "    \n",
    "cluster_sim_list, cluster_count, cluster_dist_list = calculate_pairwise_metrics(inter_cluster_pairs)\n",
    "print_similarity_statistics(cluster_sim_list)\n",
    "print('\\nNumber of Pairs:', len(inter_cluster_pairs))\n",
    "print('Number of Orthogonal Pairs:', cluster_count)\n",
    "print('Percentage of Orthogonal Pairs:', cluster_count/len(inter_cluster_pairs))\n",
    "plot_similarities(cluster_sim_list)\n",
    "\n",
    "print_distance_statistics(cluster_dist_list)\n",
    "plot_distances(cluster_dist_list)"
   ]
  },
  {
   "cell_type": "code",
   "execution_count": 38,
   "id": "4d07704d",
   "metadata": {},
   "outputs": [
    {
     "name": "stdout",
     "output_type": "stream",
     "text": [
      "Cosine Similarity Mean: 0.34694025735786255\n",
      "Cosine Similarity Median: 0.31144923380133227\n",
      "Cosine Similarity Mode: 0.0\n",
      "Cosine Similarity Min: 0.0\n",
      "Cosine Similarity Max: 1.0000000000000002\n",
      "\n",
      "Number of Pairs: 3321\n",
      "Number of Orthogonal Pairs: 115\n",
      "Percentage of Orthogonal Pairs: 0.03462812405901837\n"
     ]
    },
    {
     "data": {
      "image/png": "[encoded data removed]",
      "text/plain": [
       "<Figure size 432x288 with 1 Axes>"
      ]
     },
     "metadata": {
      "needs_background": "light"
     },
     "output_type": "display_data"
    },
    {
     "name": "stdout",
     "output_type": "stream",
     "text": [
      "Euclidean Distance Mean: 1.1187060674776952\n",
      "Euclidean Distance Median: 1.173499694246801\n",
      "Euclidean Distance Mode: 1.4142135623730951\n",
      "Euclidean Distance Min: 0.0\n",
      "Euclidean Distance Max: 1.4142135623730954\n"
     ]
    },
    {
     "data": {
      "image/png": "[encoded data removed]",
      "text/plain": [
       "<Figure size 432x288 with 1 Axes>"
      ]
     },
     "metadata": {
      "needs_background": "light"
     },
     "output_type": "display_data"
    }
   ],
   "source": [
    "assess_pair_ids = [[a, b] for idx, a in enumerate(assess_ids) for b in assess_ids[idx + 1:]]\n",
    "\n",
    "intra_cluster_pairs = []\n",
    "for index in range(0,len(assess_pairs)):\n",
    "    a, b = assess_pairs[index]\n",
    "    a_id, b_id = assess_pair_ids[index]\n",
    "    a_cluster = text_id1_to_clusterIndex[a_id]\n",
    "    b_cluster = text_id1_to_clusterIndex[b_id]\n",
    "    if a_cluster == b_cluster:\n",
    "        intra_cluster_pairs.append([a,b])\n",
    "    \n",
    "cluster_sim_list, cluster_count, cluster_dist_list = calculate_pairwise_metrics(intra_cluster_pairs)\n",
    "print_similarity_statistics(cluster_sim_list)\n",
    "print('\\nNumber of Pairs:', len(intra_cluster_pairs))\n",
    "print('Number of Orthogonal Pairs:', cluster_count)\n",
    "print('Percentage of Orthogonal Pairs:', cluster_count/len(intra_cluster_pairs))\n",
    "plot_similarities(cluster_sim_list)\n",
    "\n",
    "print_distance_statistics(cluster_dist_list)\n",
    "plot_distances(cluster_dist_list)"
   ]
  },
  {
   "cell_type": "code",
   "execution_count": 39,
   "id": "7a008410",
   "metadata": {},
   "outputs": [
    {
     "data": {
      "text/plain": [
       "Counter({33: 7,\n",
       "         150: 3,\n",
       "         96: 2,\n",
       "         179: 5,\n",
       "         198: 3,\n",
       "         72: 5,\n",
       "         87: 5,\n",
       "         166: 3,\n",
       "         195: 8,\n",
       "         125: 5,\n",
       "         135: 4,\n",
       "         73: 7,\n",
       "         74: 8,\n",
       "         130: 12,\n",
       "         156: 3,\n",
       "         5: 7,\n",
       "         55: 15,\n",
       "         27: 3,\n",
       "         50: 9,\n",
       "         60: 3,\n",
       "         165: 5,\n",
       "         143: 4,\n",
       "         160: 8,\n",
       "         128: 6,\n",
       "         155: 4,\n",
       "         32: 9,\n",
       "         39: 7,\n",
       "         188: 6,\n",
       "         164: 6,\n",
       "         102: 7,\n",
       "         28: 2,\n",
       "         100: 2,\n",
       "         104: 8,\n",
       "         148: 4,\n",
       "         13: 4,\n",
       "         71: 5,\n",
       "         167: 5,\n",
       "         109: 9,\n",
       "         16: 4,\n",
       "         19: 10,\n",
       "         118: 3,\n",
       "         58: 8,\n",
       "         94: 11,\n",
       "         127: 12,\n",
       "         111: 2,\n",
       "         147: 4,\n",
       "         197: 5,\n",
       "         51: 9,\n",
       "         31: 8,\n",
       "         38: 8,\n",
       "         174: 9,\n",
       "         138: 4,\n",
       "         43: 7,\n",
       "         146: 7,\n",
       "         1: 3,\n",
       "         199: 4,\n",
       "         117: 5,\n",
       "         59: 13,\n",
       "         53: 12,\n",
       "         12: 12,\n",
       "         175: 3,\n",
       "         140: 8,\n",
       "         62: 5,\n",
       "         54: 4,\n",
       "         132: 5,\n",
       "         64: 4,\n",
       "         151: 3,\n",
       "         168: 3,\n",
       "         14: 3,\n",
       "         57: 7,\n",
       "         34: 11,\n",
       "         10: 10,\n",
       "         163: 2,\n",
       "         9: 8,\n",
       "         47: 6,\n",
       "         112: 7,\n",
       "         29: 8,\n",
       "         82: 9,\n",
       "         3: 3,\n",
       "         0: 8,\n",
       "         46: 7,\n",
       "         158: 10,\n",
       "         11: 4,\n",
       "         193: 4,\n",
       "         139: 8,\n",
       "         45: 9,\n",
       "         191: 2,\n",
       "         157: 4,\n",
       "         86: 9,\n",
       "         88: 8,\n",
       "         77: 5,\n",
       "         66: 7,\n",
       "         22: 7,\n",
       "         124: 6,\n",
       "         79: 21,\n",
       "         181: 5,\n",
       "         69: 9,\n",
       "         89: 5,\n",
       "         141: 4,\n",
       "         61: 5,\n",
       "         186: 3,\n",
       "         173: 5,\n",
       "         25: 1,\n",
       "         113: 4,\n",
       "         116: 3,\n",
       "         106: 4,\n",
       "         92: 2,\n",
       "         184: 7,\n",
       "         121: 3,\n",
       "         120: 4,\n",
       "         97: 5,\n",
       "         185: 6,\n",
       "         194: 6,\n",
       "         7: 13,\n",
       "         123: 4,\n",
       "         8: 8,\n",
       "         152: 3,\n",
       "         154: 3,\n",
       "         105: 8,\n",
       "         6: 8,\n",
       "         101: 3,\n",
       "         52: 6,\n",
       "         78: 6,\n",
       "         35: 2,\n",
       "         169: 4,\n",
       "         114: 5,\n",
       "         70: 6,\n",
       "         142: 12,\n",
       "         20: 8,\n",
       "         183: 3,\n",
       "         98: 5,\n",
       "         196: 3,\n",
       "         136: 2,\n",
       "         95: 2,\n",
       "         65: 2,\n",
       "         189: 2,\n",
       "         172: 4,\n",
       "         81: 4,\n",
       "         137: 2,\n",
       "         187: 2,\n",
       "         75: 8,\n",
       "         131: 3,\n",
       "         84: 5,\n",
       "         110: 6,\n",
       "         37: 4,\n",
       "         108: 4,\n",
       "         93: 10,\n",
       "         2: 3,\n",
       "         36: 5,\n",
       "         21: 2,\n",
       "         149: 4,\n",
       "         49: 5,\n",
       "         76: 6,\n",
       "         80: 11,\n",
       "         103: 6,\n",
       "         68: 1,\n",
       "         90: 1,\n",
       "         171: 3,\n",
       "         133: 4,\n",
       "         162: 7,\n",
       "         40: 9,\n",
       "         170: 2,\n",
       "         83: 3,\n",
       "         56: 8,\n",
       "         18: 7,\n",
       "         15: 5,\n",
       "         24: 5,\n",
       "         107: 4,\n",
       "         26: 6,\n",
       "         126: 3,\n",
       "         176: 2,\n",
       "         85: 5,\n",
       "         134: 4,\n",
       "         115: 3,\n",
       "         145: 2,\n",
       "         192: 2,\n",
       "         63: 3,\n",
       "         144: 3,\n",
       "         44: 4,\n",
       "         119: 5,\n",
       "         99: 8,\n",
       "         30: 4,\n",
       "         190: 2,\n",
       "         42: 4,\n",
       "         48: 5,\n",
       "         180: 5,\n",
       "         17: 5,\n",
       "         41: 6,\n",
       "         177: 3,\n",
       "         159: 4,\n",
       "         129: 5,\n",
       "         91: 4,\n",
       "         4: 9,\n",
       "         178: 3,\n",
       "         182: 3,\n",
       "         161: 1,\n",
       "         67: 7,\n",
       "         122: 4,\n",
       "         153: 5,\n",
       "         23: 8})"
      ]
     },
     "execution_count": 39,
     "metadata": {},
     "output_type": "execute_result"
    }
   ],
   "source": [
    "Counter(cluster_assignment)"
   ]
  },
  {
   "cell_type": "code",
   "execution_count": 17,
   "id": "349e8ef8",
   "metadata": {},
   "outputs": [],
   "source": [
    "k = 2\n",
    "k_list = []\n",
    "best_k = 75\n",
    "\n",
    "score_list = []\n",
    "best_score = -2.0\n",
    "\n",
    "while k <= 500:\n",
    "    km = KMeans(n_clusters = k, max_iter = 50000, init = 'k-means++', random_state=43)\n",
    "    cluster_assignment = km.fit(assess_vectors).labels_\n",
    "    s = silhouette_score(assess_vectors, cluster_assignment, metric='euclidean')\n",
    "    if s > best_score:\n",
    "        best_score = s\n",
    "        best_k = k\n",
    "    k_list.append(k)\n",
    "    score_list.append(s)\n",
    "    k += 1"
   ]
  },
  {
   "cell_type": "code",
   "execution_count": 18,
   "id": "0c521511",
   "metadata": {},
   "outputs": [
    {
     "data": {
      "image/png": "[encoded data removed]",
      "text/plain": [
       "<Figure size 432x288 with 1 Axes>"
      ]
     },
     "metadata": {
      "needs_background": "light"
     },
     "output_type": "display_data"
    }
   ],
   "source": [
    "plt.plot(k_list,score_list)\n",
    "plt.title('Number of Clusters versus Silhouette Score')\n",
    "plt.xlabel('Number of Clusters (k)')\n",
    "plt.ylabel('Silhouette Score')\n",
    "plt.show()"
   ]
  },
  {
   "cell_type": "code",
   "execution_count": 19,
   "id": "44a8f00d",
   "metadata": {},
   "outputs": [
    {
     "name": "stdout",
     "output_type": "stream",
     "text": [
      "Best value for k: 465\n",
      "Best Silhouette Score: 0.14785032556454653\n"
     ]
    }
   ],
   "source": [
    "print('Best value for k:', best_k)\n",
    "print('Best Silhouette Score:', best_score)"
   ]
  },
  {
   "cell_type": "code",
   "execution_count": 57,
   "id": "fa9ae3bd",
   "metadata": {},
   "outputs": [],
   "source": [
    "runs = 0\n",
    "assignment_list = []\n",
    "while runs < 10:\n",
    "    km = KMeans(n_clusters = 200, max_iter = 50000, init = 'k-means++')\n",
    "    cluster_assignment = km.fit(assess_vectors).labels_\n",
    "    runs  += 1\n",
    "    assignment_list.append(cluster_assignment)\n",
    "\n",
    "clustering_pairs = [[a, b] for idx, a in enumerate(assignment_list) for b in assignment_list[idx + 1:]]\n",
    "\n",
    "pair_numbers = []\n",
    "for number in range(0,10):\n",
    "    for another_number in range(0,10):\n",
    "        if another_number > number: \n",
    "            pair_numbers.append([number+1, another_number+1])\n",
    "\n",
    "from sklearn.metrics.cluster import adjusted_mutual_info_score\n",
    "\n",
    "ami_score_list = []\n",
    "for index in range(0, len(clustering_pairs)):\n",
    "    label = 'Comparing Run ' + str(pair_numbers[index][0]) + ' and Run ' + str(pair_numbers[index][1])\n",
    "    ami_score = adjusted_mutual_info_score(clustering_pairs[index][0], clustering_pairs[index][1])\n",
    "    ami_score_list.append([label, ami_score])\n",
    "    \n",
    "import csv\n",
    "\n",
    "with open(\"../../../OneDrive/SMART/Jesse_2021/StoryBoards/SMART_cluster_assignment_OLI Biology_tfidf.csv\",\"w+\") as my_csv:\n",
    "    newarray = csv.writer(my_csv,delimiter=',')\n",
    "    newarray.writerows(assignment_list)\n",
    "    newarray.writerows(ami_score_list)"
   ]
  },
  {
   "cell_type": "code",
   "execution_count": 58,
   "id": "6920eff4",
   "metadata": {},
   "outputs": [
    {
     "name": "stdout",
     "output_type": "stream",
     "text": [
      "[0.0, 0.0, 0.0, 0.0, 0.0, 0.0, 0.0, 0.0, 0.0, 0.3936920858400107, 0.0, 0.0, 0.0, 0.0, 0.0, 0.0, 0.0, 0.0, 0.0, 0.0, 0.0, 0.1266920436541383, 0.0, 0.0, 0.0, 0.0, 0.0, 0.0, 0.0, 0.0, 0.0, 0.0, 0.0, 0.0, 0.0, 0.0, 0.0, 0.0, 0.0, 0.0, 0.0, 0.0, 0.0, 0.0, 0.0, 0.0, 0.0, 0.0, 0.0, 0.0, 0.0, 0.0, 0.0, 0.0, 0.0, 0.0, 0.0, 0.0, 0.0, 0.0, 0.0, 0.0, 0.0, 0.0, 0.0, 0.0, 0.0, 0.0, 0.0, 0.0, 0.0, 0.0, 0.0, 0.0, 0.0, 0.0, 0.0, 0.0, 0.11967714211919121, 0.0, 0.0, 0.0, 0.0, 0.0, 0.0, 0.0, 0.0, 0.0, 0.0, 0.0, 0.0, 0.0, 0.0, 0.0, 0.0, 0.0, 0.0, 0.0, 0.0, 0.0, 0.0, 0.0, 0.0, 0.0, 0.0, 0.0, 0.0, 0.0, 0.0, 0.0, 0.0, 0.0, 0.0, 0.0, 0.0, 0.0, 0.0, 0.0, 0.0, 0.0, 0.0, 0.0, 0.0, 0.0, 0.0, 0.0, 0.0, 0.0, 0.0, 0.0, 0.0, 0.0, 0.0, 0.0, 0.0, 0.0, 0.0, 0.0, 0.0, 0.0, 0.0, 0.0, 0.0, 0.0, 0.0, 0.0, 0.0, 0.0, 0.0, 0.0, 0.0, 0.0, 0.0, 0.0, 0.0, 0.0, 0.0, 0.0, 0.0, 0.0, 0.0, 0.0, 0.0, 0.0, 0.0, 0.0, 0.0, 0.0, 0.0, 0.0, 0.0, 0.0, 0.0, 0.0, 0.0, 0.0, 0.0, 0.0, 0.0, 0.0, 0.0, 0.0, 0.0, 0.0, 0.0, 0.0, 0.0, 0.0, 0.0, 0.0, 0.0, 0.0, 0.0, 0.0, 0.0, 0.0, 0.0, 0.0, 0.0, 0.0, 0.0, 0.0, 0.0, 0.0, 0.0, 0.0, 0.2144730359264609, 0.0, 0.0, 0.0, 0.0, 0.0, 0.0, 0.0, 0.0, 0.0, 0.0, 0.0, 0.0, 0.0, 0.0, 0.0, 0.0, 0.0, 0.0, 0.0, 0.0, 0.0, 0.0, 0.0, 0.0, 0.0, 0.0, 0.0, 0.0, 0.0, 0.0, 0.0, 0.0, 0.0, 0.0, 0.0, 0.0, 0.0, 0.12472407156567139, 0.0, 0.0, 0.0, 0.0, 0.0, 0.0, 0.0, 0.0, 0.0, 0.0, 0.0, 0.0, 0.0, 0.2624613905600071, 0.0, 0.0, 0.0, 0.0, 0.0, 0.0, 0.0, 0.0, 0.0, 0.0, 0.0, 0.0, 0.0, 0.0, 0.0, 0.0, 0.0, 0.0, 0.0, 0.0, 0.0, 0.0, 0.0, 0.0, 0.0, 0.0, 0.0, 0.0, 0.0, 0.0, 0.0, 0.0, 0.0, 0.0, 0.0, 0.0, 0.0, 0.0, 0.0, 0.0, 0.0, 0.0, 0.0, 0.0, 0.0, 0.0, 0.0, 0.0, 0.0, 0.0, 0.0, 0.0, 0.0, 0.0, 0.0, 0.0, 0.0, 0.0, 0.0, 0.0, 0.0, 0.0, 0.0, 0.0, 0.0, 0.0, 0.0, 0.0, 0.0, 0.0, 0.0, 0.0, 0.0, 0.0, 0.0, 0.0, 0.0, 0.0, 0.0, 0.0, 0.0, 0.08044495686098187, 0.0, 0.0, 0.0, 0.0, 0.0, 0.0, 0.0, 0.0, 0.0, 0.0, 0.0, 0.0, 0.0, 0.0, 0.0, 0.0, 0.0, 0.0, 0.0, 0.0, 0.0, 0.0, 0.0, 0.0, 0.0, 0.0, 0.0, 0.23411521267178045, 0.1032583264416368, 0.0, 0.0, 0.0, 0.0, 0.0, 0.0, 0.0, 0.0, 0.0, 0.0, 0.0, 0.0, 0.0, 0.0, 0.0, 0.0, 0.10556038748722626, 0.0, 0.0, 0.0, 0.0, 0.0, 0.0, 0.0, 0.0, 0.0, 0.0, 0.0, 0.0, 0.0, 0.0, 0.0, 0.0, 0.0, 0.0, 0.0, 0.0, 0.0, 0.0, 0.0, 0.0, 0.0, 0.0, 0.0, 0.0, 0.0, 0.0, 0.0, 0.0, 0.0, 0.0, 0.0, 0.0, 0.0, 0.0, 0.0, 0.0, 0.0, 0.0, 0.0, 0.0, 0.0, 0.0, 0.0, 0.0, 0.0, 0.0, 0.0, 0.0, 0.0, 0.0, 0.0, 0.0, 0.0, 0.0, 0.0, 0.0, 0.0, 0.0, 0.0, 0.0, 0.0, 0.0, 0.0, 0.0, 0.0, 0.0, 0.0, 0.0, 0.0, 0.0, 0.0, 0.0, 0.0, 0.0, 0.0, 0.0, 0.0, 0.0, 0.0, 0.0, 0.0, 0.0, 0.0, 0.0, 0.0, 0.0, 0.0, 0.0, 0.0, 0.0, 0.0, 0.0, 0.24582742547264833, 0.0, 0.0, 0.0, 0.0, 0.0, 0.0, 0.0, 0.0, 0.0, 0.0, 0.0, 0.1063829294481483, 0.0, 0.0, 0.0, 0.0, 0.0, 0.0, 0.0, 0.0, 0.0, 0.0, 0.0, 0.0, 0.0, 0.0, 0.0, 0.0, 0.0, 0.0, 0.0, 0.0, 0.0, 0.0, 0.0, 0.0, 0.0, 0.0, 0.0, 0.0, 0.0, 0.0, 0.0, 0.0, 0.0, 0.0, 0.0, 0.0, 0.0, 0.0, 0.0, 0.0, 0.0, 0.0, 0.0, 0.0, 0.0, 0.0, 0.0, 0.0, 0.0, 0.0, 0.0, 0.0, 0.0, 0.0, 0.0, 0.0, 0.0, 0.0, 0.0, 0.0, 0.0, 0.0, 0.0, 0.0, 0.0, 0.0, 0.0, 0.0, 0.0, 0.0, 0.0, 0.0, 0.0, 0.0, 0.0, 0.0, 0.0, 0.0, 0.0, 0.0, 0.0, 0.0, 0.0, 0.0, 0.0, 0.0, 0.0, 0.0, 0.0, 0.0, 0.0, 0.0, 0.0, 0.0, 0.0, 0.0, 0.0, 0.0, 0.0, 0.0, 0.0, 0.0, 0.0, 0.0, 0.0, 0.0, 0.0, 0.0, 0.0, 0.0, 0.0, 0.0, 0.0, 0.0, 0.0, 0.0, 0.0, 0.0, 0.0, 0.0, 0.0, 0.0, 0.0, 0.0, 0.0, 0.0, 0.0, 0.0, 0.0, 0.0, 0.0, 0.0, 0.0, 0.0, 0.0, 0.0, 0.0, 0.0, 0.0, 0.0, 0.0, 0.0, 0.0, 0.0, 0.0, 0.0, 0.0, 0.0, 0.0, 0.0, 0.0, 0.0, 0.0, 0.0, 0.0, 0.0, 0.0, 0.12291371273632416, 0.0, 0.0, 0.0, 0.0, 0.0, 0.0, 0.0, 0.0, 0.0, 0.0, 0.0, 0.0, 0.0, 0.0, 0.0, 0.0, 0.0, 0.0, 0.0, 0.0, 0.0, 0.0, 0.0, 0.0, 0.0, 0.0, 0.0, 0.0, 0.0, 0.0, 0.0, 0.0, 0.0, 0.0, 0.0, 0.0, 0.0, 0.0, 0.0, 0.0, 0.0, 0.0, 0.0, 0.0, 0.0, 0.0, 0.0, 0.0, 0.0, 0.0, 0.0, 0.0, 0.11433063993347531, 0.0, 0.0, 0.0, 0.0, 0.0, 0.0, 0.0, 0.0, 0.0, 0.0, 0.0, 0.0, 0.0, 0.0, 0.0, 0.0, 0.0, 0.0, 0.0, 0.0, 0.0, 0.0, 0.0, 0.0, 0.0, 0.0, 0.0, 0.0, 0.0, 0.0, 0.0, 0.0, 0.0, 0.0, 0.0, 0.0, 0.0, 0.0, 0.0, 0.0, 0.0, 0.0, 0.0, 0.0, 0.0, 0.0, 0.0, 0.0, 0.0, 0.0, 0.0, 0.0, 0.0, 0.0, 0.0, 0.0, 0.0, 0.0, 0.0, 0.0, 0.0, 0.0, 0.0, 0.0, 0.0, 0.0, 0.0, 0.0, 0.0, 0.0, 0.0, 0.0, 0.0, 0.13389464262443293, 0.0, 0.0, 0.0, 0.0, 0.0, 0.0, 0.0, 0.0, 0.0, 0.0, 0.0, 0.0, 0.0, 0.0, 0.0, 0.0, 0.0, 0.0, 0.0, 0.0, 0.0, 0.0, 0.0, 0.0, 0.0, 0.0, 0.0, 0.0, 0.0, 0.0, 0.0, 0.0, 0.0, 0.0, 0.0, 0.0, 0.0, 0.0, 0.0, 0.0, 0.0, 0.0, 0.0, 0.0, 0.0, 0.0, 0.0, 0.0, 0.0, 0.0, 0.0, 0.0, 0.0, 0.0, 0.0, 0.0, 0.0, 0.0, 0.0, 0.0, 0.0, 0.0, 0.0, 0.0, 0.0, 0.0, 0.0, 0.0, 0.0, 0.0, 0.0, 0.0, 0.0, 0.0, 0.0, 0.0, 0.0, 0.0, 0.0, 0.0, 0.0, 0.12123758226031997, 0.0, 0.0, 0.0, 0.0, 0.0, 0.0, 0.0, 0.0, 0.0, 0.0, 0.0, 0.0, 0.0, 0.0, 0.0, 0.0, 0.0, 0.0, 0.0, 0.0, 0.0, 0.0, 0.0, 0.0, 0.0, 0.0, 0.0, 0.0, 0.13123069528000356, 0.0, 0.0, 0.0, 0.0, 0.0, 0.0, 0.0, 0.0, 0.0, 0.0, 0.0, 0.0, 0.0, 0.0, 0.0, 0.0, 0.0, 0.0, 0.0, 0.0, 0.0, 0.0, 0.0, 0.0, 0.0, 0.0, 0.0, 0.0, 0.0, 0.0, 0.0, 0.0, 0.0, 0.0, 0.0, 0.0, 0.0, 0.0, 0.0, 0.0, 0.0, 0.0, 0.0, 0.0, 0.0, 0.0, 0.0, 0.0, 0.0, 0.0, 0.0, 0.0, 0.0, 0.0, 0.0, 0.0, 0.0, 0.0, 0.0, 0.0, 0.0, 0.0, 0.0, 0.0, 0.0, 0.0, 0.0, 0.0, 0.0, 0.0, 0.0, 0.0, 0.0, 0.0, 0.0, 0.0, 0.0, 0.0, 0.0, 0.0, 0.0, 0.0, 0.0, 0.0, 0.0, 0.0, 0.0, 0.0, 0.0, 0.0, 0.0, 0.0, 0.0, 0.0, 0.0, 0.0, 0.0, 0.0, 0.0, 0.0, 0.0, 0.0, 0.0, 0.0, 0.0, 0.07031919002317494, 0.0, 0.0, 0.0, 0.0, 0.0, 0.0, 0.0, 0.0, 0.0, 0.0, 0.0, 0.0, 0.0, 0.0, 0.0, 0.0, 0.0, 0.0, 0.0, 0.0, 0.0, 0.0, 0.0, 0.0, 0.0, 0.0, 0.0, 0.0, 0.0, 0.0, 0.0, 0.0, 0.0, 0.0, 0.0, 0.0, 0.0, 0.0, 0.0, 0.0, 0.0, 0.0, 0.0, 0.0, 0.0, 0.0, 0.0, 0.0, 0.0, 0.0, 0.0, 0.0, 0.0, 0.0, 0.0, 0.0, 0.0, 0.0, 0.0, 0.0, 0.0, 0.0, 0.0, 0.0, 0.0, 0.0, 0.0, 0.0, 0.0, 0.0, 0.0, 0.0, 0.0, 0.08908951790601778, 0.0, 0.0, 0.0, 0.0, 0.0, 0.0, 0.0, 0.0, 0.0, 0.0, 0.0, 0.0, 0.0, 0.0, 0.0, 0.0, 0.0, 0.0, 0.0, 0.0, 0.0, 0.0, 0.0, 0.0, 0.0, 0.0, 0.0, 0.0, 0.0, 0.0, 0.0, 0.0, 0.0, 0.0, 0.0, 0.0, 0.0, 0.0, 0.0, 0.0, 0.0, 0.0, 0.0, 0.0, 0.0, 0.0, 0.0, 0.0, 0.0, 0.0, 0.0, 0.0, 0.0, 0.0, 0.0, 0.0, 0.0, 0.0, 0.0, 0.0, 0.0, 0.0, 0.0, 0.0, 0.0, 0.0, 0.0, 0.0, 0.09987630573381615, 0.0, 0.0, 0.0, 0.0, 0.0, 0.0, 0.0, 0.0, 0.0, 0.0, 0.0, 0.0, 0.0, 0.0, 0.0, 0.0, 0.0, 0.0, 0.0, 0.0, 0.0, 0.0, 0.0, 0.0, 0.0, 0.0, 0.0, 0.0, 0.0, 0.0, 0.0, 0.0, 0.0, 0.0, 0.0, 0.0, 0.0, 0.0, 0.0, 0.0, 0.0, 0.0, 0.0, 0.0, 0.0, 0.0, 0.0, 0.0, 0.0, 0.0, 0.0, 0.0, 0.0, 0.0, 0.0, 0.0, 0.0, 0.0, 0.0, 0.0, 0.0, 0.0, 0.0, 0.0, 0.0, 0.0, 0.0, 0.0, 0.0, 0.0, 0.0, 0.0, 0.0, 0.0, 0.0, 0.0, 0.0, 0.0, 0.0, 0.0, 0.0, 0.0, 0.0, 0.0, 0.0, 0.0, 0.0, 0.0, 0.0, 0.0, 0.0, 0.0, 0.0, 0.0, 0.0, 0.0, 0.0, 0.0, 0.0, 0.0, 0.0, 0.0, 0.0, 0.0, 0.0, 0.0, 0.0, 0.0, 0.0, 0.0, 0.0, 0.0, 0.0, 0.0, 0.0, 0.0, 0.0, 0.0, 0.0, 0.0, 0.0, 0.0, 0.0, 0.0, 0.0, 0.0, 0.0, 0.0, 0.0, 0.0, 0.0, 0.0, 0.0, 0.0, 0.0, 0.0, 0.0, 0.0, 0.0, 0.0, 0.0, 0.0, 0.0, 0.0, 0.0, 0.0, 0.0, 0.0, 0.0, 0.0, 0.0, 0.0, 0.0, 0.0, 0.0, 0.0, 0.0, 0.0, 0.0, 0.0, 0.0, 0.0, 0.0, 0.0, 0.0, 0.0, 0.0, 0.0, 0.0, 0.11967714211919121, 0.0, 0.0, 0.0, 0.0, 0.0, 0.0, 0.0, 0.0, 0.0, 0.0, 0.0, 0.0, 0.0, 0.0, 0.0, 0.0, 0.0, 0.0, 0.0, 0.0, 0.0, 0.0, 0.0, 0.0, 0.0, 0.0, 0.10184427782228306, 0.0, 0.0, 0.0, 0.0, 0.0, 0.0, 0.0, 0.0, 0.0, 0.0, 0.0, 0.0, 0.0, 0.0, 0.0, 0.0, 0.0, 0.0, 0.0, 0.0, 0.0, 0.0, 0.0, 0.0, 0.0, 0.0, 0.0, 0.0, 0.0, 0.0, 0.0, 0.0, 0.0, 0.0, 0.0, 0.0, 0.0, 0.0, 0.0, 0.0, 0.0, 0.19730689032076318, 0.0, 0.0, 0.0, 0.0, 0.0, 0.0, 0.0, 0.0, 0.0, 0.0, 0.0, 0.0, 0.0, 0.0, 0.0, 0.0, 0.0, 0.0, 0.0, 0.0, 0.10723651796323044, 0.0, 0.0, 0.0, 0.0, 0.0, 0.0, 0.0, 0.0, 0.0, 0.0, 0.0, 0.0, 0.0, 0.0, 0.0, 0.0, 0.0, 0.0, 0.0, 0.0, 0.0, 0.0, 0.0, 0.0, 0.0, 0.0, 0.0, 0.0, 0.0, 0.0, 0.0, 0.0, 0.0, 0.0, 0.0, 0.0, 0.0, 0.0, 0.0, 0.0, 0.0, 0.0, 0.0, 0.0, 0.0, 0.0, 0.0, 0.0, 0.0, 0.0, 0.0, 0.0, 0.0, 0.0, 0.0, 0.0, 0.0, 0.0, 0.0, 0.0, 0.0, 0.0, 0.0, 0.0, 0.0, 0.0, 0.0, 0.0, 0.0, 0.0, 0.0, 0.0, 0.0, 0.0, 0.0, 0.0, 0.0, 0.0, 0.0, 0.13389464262443293, 0.0, 0.0, 0.0, 0.0, 0.0, 0.0, 0.0, 0.0, 0.0, 0.0, 0.0, 0.0, 0.0, 0.0, 0.0, 0.0, 0.0, 0.0, 0.0, 0.0, 0.0, 0.0, 0.0, 0.0, 0.0, 0.0, 0.0, 0.0, 0.0, 0.0, 0.0, 0.0, 0.0, 0.0, 0.0, 0.0, 0.0, 0.0, 0.0, 0.0, 0.0, 0.0, 0.0, 0.0, 0.0, 0.0, 0.0, 0.0, 0.0, 0.0, 0.0, 0.0, 0.0, 0.0, 0.0, 0.0, 0.1219583987241879, 0.0, 0.0, 0.0, 0.0, 0.0, 0.0, 0.0, 0.0, 0.0, 0.0, 0.0, 0.0, 0.0, 0.0, 0.0, 0.0, 0.0, 0.0, 0.0, 0.0, 0.0, 0.0, 0.0, 0.0, 0.0, 0.0, 0.0, 0.0, 0.0, 0.0, 0.0, 0.0, 0.0, 0.0, 0.0, 0.0, 0.0, 0.0, 0.0, 0.0, 0.0, 0.0, 0.0, 0.0, 0.0, 0.0, 0.0, 0.0, 0.0, 0.0, 0.0, 0.0, 0.0, 0.0, 0.0, 0.0, 0.0, 0.0, 0.0, 0.0, 0.0, 0.0, 0.0, 0.0, 0.0, 0.0, 0.12884771317795277, 0.0, 0.0, 0.0, 0.0, 0.0, 0.0, 0.0, 0.0, 0.0, 0.0, 0.0, 0.0, 0.0, 0.0, 0.0, 0.0, 0.0, 0.0, 0.0, 0.0, 0.0, 0.0, 0.0, 0.0, 0.0, 0.0, 0.0, 0.0, 0.0, 0.0, 0.0, 0.0, 0.0, 0.0, 0.0, 0.0, 0.0, 0.0, 0.0, 0.0, 0.0, 0.0, 0.0, 0.0, 0.0, 0.0, 0.0, 0.0, 0.0, 0.0, 0.0, 0.0, 0.0, 0.0, 0.0, 0.08616708304918934, 0.0, 0.0, 0.0, 0.0, 0.0, 0.0, 0.0, 0.0, 0.0, 0.0, 0.0, 0.14452490795104647, 0.0, 0.0, 0.0, 0.0, 0.0, 0.0, 0.0, 0.0, 0.0, 0.0, 0.0, 0.0, 0.0, 0.0, 0.0, 0.0, 0.0, 0.0, 0.0, 0.0, 0.0, 0.0, 0.0, 0.0, 0.0, 0.0, 0.0, 0.0, 0.0, 0.0, 0.0, 0.0, 0.0, 0.0, 0.0, 0.0, 0.0, 0.0, 0.0, 0.0, 0.0, 0.0, 0.0, 0.0, 0.0, 0.0, 0.0, 0.0, 0.0, 0.0, 0.0, 0.0, 0.0, 0.0, 0.0, 0.0, 0.0, 0.0, 0.0, 0.0, 0.0, 0.0, 0.0, 0.0, 0.0, 0.0, 0.0, 0.0, 0.0, 0.0, 0.0, 0.0, 0.0, 0.0, 0.0, 0.0, 0.0, 0.0, 0.0, 0.0, 0.0, 0.0, 0.0, 0.0, 0.0, 0.0, 0.0, 0.0, 0.0, 0.0, 0.0, 0.0, 0.0, 0.0, 0.0, 0.0, 0.0, 0.0, 0.0, 0.0, 0.0, 0.0, 0.0, 0.0, 0.0, 0.0, 0.0, 0.0, 0.0, 0.0, 0.0, 0.0, 0.0, 0.0, 0.0, 0.0, 0.0, 0.0, 0.0, 0.0, 0.0, 0.0, 0.0, 0.0, 0.0, 0.0, 0.0, 0.0, 0.0, 0.0, 0.0, 0.0, 0.0, 0.0, 0.0, 0.0, 0.0, 0.0, 0.0, 0.0, 0.0, 0.0, 0.0, 0.0, 0.0, 0.0, 0.0, 0.0, 0.0, 0.0, 0.0, 0.0, 0.0, 0.0, 0.0, 0.0, 0.0, 0.0, 0.0, 0.0, 0.0, 0.0, 0.0, 0.0, 0.0, 0.0, 0.0, 0.0, 0.0, 0.0, 0.0, 0.0, 0.0, 0.0, 0.0, 0.0, 0.0, 0.0, 0.0, 0.0, 0.0, 0.0, 0.0, 0.0, 0.0, 0.0, 0.0, 0.0, 0.0, 0.0, 0.0, 0.0, 0.0, 0.0, 0.0, 0.0, 0.0, 0.0, 0.0, 0.0, 0.0, 0.0, 0.0, 0.0, 0.0, 0.0, 0.0, 0.0, 0.0, 0.0, 0.0, 0.0, 0.0, 0.0, 0.0, 0.0, 0.0, 0.0, 0.0, 0.0, 0.0, 0.0, 0.0, 0.0, 0.0, 0.0, 0.0, 0.0, 0.0, 0.0, 0.0, 0.0, 0.0, 0.0, 0.0, 0.0, 0.0, 0.0, 0.0, 0.0, 0.0, 0.0, 0.0, 0.0, 0.0, 0.0, 0.0, 0.0, 0.0, 0.0, 0.0, 0.0, 0.0, 0.0, 0.0, 0.0, 0.0, 0.0, 0.0, 0.0, 0.0, 0.0, 0.0, 0.0, 0.0, 0.0, 0.0, 0.0, 0.0, 0.0, 0.0, 0.0, 0.0, 0.0, 0.0, 0.0, 0.0, 0.0, 0.0, 0.0, 0.0, 0.0, 0.0, 0.0, 0.0, 0.0, 0.0, 0.0, 0.0, 0.0, 0.0, 0.0, 0.0, 0.0, 0.0, 0.0, 0.0, 0.0, 0.0, 0.0, 0.0, 0.0, 0.0, 0.0, 0.0, 0.0, 0.0, 0.0, 0.0, 0.0, 0.0, 0.0, 0.0, 0.0, 0.0, 0.0, 0.0, 0.0, 0.0, 0.0, 0.0, 0.0, 0.0, 0.0, 0.0, 0.0, 0.0, 0.0, 0.0, 0.0, 0.0, 0.0, 0.0, 0.0, 0.0, 0.0, 0.0, 0.0, 0.0, 0.0, 0.0, 0.0, 0.0, 0.0, 0.0, 0.0, 0.0, 0.0, 0.0, 0.0, 0.0, 0.0, 0.0, 0.0, 0.0, 0.0, 0.0, 0.0, 0.0, 0.0, 0.17740577215656508, 0.0, 0.0, 0.0, 0.0, 0.0, 0.0, 0.0, 0.0, 0.0, 0.0, 0.0, 0.0, 0.0, 0.0, 0.0, 0.0, 0.0, 0.0, 0.0, 0.0, 0.0, 0.0, 0.0, 0.0, 0.0, 0.0, 0.0, 0.0, 0.0, 0.0, 0.0, 0.0, 0.0, 0.0, 0.0, 0.0, 0.0, 0.0, 0.0, 0.0, 0.0, 0.0, 0.0, 0.0, 0.0, 0.0, 0.0, 0.0, 0.0, 0.0, 0.0, 0.0, 0.0, 0.0, 0.0, 0.0, 0.0, 0.0, 0.0, 0.0, 0.0, 0.0, 0.0, 0.0, 0.0, 0.0, 0.0, 0.0, 0.0, 0.0, 0.0, 0.0, 0.0, 0.0, 0.0, 0.0, 0.0, 0.0, 0.0, 0.0, 0.0, 0.0, 0.0, 0.0, 0.0, 0.0, 0.0, 0.0, 0.0, 0.0, 0.0, 0.0, 0.0, 0.0, 0.0, 0.0, 0.0, 0.0, 0.0, 0.0, 0.0, 0.0, 0.0, 0.0, 0.0, 0.0, 0.0, 0.0, 0.0, 0.0, 0.0, 0.0, 0.0, 0.0, 0.0, 0.0, 0.0, 0.0, 0.0, 0.0, 0.0, 0.0, 0.0, 0.0, 0.0, 0.0, 0.0, 0.0, 0.0, 0.0, 0.0, 0.0, 0.0, 0.0, 0.0, 0.0, 0.0, 0.13123069528000356, 0.0, 0.0, 0.0, 0.0, 0.0, 0.0, 0.0, 0.0, 0.0, 0.0, 0.0, 0.0, 0.0, 0.0, 0.0, 0.0, 0.0, 0.0, 0.10184427782228306, 0.0, 0.0, 0.0, 0.0, 0.0, 0.0, 0.0, 0.0, 0.0, 0.0, 0.0, 0.0, 0.0, 0.0, 0.0, 0.0, 0.0, 0.0, 0.0, 0.0, 0.0, 0.0, 0.0, 0.0, 0.0, 0.0, 0.0, 0.0, 0.0, 0.0, 0.0, 0.0, 0.0, 0.0, 0.0, 0.0, 0.0, 0.0, 0.0, 0.0, 0.0, 0.0, 0.0, 0.0, 0.0, 0.0, 0.0, 0.0, 0.0, 0.0, 0.0, 0.0, 0.0, 0.0, 0.0, 0.0, 0.0, 0.0, 0.0, 0.0, 0.0, 0.0, 0.0, 0.0, 0.0, 0.0, 0.0, 0.0, 0.0, 0.0, 0.0, 0.0, 0.0, 0.0, 0.0, 0.0, 0.0, 0.0, 0.0, 0.0, 0.0, 0.0, 0.0, 0.0, 0.0, 0.0, 0.0, 0.0, 0.0, 0.0, 0.0, 0.0, 0.0, 0.0, 0.0, 0.0, 0.0, 0.0, 0.0, 0.0, 0.0, 0.0, 0.0, 0.0, 0.0, 0.0, 0.0, 0.0, 0.0, 0.0, 0.0, 0.0, 0.0, 0.0, 0.11967714211919121, 0.0, 0.0, 0.0, 0.0, 0.0, 0.0, 0.0, 0.0, 0.0, 0.0, 0.0, 0.0, 0.0, 0.0, 0.0, 0.0, 0.0, 0.0, 0.0, 0.0, 0.0, 0.0, 0.0, 0.0, 0.0, 0.0, 0.0, 0.0, 0.0, 0.0, 0.0, 0.0, 0.0, 0.0, 0.0, 0.0, 0.0, 0.0, 0.0, 0.0, 0.0, 0.0, 0.0, 0.0, 0.0, 0.0, 0.0, 0.0, 0.0, 0.0, 0.0, 0.0, 0.0, 0.0, 0.0, 0.0, 0.0, 0.0, 0.0, 0.0, 0.0, 0.0, 0.0, 0.0, 0.0, 0.0, 0.0, 0.0, 0.0, 0.0, 0.0, 0.0, 0.0, 0.0, 0.0, 0.0, 0.0, 0.0, 0.0, 0.0, 0.0, 0.0, 0.0, 0.0, 0.0, 0.0, 0.0, 0.0, 0.11317051840485903, 0.0, 0.0, 0.0, 0.0, 0.0, 0.0, 0.0, 0.0, 0.0, 0.0, 0.0, 0.0, 0.0, 0.0, 0.12884771317795277, 0.0, 0.0, 0.0, 0.0, 0.0, 0.0, 0.0, 0.0, 0.0, 0.0, 0.0, 0.0, 0.0, 0.0, 0.0, 0.0, 0.0, 0.0, 0.0, 0.0, 0.0, 0.0, 0.0, 0.0, 0.0, 0.0, 0.0, 0.0, 0.0, 0.0, 0.0, 0.0, 0.0, 0.0, 0.0, 0.0, 0.0, 0.0, 0.0, 0.0, 0.0, 0.0, 0.0, 0.0, 0.0, 0.0, 0.0, 0.0, 0.0, 0.0, 0.0, 0.0, 0.0, 0.0, 0.1266920436541383, 0.0, 0.0, 0.0, 0.0, 0.0, 0.0, 0.0, 0.0, 0.0, 0.0, 0.0, 0.0, 0.0, 0.0, 0.0, 0.0, 0.0, 0.0, 0.0, 0.0, 0.0, 0.0, 0.0, 0.0, 0.0, 0.0, 0.0, 0.0, 0.0, 0.0, 0.0, 0.0, 0.0, 0.0, 0.0, 0.0, 0.0, 0.0, 0.0, 0.0, 0.0, 0.0, 0.0, 0.0, 0.0, 0.0, 0.0, 0.0, 0.0, 0.0, 0.0, 0.0, 0.0, 0.0, 0.0, 0.0, 0.0, 0.0, 0.0, 0.0, 0.0, 0.0, 0.0, 0.0, 0.0, 0.0, 0.0, 0.0, 0.0, 0.0, 0.0, 0.0, 0.0, 0.0, 0.0, 0.0, 0.0, 0.0, 0.0, 0.0, 0.0, 0.0, 0.0, 0.0, 0.0, 0.0, 0.0, 0.0, 0.0, 0.0, 0.0, 0.0, 0.0, 0.23643489570267842, 0.0, 0.0, 0.0, 0.0, 0.0, 0.0, 0.0, 0.0, 0.0, 0.0, 0.0, 0.0, 0.0, 0.0, 0.31761957059127777, 0.0, 0.0, 0.0, 0.0, 0.0, 0.0, 0.0, 0.0, 0.0, 0.0, 0.0, 0.0, 0.0, 0.0, 0.0, 0.0, 0.0, 0.0, 0.0, 0.0, 0.0, 0.0, 0.0, 0.0, 0.0, 0.0, 0.0, 0.0, 0.0, 0.0, 0.0, 0.0, 0.0, 0.0, 0.0, 0.0, 0.0, 0.0, 0.0, 0.0, 0.0, 0.0, 0.0, 0.0, 0.0, 0.0, 0.0, 0.0, 0.0, 0.0, 0.0, 0.0, 0.0, 0.0, 0.0, 0.0]\n"
     ]
    }
   ],
   "source": [
    "print(assess_vectors[0])"
   ]
  },
  {
   "cell_type": "code",
   "execution_count": 60,
   "id": "6f34e9c0",
   "metadata": {},
   "outputs": [
    {
     "data": {
      "text/plain": [
       "<1x2630 sparse matrix of type '<class 'numpy.float64'>'\n",
       "\twith 38 stored elements in Compressed Sparse Row format>"
      ]
     },
     "execution_count": 60,
     "metadata": {},
     "output_type": "execute_result"
    }
   ],
   "source": [
    "from scipy.sparse import csr_matrix\n",
    "\n",
    "a = csr_matrix(assess_vectors)\n",
    "\n",
    "a[0]"
   ]
  },
  {
   "cell_type": "code",
   "execution_count": 61,
   "id": "817c307f",
   "metadata": {},
   "outputs": [
    {
     "data": {
      "text/plain": [
       "array([   9,   21,   78,  206,  244,  258,  340,  368,  369,  386,  483,\n",
       "        495,  653,  706,  780,  862,  891,  997, 1071, 1140, 1310, 1337,\n",
       "       1379, 1400, 1480, 1537, 1604, 1660, 1672, 2033, 2171, 2190, 2305,\n",
       "       2394, 2409, 2464, 2558, 2573], dtype=int32)"
      ]
     },
     "execution_count": 61,
     "metadata": {},
     "output_type": "execute_result"
    }
   ],
   "source": [
    "a[0].indices"
   ]
  },
  {
   "cell_type": "code",
   "execution_count": 127,
   "id": "6ea4c99e",
   "metadata": {},
   "outputs": [
    {
     "name": "stdout",
     "output_type": "stream",
     "text": [
      "Threshold: 27\n",
      "Number of features present in more than the threshold number of assessment items:  112\n"
     ]
    }
   ],
   "source": [
    "feature_to_item_dict = {}\n",
    "for feature in range(0, len(assess_vectors[0])):\n",
    "    feature_to_item_dict['Feature ' + str(feature)] = 0\n",
    "for item_index in range(0, a.shape[0]):\n",
    "    vector = a[item_index]\n",
    "    indices = vector.indices\n",
    "    for feature_index in indices:\n",
    "        feature_to_item_dict['Feature ' + str(feature_index)] += 1\n",
    "count = 0\n",
    "threshold = int(len(assess_vectors) * 0.025)\n",
    "print('Threshold:', str(threshold))\n",
    "feature_list = []\n",
    "for feature in range(0, len(assess_vectors[0])):\n",
    "    if feature_to_item_dict['Feature ' + str(feature)] >= threshold:\n",
    "        count += 1\n",
    "        feature_list.append(feature)\n",
    "print('Number of features present in more than the threshold number of assessment items: ', str(count))"
   ]
  },
  {
   "cell_type": "code",
   "execution_count": 132,
   "id": "50f1cd6a",
   "metadata": {},
   "outputs": [],
   "source": [
    "new_assess_vectors = vectorizer.fit_transform(orig_assess)"
   ]
  },
  {
   "cell_type": "code",
   "execution_count": 134,
   "id": "cd528b72",
   "metadata": {},
   "outputs": [
    {
     "name": "stdout",
     "output_type": "stream",
     "text": [
      "Cosine Similarity Mean: 0.01697415374681766\n",
      "Cosine Similarity Median: 0.00207989320373701\n",
      "Cosine Similarity Mode: 0.0\n",
      "Cosine Similarity Min: 0.0\n",
      "Cosine Similarity Max: 1.0000000000000002\n",
      "\n",
      "Number of Pairs: 598965\n",
      "Number of Orthogonal Pairs: 81101\n",
      "Percentage of Orthogonal Pairs: 0.13540190161361682\n"
     ]
    },
    {
     "data": {
      "image/png": "[encoded data removed]",
      "text/plain": [
       "<Figure size 432x288 with 1 Axes>"
      ]
     },
     "metadata": {
      "needs_background": "light"
     },
     "output_type": "display_data"
    },
    {
     "name": "stdout",
     "output_type": "stream",
     "text": [
      "Euclidean Distance Mean: 1.4016357514474942\n",
      "Euclidean Distance Median: 1.4127420902601175\n",
      "Euclidean Distance Mode: 1.4142135623730951\n",
      "Euclidean Distance Min: 0.0\n",
      "Euclidean Distance Max: 1.4142135623730954\n"
     ]
    },
    {
     "data": {
      "image/png": "[encoded data removed]",
      "text/plain": [
       "<Figure size 432x288 with 1 Axes>"
      ]
     },
     "metadata": {
      "needs_background": "light"
     },
     "output_type": "display_data"
    }
   ],
   "source": [
    "new_assess_vectors = new_assess_vectors.toarray().tolist()\n",
    "\n",
    "new_assess_pairs = [[a, b] for idx, a in enumerate(new_assess_vectors) for b in new_assess_vectors[idx + 1:]]\n",
    "\n",
    "new_assess_sim_list, new_assess_count, new_assess_dist_list = calculate_pairwise_metrics(new_assess_pairs)\n",
    "print_similarity_statistics(new_assess_sim_list)\n",
    "print('\\nNumber of Pairs:', len(new_assess_pairs))\n",
    "print('Number of Orthogonal Pairs:', new_assess_count)\n",
    "print('Percentage of Orthogonal Pairs:', new_assess_count/len(new_assess_pairs))\n",
    "plot_similarities(new_assess_sim_list)\n",
    "\n",
    "print_distance_statistics(new_assess_dist_list)\n",
    "plot_distances(new_assess_dist_list)"
   ]
  },
  {
   "cell_type": "code",
   "execution_count": 135,
   "id": "a2a45e36",
   "metadata": {},
   "outputs": [
    {
     "data": {
      "image/png": "[encoded data removed]",
      "text/plain": [
       "<Figure size 432x288 with 1 Axes>"
      ]
     },
     "metadata": {
      "needs_background": "light"
     },
     "output_type": "display_data"
    },
    {
     "name": "stdout",
     "output_type": "stream",
     "text": [
      "Best value for k: 241\n",
      "Best Silhouette Score: 0.1141216882503591\n"
     ]
    }
   ],
   "source": [
    "k = 2\n",
    "k_list = []\n",
    "best_k = 2\n",
    "\n",
    "score_list = []\n",
    "best_score = -2.0\n",
    "\n",
    "while k <= 250:\n",
    "    km = KMeans(n_clusters = k, max_iter = 50000, init = 'k-means++', random_state=43)\n",
    "    cluster_assignment = km.fit(new_assess_vectors).labels_\n",
    "    s = silhouette_score(new_assess_vectors, cluster_assignment, metric='euclidean')\n",
    "    if s > best_score:\n",
    "        best_score = s\n",
    "        best_k = k\n",
    "    k_list.append(k)\n",
    "    score_list.append(s)\n",
    "    k += 1\n",
    "    \n",
    "plt.plot(k_list,score_list)\n",
    "plt.title('Number of Clusters versus Silhouette Score')\n",
    "plt.xlabel('Number of Clusters (k)')\n",
    "plt.ylabel('Silhouette Score')\n",
    "plt.show()\n",
    "\n",
    "print('Best value for k:', best_k)\n",
    "print('Best Silhouette Score:', best_score)"
   ]
  },
  {
   "cell_type": "code",
   "execution_count": 136,
   "id": "dc3ad787",
   "metadata": {},
   "outputs": [
    {
     "name": "stdout",
     "output_type": "stream",
     "text": [
      "The minimum number of non-zero entries is:  2\n",
      "The maximum number of non-zero entries is:  85\n",
      "The mean number of non-zero entries is:  16.84931506849315\n"
     ]
    }
   ],
   "source": [
    "def condition(x):\n",
    "   return(x!=0.0)\n",
    "\n",
    "count_list = []\n",
    "for vector in new_assess_vectors:\n",
    "    count_list.append(sum(condition(x) for x in vector))\n",
    "\n",
    "print('The minimum number of non-zero entries is: ', min(count_list))\n",
    "print('The maximum number of non-zero entries is: ', max(count_list))\n",
    "print('The mean number of non-zero entries is: ', mean(count_list))"
   ]
  },
  {
   "cell_type": "code",
   "execution_count": null,
   "id": "c73cbc22",
   "metadata": {},
   "outputs": [],
   "source": []
  },
  {
   "cell_type": "code",
   "execution_count": null,
   "id": "dfd231e7",
   "metadata": {},
   "outputs": [],
   "source": []
  }
 ],
 "metadata": {
  "kernelspec": {
   "display_name": "Python 3",
   "language": "python",
   "name": "python3"
  },
  "language_info": {
   "codemirror_mode": {
    "name": "ipython",
    "version": 3
   },
   "file_extension": ".py",
   "mimetype": "text/x-python",
   "name": "python",
   "nbconvert_exporter": "python",
   "pygments_lexer": "ipython3",
   "version": "3.8.10"
  }
 },
 "nbformat": 4,
 "nbformat_minor": 5
}
