{
 "cells": [
  {
   "cell_type": "markdown",
   "id": "eb0a8b2d",
   "metadata": {},
   "source": [
    "Import the necessary libraries."
   ]
  },
  {
   "cell_type": "code",
   "execution_count": 2,
   "id": "689f5774",
   "metadata": {},
   "outputs": [],
   "source": [
    "import csv\n",
    "import numpy as np\n",
    "from numpy import dot\n",
    "from numpy.linalg import norm\n",
    "from sklearn.feature_extraction.text import TfidfVectorizer\n",
    "from create_input_lists import create_input_lists_from_csv, lemmatize\n",
    "from statistics import mean\n",
    "from sklearn.metrics.pairwise import cosine_similarity, euclidean_distances\n",
    "from statistics import mean, median, mode\n",
    "import matplotlib.pyplot as plt\n",
    "import math\n",
    "from sklearn.cluster import KMeans\n",
    "from sklearn.metrics import silhouette_score\n",
    "from collections import defaultdict, Counter"
   ]
  },
  {
   "cell_type": "markdown",
   "id": "c290ad38",
   "metadata": {},
   "source": [
    "Obtain and pre-process the texts."
   ]
  },
  {
   "cell_type": "code",
   "execution_count": 3,
   "id": "2c90b377",
   "metadata": {},
   "outputs": [],
   "source": [
    "paragraph_path = './OneDrive-2020-12-04/gen_chem/paragraphs.csv'\n",
    "assessment_path = './OneDrive-2020-12-04/gen_chem/assessments.csv'"
   ]
  },
  {
   "cell_type": "code",
   "execution_count": 4,
   "id": "9bb64baf",
   "metadata": {},
   "outputs": [],
   "source": [
    "para_ids, lemm_para, orig_para, assess_ids, lemma_assess, orig_assess = create_input_lists_from_csv(paragraph_path, assessment_path)"
   ]
  },
  {
   "cell_type": "markdown",
   "id": "a45677d2",
   "metadata": {},
   "source": [
    "Obtain the lengths of all assessments and paragraphs."
   ]
  },
  {
   "cell_type": "code",
   "execution_count": 5,
   "id": "3d55163f",
   "metadata": {},
   "outputs": [],
   "source": [
    "assessment_lengths = []\n",
    "for assessment in lemma_assess:\n",
    "    assessment_lengths.append(len(assessment))\n",
    "    \n",
    "paragraph_lengths = []\n",
    "for paragraph in lemm_para:\n",
    "    paragraph_lengths.append(len(paragraph))"
   ]
  },
  {
   "cell_type": "markdown",
   "id": "ac60438d",
   "metadata": {},
   "source": [
    "Output the statistics for the paragraph and assessment lengths."
   ]
  },
  {
   "cell_type": "code",
   "execution_count": 6,
   "id": "39ebf91e",
   "metadata": {},
   "outputs": [
    {
     "name": "stdout",
     "output_type": "stream",
     "text": [
      "Minimum Length of an Assessment: 1\n",
      "Maximum Length of an Assessment: 1262\n",
      "Mean Length of an Assessment: 217.12\n",
      "\n",
      "Minimum Length of a Paragraph: 1\n",
      "Maximum Length of a Paragraph: 1262\n",
      "Mean Length of a Paragraph: 158.30\n"
     ]
    }
   ],
   "source": [
    "min_assessment_length = min(assessment_lengths)\n",
    "max_assessment_length = max(assessment_lengths)\n",
    "mean_assessment_length = 0 if len(assessment_lengths) == 0 else sum(assessment_lengths)/len(assessment_lengths)\n",
    "\n",
    "print('Minimum Length of an Assessment:', min_assessment_length)\n",
    "print('Maximum Length of an Assessment:', max_assessment_length)\n",
    "print(f'Mean Length of an Assessment: {(mean_assessment_length):.2f}\\n')\n",
    "\n",
    "min_paragraph_length = min(paragraph_lengths)\n",
    "max_paragraph_length = max(paragraph_lengths)\n",
    "mean_paragraph_length = 0 if len(paragraph_lengths) == 0 else sum(paragraph_lengths)/len(paragraph_lengths)\n",
    "\n",
    "print('Minimum Length of a Paragraph:', min_paragraph_length)\n",
    "print('Maximum Length of a Paragraph:', max_paragraph_length)\n",
    "print(f'Mean Length of a Paragraph: {(mean_paragraph_length):.2f}')"
   ]
  },
  {
   "cell_type": "markdown",
   "id": "b25882f4",
   "metadata": {},
   "source": [
    "Obtain the TF-IDF vectorization of the texts."
   ]
  },
  {
   "cell_type": "code",
   "execution_count": 4,
   "id": "55c8643f",
   "metadata": {},
   "outputs": [],
   "source": [
    "vectorizer = TfidfVectorizer(use_idf=True, stop_words = 'english')\n",
    "para_vectors = vectorizer.fit_transform(lemm_para)\n",
    "assess_vectors = vectorizer.fit_transform(lemma_assess)"
   ]
  },
  {
   "cell_type": "code",
   "execution_count": 5,
   "id": "7f38768c",
   "metadata": {},
   "outputs": [
    {
     "name": "stdout",
     "output_type": "stream",
     "text": [
      "(2860, 3967)\n",
      "(1275, 2054)\n"
     ]
    }
   ],
   "source": [
    "print(para_vectors.shape)\n",
    "print(assess_vectors.shape)"
   ]
  },
  {
   "cell_type": "code",
   "execution_count": 6,
   "id": "7b71df25",
   "metadata": {},
   "outputs": [],
   "source": [
    "para_nonzero_counts = []\n",
    "for vector in para_vectors:\n",
    "    para_nonzero_counts.append(vector.count_nonzero())\n",
    "\n",
    "assess_nonzero_counts = []\n",
    "for vector in assess_vectors:\n",
    "    assess_nonzero_counts.append(vector.count_nonzero())"
   ]
  },
  {
   "cell_type": "markdown",
   "id": "fee5aefb",
   "metadata": {},
   "source": [
    "Output Summary Statistics of Vectorizations:"
   ]
  },
  {
   "cell_type": "code",
   "execution_count": 7,
   "id": "5f98b22c",
   "metadata": {},
   "outputs": [
    {
     "name": "stdout",
     "output_type": "stream",
     "text": [
      "TF-IDF for Paragraphs:\n",
      "\n",
      "Average Number of Non-Zeros: 14.467832167832167\n",
      "Total # of Dimensions: 3967\n",
      "\n",
      "\n",
      "TF-IDF for Assessments:\n",
      "\n",
      "Average Number of Non-Zeros: 15.054117647058824\n",
      "Total # of Dimensions: 2054\n"
     ]
    }
   ],
   "source": [
    "print('TF-IDF for Paragraphs:\\n')\n",
    "print('Average Number of Non-Zeros:', mean(para_nonzero_counts))\n",
    "print('Total # of Dimensions:', para_vectors.shape[1])\n",
    "\n",
    "\n",
    "print('\\n\\nTF-IDF for Assessments:\\n')\n",
    "print('Average Number of Non-Zeros:', mean(assess_nonzero_counts))\n",
    "print('Total # of Dimensions:', assess_vectors.shape[1])"
   ]
  },
  {
   "cell_type": "code",
   "execution_count": 8,
   "id": "979abec4",
   "metadata": {},
   "outputs": [],
   "source": [
    "def plot_distances(distances_list):\n",
    "    plt.hist(distances_list, rwidth = 0.8, bins=np.arange(min(distances_list), max(distances_list) + 0.01, 0.01))\n",
    "    plt.xlabel('Pairwise Distance',fontsize=10)\n",
    "    plt.ylabel('Frequency',fontsize=10)\n",
    "    plt.xticks(fontsize=6)\n",
    "    plt.yticks(fontsize=6)\n",
    "    plt.xticks(np.arange(min(distances_list), max(distances_list)+0.1, 0.1))\n",
    "    plt.grid()\n",
    "    plt.show()\n",
    "    \n",
    "def plot_similarities(cos_sim_list):\n",
    "    plt.hist(cos_sim_list, rwidth = 0.8, bins=np.arange(min(cos_sim_list), max(cos_sim_list) + 0.01, 0.01))\n",
    "    plt.xlabel('Pairwise Cosine Similarity',fontsize=10)\n",
    "    plt.ylabel('Frequency',fontsize=10)\n",
    "    plt.xticks(fontsize=6)\n",
    "    plt.yticks(fontsize=6)\n",
    "    plt.xticks(np.arange(min(cos_sim_list), max(cos_sim_list)+0.1, 0.1))\n",
    "    plt.grid()\n",
    "    plt.show()\n",
    "    \n",
    "def calculate_pairwise_metrics(pairs):    \n",
    "    cos_sim_list = []\n",
    "    dist_list = []\n",
    "    orthogonal_count = 0\n",
    "    for pair in pairs:\n",
    "        a,b = pair\n",
    "        a = np.array(a)\n",
    "        b = np.array(b)\n",
    "        cos_sim = dot(a, b)/(norm(a)*norm(b))\n",
    "        cos_sim_list.append(cos_sim)\n",
    "\n",
    "        if cos_sim == 0:\n",
    "            orthogonal_count += 1\n",
    "\n",
    "        dist = norm(a - b)\n",
    "        dist_list.append(dist)\n",
    "    \n",
    "    return(cos_sim_list, orthogonal_count, dist_list)\n",
    "\n",
    "def print_similarity_statistics(sim_list):\n",
    "    sim_list = [x for x in sim_list if math.isnan(x) == False]\n",
    "    print('Cosine Similarity Mean:', mean(sim_list))\n",
    "    print('Cosine Similarity Median:', median(sim_list))\n",
    "    print('Cosine Similarity Mode:', mode(sim_list))\n",
    "    print('Cosine Similarity Min:', min(sim_list))\n",
    "    print('Cosine Similarity Max:', max(sim_list))\n",
    "    \n",
    "def print_distance_statistics(dist_list):\n",
    "    dist_list = [x for x in dist_list if math.isnan(x) == False]\n",
    "    print('Euclidean Distance Mean:', mean(dist_list))\n",
    "    print('Euclidean Distance Median:', median(dist_list))\n",
    "    print('Euclidean Distance Mode:', mode(dist_list))\n",
    "    print('Euclidean Distance Min:', min(dist_list))\n",
    "    print('Euclidean Distance Max:', max(dist_list))"
   ]
  },
  {
   "cell_type": "code",
   "execution_count": 9,
   "id": "524eb072",
   "metadata": {},
   "outputs": [
    {
     "name": "stderr",
     "output_type": "stream",
     "text": [
      "<ipython-input-8-e90b1626ce59>:29: RuntimeWarning: invalid value encountered in double_scalars\n",
      "  cos_sim = dot(a, b)/(norm(a)*norm(b))\n"
     ]
    },
    {
     "name": "stdout",
     "output_type": "stream",
     "text": [
      "Cosine Similarity Mean: 0.02345201154690224\n",
      "Cosine Similarity Median: 0.0\n",
      "Cosine Similarity Mode: 0.0\n",
      "Cosine Similarity Min: 0.0\n",
      "Cosine Similarity Max: 1.0000000000000002\n",
      "\n",
      "Number of Pairs: 4088370\n",
      "Number of Orthogonal Pairs: 2956165\n"
     ]
    },
    {
     "data": {
      "image/png": "[encoded data removed]",
      "text/plain": [
       "<Figure size 432x288 with 1 Axes>"
      ]
     },
     "metadata": {
      "needs_background": "light"
     },
     "output_type": "display_data"
    },
    {
     "name": "stdout",
     "output_type": "stream",
     "text": [
      "Euclidean Distance Mean: 1.362302624815099\n",
      "Euclidean Distance Median: 1.4142135623730951\n",
      "Euclidean Distance Mode: 1.4142135623730951\n",
      "Euclidean Distance Min: 0.0\n",
      "Euclidean Distance Max: 1.4142135623730956\n"
     ]
    },
    {
     "data": {
      "image/png": "[encoded data removed]",
      "text/plain": [
       "<Figure size 432x288 with 1 Axes>"
      ]
     },
     "metadata": {
      "needs_background": "light"
     },
     "output_type": "display_data"
    }
   ],
   "source": [
    "para_vectors = para_vectors.toarray().tolist()\n",
    "\n",
    "para_pairs = [[a, b] for idx, a in enumerate(para_vectors) for b in para_vectors[idx + 1:]]\n",
    "\n",
    "para_sim_list, para_count, para_dist_list = calculate_pairwise_metrics(para_pairs)\n",
    "print_similarity_statistics(para_sim_list)\n",
    "print('\\nNumber of Pairs:', len(para_pairs))\n",
    "print('Number of Orthogonal Pairs:', para_count)\n",
    "plot_similarities(para_sim_list)\n",
    "\n",
    "print_distance_statistics(para_dist_list)\n",
    "plot_distances(para_dist_list)"
   ]
  },
  {
   "cell_type": "code",
   "execution_count": 10,
   "id": "2d879122",
   "metadata": {},
   "outputs": [
    {
     "name": "stderr",
     "output_type": "stream",
     "text": [
      "<ipython-input-8-e90b1626ce59>:29: RuntimeWarning: invalid value encountered in double_scalars\n",
      "  cos_sim = dot(a, b)/(norm(a)*norm(b))\n"
     ]
    },
    {
     "name": "stdout",
     "output_type": "stream",
     "text": [
      "Cosine Similarity Mean: 0.05454221113602793\n",
      "Cosine Similarity Median: 0.0\n",
      "Cosine Similarity Mode: 0.0\n",
      "Cosine Similarity Min: 0.0\n",
      "Cosine Similarity Max: 1.0000000000000002\n",
      "\n",
      "Number of Pairs: 812175\n",
      "Number of Orthogonal Pairs: 480791\n",
      "Percentage of Orthogonal Pairs: 0.5919795610551913\n"
     ]
    },
    {
     "data": {
      "image/png": "[encoded data removed]",
      "text/plain": [
       "<Figure size 432x288 with 1 Axes>"
      ]
     },
     "metadata": {
      "needs_background": "light"
     },
     "output_type": "display_data"
    },
    {
     "name": "stdout",
     "output_type": "stream",
     "text": [
      "Euclidean Distance Mean: 1.3699166113819525\n",
      "Euclidean Distance Median: 1.414213562373095\n",
      "Euclidean Distance Mode: 1.4142135623730951\n",
      "Euclidean Distance Min: 0.0\n",
      "Euclidean Distance Max: 1.4142135623730956\n"
     ]
    },
    {
     "data": {
      "image/png": "[encoded data removed]",
      "text/plain": [
       "<Figure size 432x288 with 1 Axes>"
      ]
     },
     "metadata": {
      "needs_background": "light"
     },
     "output_type": "display_data"
    }
   ],
   "source": [
    "assess_vectors = assess_vectors.toarray().tolist()\n",
    "\n",
    "assess_pairs = [[a, b] for idx, a in enumerate(assess_vectors) for b in assess_vectors[idx + 1:]]\n",
    "\n",
    "assess_sim_list, assess_count, assess_dist_list = calculate_pairwise_metrics(assess_pairs)\n",
    "print_similarity_statistics(assess_sim_list)\n",
    "print('\\nNumber of Pairs:', len(assess_pairs))\n",
    "print('Number of Orthogonal Pairs:', assess_count)\n",
    "print('Percentage of Orthogonal Pairs:', assess_count/len(assess_pairs))\n",
    "plot_similarities(assess_sim_list)\n",
    "\n",
    "print_distance_statistics(assess_dist_list)\n",
    "plot_distances(assess_dist_list)"
   ]
  },
  {
   "cell_type": "code",
   "execution_count": 11,
   "id": "aa43c13d",
   "metadata": {},
   "outputs": [
    {
     "name": "stdout",
     "output_type": "stream",
     "text": [
      "0.10021770218102821\n"
     ]
    }
   ],
   "source": [
    "km = KMeans(n_clusters = 200, max_iter = 50000, init = 'k-means++')\n",
    "cluster_assignment = km.fit(assess_vectors).labels_\n",
    "s = silhouette_score(assess_vectors, cluster_assignment, metric='euclidean')\n",
    "print(s)"
   ]
  },
  {
   "cell_type": "code",
   "execution_count": 12,
   "id": "351186c0",
   "metadata": {},
   "outputs": [
    {
     "name": "stdout",
     "output_type": "stream",
     "text": [
      " What are the spectator ions in the complete ionic equation below? $$2\\mathrm{Na}^+(\\mathrm{aq})\\;+2\\mathrm{Cl}^-(aq)+2{\\mathrm H}_2\\mathrm O(l)\\;\\rightarrow\\;\\;2\\mathrm{Na}^+(\\mathrm{aq})\\;+\\;2\\mathrm{OH}^-(aq)+{\\mathrm H}_2(g)+{\\mathrm{Cl}}_2(g)$$ $$\\mathrm{Na}^+(\\mathrm{aq})$$ Correct _ Spectator ions are those ions that remain unchanged from the reactant to the product side of the equation _ Spectator ions are exactly the same on both sides of the equation.. Which of the following is the balanced net ionic equation for the complete ionic equation below? $$2\\mathrm{Na}^+(\\mathrm{aq})\\;+2\\mathrm{Cl}^-(aq)+2{\\mathrm H}_2\\mathrm O(l)\\;\\rightarrow\\;\\;2\\mathrm{Na}^+(\\mathrm{aq})\\;+\\;2\\mathrm{OH}^-(aq)+{\\mathrm H}_2(g)+{\\mathrm{Cl}}_2(g)$$ $$2\\mathrm{Cl}^-(aq)+2{\\mathrm H}_2\\mathrm O(l)\\;\\rightarrow\\;2\\mathrm{OH}^-(aq)+{\\mathrm H}_2(g)+{\\mathrm{Cl}}_2(g)$$ Correct _ Remove the spectator ions from the complete ionic equation to obtain the net ionic equation _ Remove spectator ions _ Keep coefficients of all other ions and formulas the same.. Write the complete ionic equation for the following molecular equation on your own paper _ Once you have the complete ionic equation, identify the spectator ions _ $${\\mathrm K}_2{\\mathrm C}_2{\\mathrm O}_4(aq)+\\mathrm{Ba}(\\mathrm{OH})_2(aq)\\longrightarrow2\\mathrm{KOH}(aq)+{\\mathrm{BaC}}_2{\\mathrm O}_2(s)$$ $$\\mathrm K^+(\\mathrm{aq})\\;\\text{and}\\;\\mathrm{OH}^-(\\mathrm{aq})$$ Correct _ Spectator ions are those ions that remain unchanged from the reactant to the product side of the equation _ Spectator ions are those ions that remain unchanged from the reactant to the product side of the equation.. Which of the following is the balanced net ionic equation for the complete ionic equation below? $$2\\mathrm K^+(aq)+C_2O_4^{2-}(aq)+\\mathrm{Ba}^{2+}(aq)+2\\mathrm{OH}^-(aq)\\longrightarrow2K^+(aq)+2\\mathrm{OH}^-(aq)+BaC_2{\\mathrm O}_2(s)$$ $${\\mathrm C}_2{\\mathrm O}_4^{2-}(aq)+\\mathrm{Ba}^{2+}(aq)\\longrightarrow{\\mathrm{BaC}}_2{\\mathrm O}_2(s)$$ Correct _ Remove the spectator ions from the complete ionic equation to obtain the net ionic equation.. For the following equation, write the complete ionic equation on your own paper, identify the spectator ions and then choose the correct net ionic equation from the choices below _ $$\\mathrm{Ba}({\\mathrm{NO}}_3)_2(aq)\\;+\\;{\\mathrm{Na}}_2{\\mathrm{CO}}_3(aq)\\;\\;\\rightarrow\\;{\\mathrm{BaCO}}_3(s)\\;+\\;2\\;{\\mathrm{NaNO}}_3(aq)$$ $$\\mathrm{Ba}^{2+}(aq)\\;+\\;\\mathrm{CO}_3^{2-}(aq)\\;\\;\\rightarrow\\;{\\mathrm{BaCO}}_3(s)$$ Correct _ The Na+ and the NO3− are the spectator ions.. For the following equation, write the complete ionic equation on your own paper, identify the spectator ions and then choose the correct net ionic equation from the choices below _ $$\\mathrm{Zn}(s)\\;+\\;2\\;{\\mathrm{AgNO}}_3(aq)\\;\\rightarrow\\;\\mathrm{Zn}({\\mathrm{NO}}_3)_2(aq)\\;+\\;2\\;\\mathrm{Ag}(s)$$ $$\\mathrm{Zn}(s)\\;+\\;2\\;\\mathrm{Ag}^+(aq)\\;\\rightarrow\\;\\mathrm{Zn}^{2+}(aq)\\;+\\;2\\;\\mathrm{Ag}(s)$$ Correct _ The NO3− ion is the spectator ion in this equation..  Question 6 Which of the following represents the net ionic equation for the reaction between barium chlorate and sulfuric acid? Ba2+(aq) + SO42−(aq) → BaSO4(s) Correct _ The complete ionic equation is Ba2+(aq) + 2ClO4−(aq) + 2H+(aq) + SO42−(aq) → BaSO4(s) + 2H+(aq) + 2ClO4−(aq) _ This net ionic equation removes the spectator ions, ClO4− and H+ from both sides of the equation.. Which of the following represents the molecular equation for this equation? K2CO3(s) + 2 HCl(aq) → CO2(g) + H2O(l) + 2 KCl(aq) Correct. Which of the following represents the net ionic equation for this reaction? K2CO3(s) + 2 H+(aq) → CO2(g) + H2O(l) + 2K+(aq) Correct _ Cl− is the spectator ion and it is removed to write the net ionic equation.. What is (are) the spectator ion(s) in this reaction? Cl- Correct _ K+ is the only ion that is the same on both sides of the equation when it is written in complete ionic form _ It may be helpful to write out the complete ionic equation.. \n"
     ]
    }
   ],
   "source": [
    "clusterIndex_to_clusteredText1 = defaultdict(lambda: \" \")\n",
    "text_id1_to_clusterIndex = dict()\n",
    "\n",
    "for i, clusterIndex in enumerate(cluster_assignment): # len(cluster_assignment) is equal to len(vectors)\n",
    "    clusterIndex_to_clusteredText1[clusterIndex] += orig_assess[i] + \". \" \n",
    "    text_id1_to_clusterIndex[assess_ids[i]] = clusterIndex\n",
    "    \n",
    "print(clusterIndex_to_clusteredText1[0])"
   ]
  },
  {
   "cell_type": "code",
   "execution_count": 13,
   "id": "38ecb921",
   "metadata": {},
   "outputs": [
    {
     "name": "stdout",
     "output_type": "stream",
     "text": [
      "<class 'collections.defaultdict'>\n"
     ]
    }
   ],
   "source": [
    "print(type(clusterIndex_to_clusteredText1))"
   ]
  },
  {
   "cell_type": "code",
   "execution_count": 14,
   "id": "a1fcbcea",
   "metadata": {},
   "outputs": [
    {
     "name": "stderr",
     "output_type": "stream",
     "text": [
      "<ipython-input-8-e90b1626ce59>:29: RuntimeWarning: invalid value encountered in double_scalars\n",
      "  cos_sim = dot(a, b)/(norm(a)*norm(b))\n"
     ]
    },
    {
     "name": "stdout",
     "output_type": "stream",
     "text": [
      "Cosine Similarity Mean: 0.052417035695202625\n",
      "Cosine Similarity Median: 0.0\n",
      "Cosine Similarity Mode: 0.0\n",
      "Cosine Similarity Min: 0.0\n",
      "Cosine Similarity Max: 0.9617053721640573\n",
      "\n",
      "Number of Pairs: 777455\n",
      "Number of Orthogonal Pairs: 462182\n",
      "Percentage of Orthogonal Pairs: 0.5944807094944402\n"
     ]
    },
    {
     "data": {
      "image/png": "[encoded data removed]",
      "text/plain": [
       "<Figure size 432x288 with 1 Axes>"
      ]
     },
     "metadata": {
      "needs_background": "light"
     },
     "output_type": "display_data"
    },
    {
     "name": "stdout",
     "output_type": "stream",
     "text": [
      "Euclidean Distance Mean: 1.3721397136583162\n",
      "Euclidean Distance Median: 1.414213562373095\n",
      "Euclidean Distance Mode: 1.4142135623730951\n",
      "Euclidean Distance Min: 0.2767476389635252\n",
      "Euclidean Distance Max: 1.4142135623730956\n"
     ]
    },
    {
     "data": {
      "image/png": "[encoded data removed]",
      "text/plain": [
       "<Figure size 432x288 with 1 Axes>"
      ]
     },
     "metadata": {
      "needs_background": "light"
     },
     "output_type": "display_data"
    }
   ],
   "source": [
    "assess_pair_ids = [[a, b] for idx, a in enumerate(assess_ids) for b in assess_ids[idx + 1:]]\n",
    "\n",
    "inter_cluster_pairs = []\n",
    "for index in range(0,len(assess_pairs)):\n",
    "    a, b = assess_pairs[index]\n",
    "    a_id, b_id = assess_pair_ids[index]\n",
    "    a_cluster = text_id1_to_clusterIndex[a_id]\n",
    "    b_cluster = text_id1_to_clusterIndex[b_id]\n",
    "    if a_cluster != b_cluster:\n",
    "        inter_cluster_pairs.append([a,b])\n",
    "    \n",
    "cluster_sim_list, cluster_count, cluster_dist_list = calculate_pairwise_metrics(inter_cluster_pairs)\n",
    "print_similarity_statistics(cluster_sim_list)\n",
    "print('\\nNumber of Pairs:', len(inter_cluster_pairs))\n",
    "print('Number of Orthogonal Pairs:', cluster_count)\n",
    "print('Percentage of Orthogonal Pairs:', cluster_count/len(inter_cluster_pairs))\n",
    "plot_similarities(cluster_sim_list)\n",
    "\n",
    "print_distance_statistics(cluster_dist_list)\n",
    "plot_distances(cluster_dist_list)"
   ]
  },
  {
   "cell_type": "code",
   "execution_count": 15,
   "id": "dae1dd21",
   "metadata": {},
   "outputs": [
    {
     "name": "stderr",
     "output_type": "stream",
     "text": [
      "<ipython-input-8-e90b1626ce59>:29: RuntimeWarning: invalid value encountered in double_scalars\n",
      "  cos_sim = dot(a, b)/(norm(a)*norm(b))\n"
     ]
    },
    {
     "name": "stdout",
     "output_type": "stream",
     "text": [
      "Cosine Similarity Mean: 0.10267265218626535\n",
      "Cosine Similarity Median: 0.0\n",
      "Cosine Similarity Mode: 0.0\n",
      "Cosine Similarity Min: 0.0\n",
      "Cosine Similarity Max: 1.0000000000000002\n",
      "\n",
      "Number of Pairs: 34720\n",
      "Number of Orthogonal Pairs: 18609\n",
      "Percentage of Orthogonal Pairs: 0.5359735023041474\n"
     ]
    },
    {
     "data": {
      "image/png": "[encoded data removed]",
      "text/plain": [
       "<Figure size 432x288 with 1 Axes>"
      ]
     },
     "metadata": {
      "needs_background": "light"
     },
     "output_type": "display_data"
    },
    {
     "name": "stdout",
     "output_type": "stream",
     "text": [
      "Euclidean Distance Mean: 1.3201366004294666\n",
      "Euclidean Distance Median: 1.414213562373095\n",
      "Euclidean Distance Mode: 1.4142135623730951\n",
      "Euclidean Distance Min: 0.0\n",
      "Euclidean Distance Max: 1.4142135623730954\n"
     ]
    },
    {
     "data": {
      "image/png": "[encoded data removed]",
      "text/plain": [
       "<Figure size 432x288 with 1 Axes>"
      ]
     },
     "metadata": {
      "needs_background": "light"
     },
     "output_type": "display_data"
    }
   ],
   "source": [
    "intra_cluster_pairs = []\n",
    "for index in range(0,len(assess_pairs)):\n",
    "    a, b = assess_pairs[index]\n",
    "    a_id, b_id = assess_pair_ids[index]\n",
    "    a_cluster = text_id1_to_clusterIndex[a_id]\n",
    "    b_cluster = text_id1_to_clusterIndex[b_id]\n",
    "    if a_cluster == b_cluster:\n",
    "        intra_cluster_pairs.append([a,b])\n",
    "    \n",
    "cluster_sim_list, cluster_count, cluster_dist_list = calculate_pairwise_metrics(intra_cluster_pairs)\n",
    "print_similarity_statistics(cluster_sim_list)\n",
    "print('\\nNumber of Pairs:', len(intra_cluster_pairs))\n",
    "print('Number of Orthogonal Pairs:', cluster_count)\n",
    "print('Percentage of Orthogonal Pairs:', cluster_count/len(intra_cluster_pairs))\n",
    "plot_similarities(cluster_sim_list)\n",
    "\n",
    "print_distance_statistics(cluster_dist_list)\n",
    "plot_distances(cluster_dist_list)"
   ]
  },
  {
   "cell_type": "code",
   "execution_count": 16,
   "id": "28f374b3",
   "metadata": {},
   "outputs": [
    {
     "data": {
      "text/plain": [
       "Counter({137: 243,\n",
       "         107: 1,\n",
       "         89: 3,\n",
       "         92: 1,\n",
       "         152: 3,\n",
       "         68: 4,\n",
       "         186: 2,\n",
       "         184: 4,\n",
       "         134: 4,\n",
       "         188: 4,\n",
       "         167: 7,\n",
       "         95: 3,\n",
       "         20: 4,\n",
       "         194: 4,\n",
       "         34: 3,\n",
       "         189: 3,\n",
       "         174: 5,\n",
       "         80: 40,\n",
       "         71: 1,\n",
       "         156: 2,\n",
       "         75: 5,\n",
       "         124: 3,\n",
       "         110: 4,\n",
       "         79: 1,\n",
       "         84: 2,\n",
       "         39: 13,\n",
       "         159: 3,\n",
       "         11: 1,\n",
       "         158: 6,\n",
       "         52: 3,\n",
       "         15: 8,\n",
       "         198: 3,\n",
       "         19: 3,\n",
       "         41: 8,\n",
       "         99: 12,\n",
       "         126: 1,\n",
       "         78: 2,\n",
       "         133: 7,\n",
       "         67: 2,\n",
       "         18: 4,\n",
       "         108: 2,\n",
       "         171: 2,\n",
       "         168: 2,\n",
       "         61: 10,\n",
       "         58: 15,\n",
       "         22: 1,\n",
       "         190: 3,\n",
       "         128: 2,\n",
       "         104: 4,\n",
       "         25: 6,\n",
       "         160: 2,\n",
       "         59: 3,\n",
       "         10: 48,\n",
       "         123: 7,\n",
       "         55: 12,\n",
       "         139: 1,\n",
       "         172: 2,\n",
       "         72: 37,\n",
       "         197: 4,\n",
       "         62: 2,\n",
       "         170: 2,\n",
       "         143: 3,\n",
       "         120: 2,\n",
       "         24: 3,\n",
       "         187: 14,\n",
       "         153: 5,\n",
       "         66: 3,\n",
       "         1: 6,\n",
       "         98: 3,\n",
       "         132: 3,\n",
       "         183: 2,\n",
       "         173: 5,\n",
       "         112: 5,\n",
       "         101: 2,\n",
       "         140: 15,\n",
       "         199: 3,\n",
       "         76: 4,\n",
       "         144: 1,\n",
       "         0: 10,\n",
       "         105: 6,\n",
       "         46: 5,\n",
       "         135: 8,\n",
       "         23: 1,\n",
       "         122: 6,\n",
       "         86: 5,\n",
       "         7: 4,\n",
       "         54: 8,\n",
       "         31: 1,\n",
       "         191: 8,\n",
       "         113: 2,\n",
       "         36: 1,\n",
       "         138: 4,\n",
       "         50: 5,\n",
       "         47: 7,\n",
       "         145: 2,\n",
       "         131: 4,\n",
       "         155: 4,\n",
       "         179: 4,\n",
       "         49: 16,\n",
       "         106: 6,\n",
       "         56: 12,\n",
       "         127: 1,\n",
       "         177: 7,\n",
       "         42: 3,\n",
       "         33: 7,\n",
       "         13: 1,\n",
       "         149: 2,\n",
       "         93: 2,\n",
       "         164: 5,\n",
       "         178: 4,\n",
       "         3: 1,\n",
       "         102: 2,\n",
       "         100: 6,\n",
       "         195: 3,\n",
       "         196: 7,\n",
       "         115: 2,\n",
       "         85: 6,\n",
       "         37: 6,\n",
       "         176: 3,\n",
       "         6: 17,\n",
       "         118: 15,\n",
       "         28: 14,\n",
       "         175: 6,\n",
       "         64: 6,\n",
       "         8: 8,\n",
       "         162: 2,\n",
       "         103: 2,\n",
       "         82: 1,\n",
       "         141: 4,\n",
       "         87: 5,\n",
       "         53: 4,\n",
       "         129: 2,\n",
       "         63: 3,\n",
       "         161: 8,\n",
       "         91: 4,\n",
       "         21: 6,\n",
       "         169: 4,\n",
       "         26: 13,\n",
       "         117: 5,\n",
       "         9: 2,\n",
       "         65: 5,\n",
       "         147: 3,\n",
       "         165: 4,\n",
       "         111: 2,\n",
       "         151: 4,\n",
       "         109: 5,\n",
       "         17: 6,\n",
       "         181: 3,\n",
       "         96: 2,\n",
       "         27: 12,\n",
       "         125: 2,\n",
       "         90: 2,\n",
       "         12: 13,\n",
       "         29: 4,\n",
       "         5: 8,\n",
       "         32: 8,\n",
       "         35: 3,\n",
       "         74: 3,\n",
       "         148: 6,\n",
       "         45: 5,\n",
       "         2: 4,\n",
       "         157: 5,\n",
       "         83: 11,\n",
       "         40: 3,\n",
       "         193: 3,\n",
       "         163: 6,\n",
       "         73: 10,\n",
       "         192: 2,\n",
       "         14: 2,\n",
       "         4: 10,\n",
       "         81: 5,\n",
       "         185: 3,\n",
       "         51: 9,\n",
       "         154: 4,\n",
       "         38: 4,\n",
       "         70: 4,\n",
       "         130: 2,\n",
       "         180: 2,\n",
       "         142: 6,\n",
       "         16: 5,\n",
       "         48: 9,\n",
       "         146: 3,\n",
       "         30: 2,\n",
       "         77: 3,\n",
       "         136: 2,\n",
       "         114: 2,\n",
       "         166: 2,\n",
       "         116: 1,\n",
       "         44: 6,\n",
       "         97: 2,\n",
       "         182: 3,\n",
       "         43: 5,\n",
       "         57: 2,\n",
       "         94: 3,\n",
       "         88: 4,\n",
       "         119: 3,\n",
       "         69: 3,\n",
       "         150: 5,\n",
       "         60: 2,\n",
       "         121: 7})"
      ]
     },
     "execution_count": 16,
     "metadata": {},
     "output_type": "execute_result"
    }
   ],
   "source": [
    "Counter(cluster_assignment)"
   ]
  },
  {
   "cell_type": "code",
   "execution_count": 18,
   "id": "7fd936e6",
   "metadata": {},
   "outputs": [],
   "source": [
    "k = 2\n",
    "k_list = []\n",
    "best_k = 75\n",
    "\n",
    "score_list = []\n",
    "best_score = -2.0\n",
    "\n",
    "while k <= 500:\n",
    "    km = KMeans(n_clusters = k, max_iter = 50000, init = 'k-means++', random_state=43)\n",
    "    cluster_assignment = km.fit(assess_vectors).labels_\n",
    "    s = silhouette_score(assess_vectors, cluster_assignment, metric='euclidean')\n",
    "    if s > best_score:\n",
    "        best_score = s\n",
    "        best_k = k\n",
    "    k_list.append(k)\n",
    "    score_list.append(s)\n",
    "    k += 1"
   ]
  },
  {
   "cell_type": "code",
   "execution_count": 19,
   "id": "e2ca47b9",
   "metadata": {},
   "outputs": [
    {
     "data": {
      "image/png": "[encoded data removed]",
      "text/plain": [
       "<Figure size 432x288 with 1 Axes>"
      ]
     },
     "metadata": {
      "needs_background": "light"
     },
     "output_type": "display_data"
    }
   ],
   "source": [
    "plt.plot(k_list,score_list)\n",
    "plt.title('Number of Clusters versus Silhouette Score')\n",
    "plt.xlabel('Number of Clusters (k)')\n",
    "plt.ylabel('Silhouette Score')\n",
    "plt.show()"
   ]
  },
  {
   "cell_type": "code",
   "execution_count": 20,
   "id": "41bc8eb1",
   "metadata": {},
   "outputs": [
    {
     "name": "stdout",
     "output_type": "stream",
     "text": [
      "Best value for k: 479\n",
      "Best Silhouette Score: 0.13378655856065\n"
     ]
    }
   ],
   "source": [
    "print('Best value for k:', best_k)\n",
    "print('Best Silhouette Score:', best_score)"
   ]
  },
  {
   "cell_type": "code",
   "execution_count": 22,
   "id": "9ee8022c",
   "metadata": {},
   "outputs": [],
   "source": [
    "runs = 0\n",
    "assignment_list = []\n",
    "while runs < 10:\n",
    "    km = KMeans(n_clusters = 200, max_iter = 50000, init = 'k-means++')\n",
    "    cluster_assignment = km.fit(assess_vectors).labels_\n",
    "    runs  += 1\n",
    "    assignment_list.append(cluster_assignment)\n",
    "\n",
    "clustering_pairs = [[a, b] for idx, a in enumerate(assignment_list) for b in assignment_list[idx + 1:]]\n",
    "\n",
    "pair_numbers = []\n",
    "for number in range(0,10):\n",
    "    for another_number in range(0,10):\n",
    "        if another_number > number: \n",
    "            pair_numbers.append([number+1, another_number+1])\n",
    "\n",
    "from sklearn.metrics.cluster import adjusted_mutual_info_score\n",
    "\n",
    "ami_score_list = []\n",
    "for index in range(0, len(clustering_pairs)):\n",
    "    label = 'Comparing Run ' + str(pair_numbers[index][0]) + ' and Run ' + str(pair_numbers[index][1])\n",
    "    ami_score = adjusted_mutual_info_score(clustering_pairs[index][0], clustering_pairs[index][1])\n",
    "    ami_score_list.append([label, ami_score])\n",
    "    \n",
    "import csv\n",
    "\n",
    "with open(\"../../../OneDrive/SMART/Jesse_2021/StoryBoards/SMART_cluster_assignment_OLI General Chemistry I_tfidf.csv\",\"w+\") as my_csv:\n",
    "    newarray = csv.writer(my_csv,delimiter=',')\n",
    "    newarray.writerows(assignment_list)\n",
    "    newarray.writerows(ami_score_list)"
   ]
  },
  {
   "cell_type": "code",
   "execution_count": null,
   "id": "0746add1",
   "metadata": {},
   "outputs": [],
   "source": []
  }
 ],
 "metadata": {
  "kernelspec": {
   "display_name": "Python 3",
   "language": "python",
   "name": "python3"
  },
  "language_info": {
   "codemirror_mode": {
    "name": "ipython",
    "version": 3
   },
   "file_extension": ".py",
   "mimetype": "text/x-python",
   "name": "python",
   "nbconvert_exporter": "python",
   "pygments_lexer": "ipython3",
   "version": "3.8.10"
  }
 },
 "nbformat": 4,
 "nbformat_minor": 5
}
