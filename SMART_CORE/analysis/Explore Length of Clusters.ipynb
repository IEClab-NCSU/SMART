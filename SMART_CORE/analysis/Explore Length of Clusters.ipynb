{
 "cells": [
  {
   "cell_type": "markdown",
   "id": "bd3be88d",
   "metadata": {},
   "source": [
    "Import the necessary libraries."
   ]
  },
  {
   "cell_type": "code",
   "execution_count": 1,
   "id": "6d01a696",
   "metadata": {},
   "outputs": [],
   "source": [
    "import csv\n",
    "import sys\n",
    "from transformers import BertModel, BertConfig, BertTokenizer\n",
    "import os\n",
    "from create_input_lists import lemmatize\n",
    "import matplotlib.pyplot as plt"
   ]
  },
  {
   "cell_type": "markdown",
   "id": "0517bca9",
   "metadata": {},
   "source": [
    "Create the BERT tokenizer."
   ]
  },
  {
   "cell_type": "code",
   "execution_count": 2,
   "id": "aa386cb1",
   "metadata": {},
   "outputs": [],
   "source": [
    "model_path = 'bert-base-uncased'\n",
    "tokenizer = BertTokenizer.from_pretrained(model_path)"
   ]
  },
  {
   "cell_type": "markdown",
   "id": "c3cbac02",
   "metadata": {},
   "source": [
    "Read the text data from file and process it."
   ]
  },
  {
   "cell_type": "code",
   "execution_count": 3,
   "id": "32b6b8ba",
   "metadata": {},
   "outputs": [],
   "source": [
    "csv.field_size_limit(sys.maxsize)\n",
    "\n",
    "filepaths = ['./Clusters/1_assessmentClusters_skill_5_second_tfidf_5_assessment.csv',\n",
    "            './Clusters/1_assessmentClusters_skill_39_second_tfidf_50_assessment.csv',\n",
    "            './Clusters/1_assessmentClusters_skill_73_second_tfidf_100_assessment.csv',\n",
    "            './Clusters/1_assessmentClusters_skill_110_second_tfidf_150_assessment.csv']\n",
    "\n",
    "clusterTexts = []\n",
    "for filepath in filepaths:\n",
    "    with open(filepath, 'r') as csvfile:\n",
    "        csv_reader = csv.reader(csvfile)\n",
    "        for row in csv_reader:\n",
    "            clusterTexts.append(row[2])\n",
    "            \n",
    "clusteredLemmatizedTexts = []\n",
    "for cluster in clusterTexts:\n",
    "    clusteredLemmatizedTexts.append(lemmatize(cluster))"
   ]
  },
  {
   "cell_type": "markdown",
   "id": "cc03cad5",
   "metadata": {},
   "source": [
    "Tokenize the lemmatized texts (assessments and paragraphs)."
   ]
  },
  {
   "cell_type": "code",
   "execution_count": 4,
   "id": "4761fa83",
   "metadata": {},
   "outputs": [
    {
     "name": "stderr",
     "output_type": "stream",
     "text": [
      "Token indices sequence length is longer than the specified maximum sequence length for this model (4172 > 512). Running this sequence through the model will result in indexing errors\n"
     ]
    }
   ],
   "source": [
    "cluster_lengths = []\n",
    "for cluster in clusteredLemmatizedTexts:\n",
    "    tokens = tokenizer(cluster)\n",
    "    cluster_lengths.append(len(tokens['input_ids']))"
   ]
  },
  {
   "cell_type": "markdown",
   "id": "a54d1e84",
   "metadata": {},
   "source": [
    "Output and graph the statistics for the lengths of the assessments and paragraphs."
   ]
  },
  {
   "cell_type": "code",
   "execution_count": 5,
   "id": "52a73c49",
   "metadata": {},
   "outputs": [
    {
     "name": "stdout",
     "output_type": "stream",
     "text": [
      "Minimum Length of a Cluster: 15\n",
      "Maximum Length of a Cluster: 17202\n",
      "Mean Length of a Cluster: 403.37\n",
      "\n"
     ]
    }
   ],
   "source": [
    "min_cluster_length = min(cluster_lengths)\n",
    "max_cluster_length = max(cluster_lengths)\n",
    "mean_cluster_length = 0 if len(cluster_lengths) == 0 else sum(cluster_lengths)/len(cluster_lengths)\n",
    "\n",
    "print('Minimum Length of a Cluster:', min_cluster_length)\n",
    "print('Maximum Length of a Cluster:', max_cluster_length)\n",
    "print(f'Mean Length of a Cluster: {(mean_cluster_length):.2f}\\n')"
   ]
  },
  {
   "cell_type": "code",
   "execution_count": 11,
   "id": "49c1697a",
   "metadata": {},
   "outputs": [
    {
     "data": {
      "image/png": "[encoded data removed]",
      "text/plain": [
       "<Figure size 432x288 with 1 Axes>"
      ]
     },
     "metadata": {
      "needs_background": "light"
     },
     "output_type": "display_data"
    }
   ],
   "source": [
    "plt.hist(cluster_lengths, bins = 25)\n",
    "plt.title('Histogram: Cluster Lengths')\n",
    "plt.xlabel('Number of Tokens')\n",
    "plt.ylabel('Count')\n",
    "plt.show()"
   ]
  },
  {
   "cell_type": "code",
   "execution_count": 13,
   "id": "ec20bc59",
   "metadata": {},
   "outputs": [
    {
     "name": "stdout",
     "output_type": "stream",
     "text": [
      "Percentage of Average Cluster Being Used: 0.6347\n",
      "\n"
     ]
    }
   ],
   "source": [
    "percentage = 256 / mean_cluster_length\n",
    "print(f'Percentage of Average Cluster Being Used: {(percentage):.4f}\\n')"
   ]
  },
  {
   "cell_type": "code",
   "execution_count": 15,
   "id": "3fd787fb",
   "metadata": {},
   "outputs": [
    {
     "name": "stdout",
     "output_type": "stream",
     "text": [
      "Percentage of Clusters Larger than 4096 tokens: 0.0007\n",
      "\n"
     ]
    }
   ],
   "source": [
    "counter = 0\n",
    "for cluster in clusteredLemmatizedTexts:\n",
    "    tokens = tokenizer(cluster)\n",
    "    if len(tokens['input_ids']) > 4096:\n",
    "        counter += 1\n",
    "percentage = counter / 4096\n",
    "print(f'Percentage of Clusters Larger than 4096 tokens: {(percentage):.4f}\\n')"
   ]
  },
  {
   "cell_type": "code",
   "execution_count": null,
   "id": "453a630f",
   "metadata": {},
   "outputs": [],
   "source": []
  }
 ],
 "metadata": {
  "kernelspec": {
   "display_name": "Python 3",
   "language": "python",
   "name": "python3"
  },
  "language_info": {
   "codemirror_mode": {
    "name": "ipython",
    "version": 3
   },
   "file_extension": ".py",
   "mimetype": "text/x-python",
   "name": "python",
   "nbconvert_exporter": "python",
   "pygments_lexer": "ipython3",
   "version": "3.8.5"
  }
 },
 "nbformat": 4,
 "nbformat_minor": 5
}
