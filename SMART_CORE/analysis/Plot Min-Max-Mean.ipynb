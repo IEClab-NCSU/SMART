{
 "cells": [
  {
   "cell_type": "code",
   "execution_count": 11,
   "id": "4a3db0c3",
   "metadata": {},
   "outputs": [
    {
     "data": {
      "text/plain": [
       "<ErrorbarContainer object of 3 artists>"
      ]
     },
     "execution_count": 11,
     "metadata": {},
     "output_type": "execute_result"
    },
    {
     "data": {
      "image/png": "[encoded data removed]",
      "text/plain": [
       "<Figure size 432x288 with 1 Axes>"
      ]
     },
     "metadata": {
      "needs_background": "light"
     },
     "output_type": "display_data"
    }
   ],
   "source": [
    "import matplotlib.pyplot as plt\n",
    "import numpy as np\n",
    "\n",
    "# construct some data like what you have:\n",
    "mins_intra = np.array([0.000, 0.000, 0.000, 0.000, 0.000])\n",
    "maxes_intra = np.array([1.414, 1.414, 1.414, 1.414, 1.414])\n",
    "means_intra = np.array([1.377, 1.276, 1.201, 1.159, 1.173])\n",
    "\n",
    "mins_inter = np.array([0.487, 0.434, 0.530, 0.607, 0.548])\n",
    "maxes_inter = np.array([1.414, 1.414, 1.414, 1.414, 1.414])\n",
    "means_inter = np.array([1.405, 1.403, 1.402, 1.401, 1.401])\n",
    "\n",
    "y = [10,50,100,150,200]\n",
    "\n",
    "# create stacked errorbars:\n",
    "plt.errorbar(y, means_intra, [means_intra - mins_intra, maxes_intra - means_intra],\n",
    "             fmt='ok', lw=3)\n",
    "plt.errorbar(y, means_intra, [means_intra - mins_intra, maxes_intra - means_intra],\n",
    "             fmt='.k', ecolor='gray', lw=1)\n"
   ]
  },
  {
   "cell_type": "code",
   "execution_count": 4,
   "id": "0f594531",
   "metadata": {},
   "outputs": [
    {
     "data": {
      "text/plain": [
       "(-1.0, 8.0)"
      ]
     },
     "execution_count": 4,
     "metadata": {},
     "output_type": "execute_result"
    },
    {
     "data": {
      "image/png": "[encoded data removed]",
      "text/plain": [
       "<Figure size 432x288 with 1 Axes>"
      ]
     },
     "metadata": {
      "needs_background": "light"
     },
     "output_type": "display_data"
    }
   ],
   "source": [
    "x = np.random.randn(100, 8)\n",
    "mins = x.min(0)\n",
    "maxes = x.max(0)\n",
    "means = x.mean(0)\n",
    "std = x.std(0)\n",
    "\n",
    "# create stacked errorbars:\n",
    "plt.errorbar(np.arange(8), means, std, fmt='ok', lw=3)\n",
    "plt.errorbar(np.arange(8), means, [means - mins, maxes - means],\n",
    "             fmt='.k', ecolor='gray', lw=1)\n",
    "plt.xlim(-1, 8)"
   ]
  },
  {
   "cell_type": "code",
   "execution_count": 5,
   "id": "36aff4fe",
   "metadata": {},
   "outputs": [
    {
     "name": "stdout",
     "output_type": "stream",
     "text": [
      "<class 'numpy.ndarray'>\n"
     ]
    }
   ],
   "source": [
    "print(type(mins))"
   ]
  },
  {
   "cell_type": "code",
   "execution_count": null,
   "id": "4eb96edf",
   "metadata": {},
   "outputs": [],
   "source": []
  }
 ],
 "metadata": {
  "kernelspec": {
   "display_name": "Python 3",
   "language": "python",
   "name": "python3"
  },
  "language_info": {
   "codemirror_mode": {
    "name": "ipython",
    "version": 3
   },
   "file_extension": ".py",
   "mimetype": "text/x-python",
   "name": "python",
   "nbconvert_exporter": "python",
   "pygments_lexer": "ipython3",
   "version": "3.8.5"
  }
 },
 "nbformat": 4,
 "nbformat_minor": 5
}
