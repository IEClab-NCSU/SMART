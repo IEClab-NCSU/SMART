{
 "cells": [
  {
   "cell_type": "markdown",
   "id": "eb0a8b2d",
   "metadata": {},
   "source": [
    "Import the necessary libraries."
   ]
  },
  {
   "cell_type": "code",
   "execution_count": 1,
   "id": "689f5774",
   "metadata": {},
   "outputs": [],
   "source": [
    "import csv\n",
    "import numpy as np\n",
    "from numpy import dot\n",
    "from numpy.linalg import norm\n",
    "from sentence_transformers import SentenceTransformer\n",
    "from create_input_lists import create_input_lists_from_csv, lemmatize\n",
    "from statistics import mean\n",
    "from sklearn.metrics.pairwise import cosine_similarity, euclidean_distances\n",
    "from statistics import mean, median, mode\n",
    "import matplotlib.pyplot as plt\n",
    "import math\n",
    "from sklearn.cluster import KMeans\n",
    "from sklearn.metrics import silhouette_score\n",
    "from collections import defaultdict, Counter"
   ]
  },
  {
   "cell_type": "markdown",
   "id": "c290ad38",
   "metadata": {},
   "source": [
    "Obtain and pre-process the texts."
   ]
  },
  {
   "cell_type": "code",
   "execution_count": 2,
   "id": "2c90b377",
   "metadata": {},
   "outputs": [],
   "source": [
    "paragraph_path = './OneDrive-2020-12-04/intro_bio (with periods)_labelled/paragraphs.csv'\n",
    "assessment_path = './OneDrive-2020-12-04/intro_bio (with periods)_labelled/assessments.csv'"
   ]
  },
  {
   "cell_type": "code",
   "execution_count": 3,
   "id": "9bb64baf",
   "metadata": {},
   "outputs": [],
   "source": [
    "para_ids, lemm_para, orig_para, assess_ids, lemma_assess, orig_assess = create_input_lists_from_csv(paragraph_path, assessment_path)"
   ]
  },
  {
   "cell_type": "markdown",
   "id": "b25882f4",
   "metadata": {},
   "source": [
    "Obtain the BERT embeddings of the texts."
   ]
  },
  {
   "cell_type": "code",
   "execution_count": 4,
   "id": "55c8643f",
   "metadata": {},
   "outputs": [],
   "source": [
    "def get_embeddings_sentBert(texts):\n",
    "    model = SentenceTransformer('paraphrase-distilroberta-base-v2')\n",
    "    text_embeddings = model.encode(texts)\n",
    "\n",
    "    return np.array(text_embeddings)\n",
    "\n",
    "para_vectors = get_embeddings_sentBert(lemm_para)\n",
    "assess_vectors = get_embeddings_sentBert(lemma_assess)"
   ]
  },
  {
   "cell_type": "code",
   "execution_count": 5,
   "id": "7f38768c",
   "metadata": {},
   "outputs": [
    {
     "name": "stdout",
     "output_type": "stream",
     "text": [
      "(1608, 768)\n",
      "(1095, 768)\n"
     ]
    }
   ],
   "source": [
    "print(para_vectors.shape)\n",
    "print(assess_vectors.shape)"
   ]
  },
  {
   "cell_type": "code",
   "execution_count": 6,
   "id": "7b71df25",
   "metadata": {},
   "outputs": [],
   "source": [
    "para_nonzero_counts = []\n",
    "for vector in para_vectors:\n",
    "    para_nonzero_counts.append(np.count_nonzero(vector))\n",
    "\n",
    "assess_nonzero_counts = []\n",
    "for vector in assess_vectors:\n",
    "    assess_nonzero_counts.append(np.count_nonzero(vector))"
   ]
  },
  {
   "cell_type": "markdown",
   "id": "fee5aefb",
   "metadata": {},
   "source": [
    "Output Summary Statistics of Vectorizations:"
   ]
  },
  {
   "cell_type": "code",
   "execution_count": 7,
   "id": "5f98b22c",
   "metadata": {},
   "outputs": [
    {
     "name": "stdout",
     "output_type": "stream",
     "text": [
      "TF-IDF for Paragraphs:\n",
      "\n",
      "Average Number of Non-Zeros: 768\n",
      "Total # of Dimensions: 768\n",
      "\n",
      "\n",
      "TF-IDF for Assessments:\n",
      "\n",
      "Average Number of Non-Zeros: 768\n",
      "Total # of Dimensions: 768\n"
     ]
    }
   ],
   "source": [
    "print('TF-IDF for Paragraphs:\\n')\n",
    "print('Average Number of Non-Zeros:', mean(para_nonzero_counts))\n",
    "print('Total # of Dimensions:', para_vectors.shape[1])\n",
    "\n",
    "\n",
    "print('\\n\\nTF-IDF for Assessments:\\n')\n",
    "print('Average Number of Non-Zeros:', mean(assess_nonzero_counts))\n",
    "print('Total # of Dimensions:', assess_vectors.shape[1])"
   ]
  },
  {
   "cell_type": "code",
   "execution_count": 8,
   "id": "979abec4",
   "metadata": {},
   "outputs": [],
   "source": [
    "def plot_distances(distances_list):\n",
    "    plt.hist(distances_list, rwidth = 0.8, bins=np.arange(min(distances_list), max(distances_list) + 0.01, 0.01))\n",
    "    plt.xlabel('Pairwise Distance',fontsize=10)\n",
    "    plt.ylabel('Frequency',fontsize=10)\n",
    "    plt.xticks(fontsize=6)\n",
    "    plt.yticks(fontsize=6)\n",
    "    plt.xticks(np.arange(min(distances_list), max(distances_list)+0.1, 0.1))\n",
    "    plt.grid()\n",
    "    plt.show()\n",
    "    \n",
    "def plot_similarities(cos_sim_list):\n",
    "    plt.hist(cos_sim_list, rwidth = 0.8, bins=np.arange(min(cos_sim_list), max(cos_sim_list) + 0.01, 0.01))\n",
    "    plt.xlabel('Pairwise Cosine Similarity',fontsize=10)\n",
    "    plt.ylabel('Frequency',fontsize=10)\n",
    "    plt.xticks(fontsize=6)\n",
    "    plt.yticks(fontsize=6)\n",
    "    plt.xticks(np.arange(min(cos_sim_list), max(cos_sim_list)+0.1, 0.1))\n",
    "    plt.grid()\n",
    "    plt.show()\n",
    "    \n",
    "def calculate_pairwise_metrics(pairs):    \n",
    "    cos_sim_list = []\n",
    "    dist_list = []\n",
    "    orthogonal_count = 0\n",
    "    for pair in pairs:\n",
    "        a,b = pair\n",
    "        a = np.array(a)\n",
    "        b = np.array(b)\n",
    "        cos_sim = dot(a, b)/(norm(a)*norm(b))\n",
    "        cos_sim_list.append(cos_sim)\n",
    "\n",
    "        if -0.01 <= cos_sim <= 0.01:\n",
    "            orthogonal_count += 1\n",
    "\n",
    "        dist = norm(a - b)\n",
    "        dist_list.append(dist)\n",
    "    \n",
    "    return(cos_sim_list, orthogonal_count, dist_list)\n",
    "\n",
    "def print_similarity_statistics(sim_list):\n",
    "    print('Cosine Similarity Mean:', mean(sim_list))\n",
    "    print('Cosine Similarity Median:', median(sim_list))\n",
    "    print('Cosine Similarity Mode:', mode(sim_list))\n",
    "    print('Cosine Similarity Min:', min(sim_list))\n",
    "    print('Cosine Similarity Max:', max(sim_list))\n",
    "    \n",
    "def print_distance_statistics(dist_list):\n",
    "    print('Euclidean Distance Mean:', mean(dist_list))\n",
    "    print('Euclidean Distance Median:', median(dist_list))\n",
    "    print('Euclidean Distance Mode:', mode(dist_list))\n",
    "    print('Euclidean Distance Min:', min(dist_list))\n",
    "    print('Euclidean Distance Max:', max(dist_list))"
   ]
  },
  {
   "cell_type": "code",
   "execution_count": 9,
   "id": "524eb072",
   "metadata": {},
   "outputs": [
    {
     "name": "stdout",
     "output_type": "stream",
     "text": [
      "Cosine Similarity Mean: 0.16882136779452422\n",
      "Cosine Similarity Median: 0.151975993004603\n",
      "Cosine Similarity Mode: 0.9999999999999998\n",
      "Cosine Similarity Min: -0.23866438682885402\n",
      "Cosine Similarity Max: 1.0000000000000002\n",
      "\n",
      "Number of Pairs: 1292028\n",
      "Number of Orthogonal Pairs: 37663\n"
     ]
    },
    {
     "data": {
      "image/png": "[encoded data removed]",
      "text/plain": [
       "<Figure size 432x288 with 1 Axes>"
      ]
     },
     "metadata": {
      "needs_background": "light"
     },
     "output_type": "display_data"
    },
    {
     "name": "stdout",
     "output_type": "stream",
     "text": [
      "Euclidean Distance Mean: 18.577131181721697\n",
      "Euclidean Distance Median: 18.652328203619383\n",
      "Euclidean Distance Mode: 0.0\n",
      "Euclidean Distance Min: 0.0\n",
      "Euclidean Distance Max: 27.26314477990909\n"
     ]
    },
    {
     "data": {
      "image/png": "[encoded data removed]",
      "text/plain": [
       "<Figure size 432x288 with 1 Axes>"
      ]
     },
     "metadata": {
      "needs_background": "light"
     },
     "output_type": "display_data"
    }
   ],
   "source": [
    "para_vectors = para_vectors.tolist()\n",
    "\n",
    "para_pairs = [[a, b] for idx, a in enumerate(para_vectors) for b in para_vectors[idx + 1:]]\n",
    "\n",
    "para_sim_list, para_count, para_dist_list = calculate_pairwise_metrics(para_pairs)\n",
    "print_similarity_statistics(para_sim_list)\n",
    "print('\\nNumber of Pairs:', len(para_pairs))\n",
    "print('Number of Orthogonal Pairs:', para_count)\n",
    "plot_similarities(para_sim_list)\n",
    "\n",
    "print_distance_statistics(para_dist_list)\n",
    "plot_distances(para_dist_list)"
   ]
  },
  {
   "cell_type": "code",
   "execution_count": 10,
   "id": "2d879122",
   "metadata": {},
   "outputs": [
    {
     "name": "stdout",
     "output_type": "stream",
     "text": [
      "Cosine Similarity Mean: 0.1691573597750203\n",
      "Cosine Similarity Median: 0.15236149200855884\n",
      "Cosine Similarity Mode: 1.0\n",
      "Cosine Similarity Min: -0.23530321906024274\n",
      "Cosine Similarity Max: 1.0000000000000002\n",
      "\n",
      "Number of Pairs: 598965\n",
      "Number of Orthogonal Pairs: 16837\n",
      "Percentage of Orthogonal Pairs: 0.02811015668695166\n"
     ]
    },
    {
     "data": {
      "image/png": "[encoded data removed]",
      "text/plain": [
       "<Figure size 432x288 with 1 Axes>"
      ]
     },
     "metadata": {
      "needs_background": "light"
     },
     "output_type": "display_data"
    },
    {
     "name": "stdout",
     "output_type": "stream",
     "text": [
      "Euclidean Distance Mean: 18.875349759666097\n",
      "Euclidean Distance Median: 18.996347862671172\n",
      "Euclidean Distance Mode: 0.0\n",
      "Euclidean Distance Min: 0.0\n",
      "Euclidean Distance Max: 26.658429844034426\n"
     ]
    },
    {
     "data": {
      "image/png": "[encoded data removed]",
      "text/plain": [
       "<Figure size 432x288 with 1 Axes>"
      ]
     },
     "metadata": {
      "needs_background": "light"
     },
     "output_type": "display_data"
    }
   ],
   "source": [
    "assess_vectors = assess_vectors.tolist()\n",
    "\n",
    "# for index in range(0, len(assess_vectors)):\n",
    "#    assess_vectors[index] = assess_vectors[index] / norm(assess_vectors[index])\n",
    "\n",
    "assess_pairs = [[a, b] for idx, a in enumerate(assess_vectors) for b in assess_vectors[idx + 1:]]\n",
    "\n",
    "assess_sim_list, assess_count, assess_dist_list = calculate_pairwise_metrics(assess_pairs)\n",
    "print_similarity_statistics(assess_sim_list)\n",
    "print('\\nNumber of Pairs:', len(assess_pairs))\n",
    "print('Number of Orthogonal Pairs:', assess_count)\n",
    "print('Percentage of Orthogonal Pairs:', assess_count/len(assess_pairs))\n",
    "plot_similarities(assess_sim_list)\n",
    "\n",
    "print_distance_statistics(assess_dist_list)\n",
    "plot_distances(assess_dist_list)"
   ]
  },
  {
   "cell_type": "code",
   "execution_count": 35,
   "id": "fef65945",
   "metadata": {},
   "outputs": [
    {
     "name": "stdout",
     "output_type": "stream",
     "text": [
      "0.11807707379786925\n"
     ]
    }
   ],
   "source": [
    "km = KMeans(n_clusters = 200, max_iter = 50000, init = 'k-means++')\n",
    "cluster_assignment = km.fit(assess_vectors).labels_\n",
    "s = silhouette_score(assess_vectors, cluster_assignment, metric='euclidean')\n",
    "print(s)"
   ]
  },
  {
   "cell_type": "code",
   "execution_count": 36,
   "id": "4775e5ce",
   "metadata": {},
   "outputs": [],
   "source": [
    "clusterIndex_to_clusteredText1 = defaultdict(lambda: \" \")\n",
    "text_id1_to_clusterIndex = dict()\n",
    "\n",
    "for i, clusterIndex in enumerate(cluster_assignment): # len(cluster_assignment) is equal to len(vectors)\n",
    "    clusterIndex_to_clusteredText1[clusterIndex] += orig_assess[i] + \". \" \n",
    "    text_id1_to_clusterIndex[assess_ids[i]] = clusterIndex"
   ]
  },
  {
   "cell_type": "code",
   "execution_count": 37,
   "id": "1603a06d",
   "metadata": {},
   "outputs": [
    {
     "name": "stdout",
     "output_type": "stream",
     "text": [
      "Cosine Similarity Mean: 0.16665125599963826\n",
      "Cosine Similarity Median: 0.15146055856508664\n",
      "Cosine Similarity Mode: 0.17587893765176843\n",
      "Cosine Similarity Min: -0.23530321906024274\n",
      "Cosine Similarity Max: 0.9305980163898293\n",
      "\n",
      "Number of Pairs: 595186\n",
      "Number of Orthogonal Pairs: 16835\n",
      "Percentage of Orthogonal Pairs: 0.02828527552731415\n"
     ]
    },
    {
     "data": {
      "image/png": "[encoded data removed]",
      "text/plain": [
       "<Figure size 432x288 with 1 Axes>"
      ]
     },
     "metadata": {
      "needs_background": "light"
     },
     "output_type": "display_data"
    },
    {
     "name": "stdout",
     "output_type": "stream",
     "text": [
      "Euclidean Distance Mean: 18.91252767066936\n",
      "Euclidean Distance Median: 19.012285725391795\n",
      "Euclidean Distance Mode: 18.751713446573206\n",
      "Euclidean Distance Min: 4.926834142868749\n",
      "Euclidean Distance Max: 26.658429844034426\n"
     ]
    },
    {
     "data": {
      "image/png": "[encoded data removed]",
      "text/plain": [
       "<Figure size 432x288 with 1 Axes>"
      ]
     },
     "metadata": {
      "needs_background": "light"
     },
     "output_type": "display_data"
    }
   ],
   "source": [
    "assess_pair_ids = [[a, b] for idx, a in enumerate(assess_ids) for b in assess_ids[idx + 1:]]\n",
    "\n",
    "inter_cluster_pairs = []\n",
    "for index in range(0,len(assess_pairs)):\n",
    "    a, b = assess_pairs[index]\n",
    "    a_id, b_id = assess_pair_ids[index]\n",
    "    a_cluster = text_id1_to_clusterIndex[a_id]\n",
    "    b_cluster = text_id1_to_clusterIndex[b_id]\n",
    "    if a_cluster != b_cluster:\n",
    "        inter_cluster_pairs.append([a,b])\n",
    "    \n",
    "cluster_sim_list, cluster_count, cluster_dist_list = calculate_pairwise_metrics(inter_cluster_pairs)\n",
    "print_similarity_statistics(cluster_sim_list)\n",
    "print('\\nNumber of Pairs:', len(inter_cluster_pairs))\n",
    "print('Number of Orthogonal Pairs:', cluster_count)\n",
    "print('Percentage of Orthogonal Pairs:', cluster_count/len(inter_cluster_pairs))\n",
    "plot_similarities(cluster_sim_list)\n",
    "\n",
    "print_distance_statistics(cluster_dist_list)\n",
    "plot_distances(cluster_dist_list)"
   ]
  },
  {
   "cell_type": "code",
   "execution_count": 38,
   "id": "18559847",
   "metadata": {},
   "outputs": [
    {
     "name": "stdout",
     "output_type": "stream",
     "text": [
      "Cosine Similarity Mean: 0.5638643938196207\n",
      "Cosine Similarity Median: 0.5817362934581087\n",
      "Cosine Similarity Mode: 1.0\n",
      "Cosine Similarity Min: -0.07037965753920675\n",
      "Cosine Similarity Max: 1.0000000000000002\n",
      "\n",
      "Number of Pairs: 3779\n",
      "Number of Orthogonal Pairs: 2\n",
      "Percentage of Orthogonal Pairs: 0.0005292405398253506\n"
     ]
    },
    {
     "data": {
      "image/png": "[encoded data removed]",
      "text/plain": [
       "<Figure size 432x288 with 1 Axes>"
      ]
     },
     "metadata": {
      "needs_background": "light"
     },
     "output_type": "display_data"
    },
    {
     "name": "stdout",
     "output_type": "stream",
     "text": [
      "Euclidean Distance Mean: 13.019892723839963\n",
      "Euclidean Distance Median: 13.1438988214855\n",
      "Euclidean Distance Mode: 0.0\n",
      "Euclidean Distance Min: 0.0\n",
      "Euclidean Distance Max: 22.848896371630378\n"
     ]
    },
    {
     "data": {
      "image/png": "[encoded data removed]",
      "text/plain": [
       "<Figure size 432x288 with 1 Axes>"
      ]
     },
     "metadata": {
      "needs_background": "light"
     },
     "output_type": "display_data"
    }
   ],
   "source": [
    "intra_cluster_pairs = []\n",
    "for index in range(0,len(assess_pairs)):\n",
    "    a, b = assess_pairs[index]\n",
    "    a_id, b_id = assess_pair_ids[index]\n",
    "    a_cluster = text_id1_to_clusterIndex[a_id]\n",
    "    b_cluster = text_id1_to_clusterIndex[b_id]\n",
    "    if a_cluster == b_cluster:\n",
    "        intra_cluster_pairs.append([a,b])\n",
    "    \n",
    "cluster_sim_list, cluster_count, cluster_dist_list = calculate_pairwise_metrics(intra_cluster_pairs)\n",
    "print_similarity_statistics(cluster_sim_list)\n",
    "print('\\nNumber of Pairs:', len(intra_cluster_pairs))\n",
    "print('Number of Orthogonal Pairs:', cluster_count)\n",
    "print('Percentage of Orthogonal Pairs:', cluster_count/len(intra_cluster_pairs))\n",
    "plot_similarities(cluster_sim_list)\n",
    "\n",
    "print_distance_statistics(cluster_dist_list)\n",
    "plot_distances(cluster_dist_list)"
   ]
  },
  {
   "cell_type": "code",
   "execution_count": 39,
   "id": "714171ec",
   "metadata": {},
   "outputs": [
    {
     "data": {
      "text/plain": [
       "Counter({51: 10,\n",
       "         53: 17,\n",
       "         28: 4,\n",
       "         10: 8,\n",
       "         98: 4,\n",
       "         92: 7,\n",
       "         197: 2,\n",
       "         194: 1,\n",
       "         87: 15,\n",
       "         46: 10,\n",
       "         71: 2,\n",
       "         163: 2,\n",
       "         141: 5,\n",
       "         5: 4,\n",
       "         140: 4,\n",
       "         20: 13,\n",
       "         116: 8,\n",
       "         113: 3,\n",
       "         192: 2,\n",
       "         114: 5,\n",
       "         27: 10,\n",
       "         159: 3,\n",
       "         104: 14,\n",
       "         126: 3,\n",
       "         105: 4,\n",
       "         85: 3,\n",
       "         57: 10,\n",
       "         166: 1,\n",
       "         160: 1,\n",
       "         193: 10,\n",
       "         94: 5,\n",
       "         129: 2,\n",
       "         11: 4,\n",
       "         74: 8,\n",
       "         156: 4,\n",
       "         168: 2,\n",
       "         25: 8,\n",
       "         49: 11,\n",
       "         29: 4,\n",
       "         170: 2,\n",
       "         62: 8,\n",
       "         95: 4,\n",
       "         79: 4,\n",
       "         125: 3,\n",
       "         153: 7,\n",
       "         99: 6,\n",
       "         175: 3,\n",
       "         80: 7,\n",
       "         17: 12,\n",
       "         106: 6,\n",
       "         1: 10,\n",
       "         43: 5,\n",
       "         2: 2,\n",
       "         123: 4,\n",
       "         54: 6,\n",
       "         55: 4,\n",
       "         187: 4,\n",
       "         45: 10,\n",
       "         33: 7,\n",
       "         130: 5,\n",
       "         151: 3,\n",
       "         22: 8,\n",
       "         38: 12,\n",
       "         195: 17,\n",
       "         155: 4,\n",
       "         59: 3,\n",
       "         150: 2,\n",
       "         196: 3,\n",
       "         19: 3,\n",
       "         128: 2,\n",
       "         66: 9,\n",
       "         178: 3,\n",
       "         110: 11,\n",
       "         81: 2,\n",
       "         35: 10,\n",
       "         124: 10,\n",
       "         63: 10,\n",
       "         23: 14,\n",
       "         135: 18,\n",
       "         67: 8,\n",
       "         139: 10,\n",
       "         48: 8,\n",
       "         185: 2,\n",
       "         56: 3,\n",
       "         109: 5,\n",
       "         73: 11,\n",
       "         190: 5,\n",
       "         78: 4,\n",
       "         145: 4,\n",
       "         107: 2,\n",
       "         77: 6,\n",
       "         60: 7,\n",
       "         147: 3,\n",
       "         117: 3,\n",
       "         149: 2,\n",
       "         52: 6,\n",
       "         76: 8,\n",
       "         32: 6,\n",
       "         120: 3,\n",
       "         31: 11,\n",
       "         96: 4,\n",
       "         172: 3,\n",
       "         9: 3,\n",
       "         199: 7,\n",
       "         165: 2,\n",
       "         167: 10,\n",
       "         88: 3,\n",
       "         69: 2,\n",
       "         181: 6,\n",
       "         13: 2,\n",
       "         72: 5,\n",
       "         115: 4,\n",
       "         177: 4,\n",
       "         34: 15,\n",
       "         70: 2,\n",
       "         144: 3,\n",
       "         65: 9,\n",
       "         180: 2,\n",
       "         101: 3,\n",
       "         6: 4,\n",
       "         100: 4,\n",
       "         50: 4,\n",
       "         179: 2,\n",
       "         131: 3,\n",
       "         15: 11,\n",
       "         64: 2,\n",
       "         40: 9,\n",
       "         138: 3,\n",
       "         16: 8,\n",
       "         102: 9,\n",
       "         157: 4,\n",
       "         42: 2,\n",
       "         8: 3,\n",
       "         14: 2,\n",
       "         103: 2,\n",
       "         191: 1,\n",
       "         111: 2,\n",
       "         82: 7,\n",
       "         47: 2,\n",
       "         108: 6,\n",
       "         112: 7,\n",
       "         4: 8,\n",
       "         134: 5,\n",
       "         36: 9,\n",
       "         26: 8,\n",
       "         18: 12,\n",
       "         133: 7,\n",
       "         161: 7,\n",
       "         171: 4,\n",
       "         143: 9,\n",
       "         122: 4,\n",
       "         154: 5,\n",
       "         39: 4,\n",
       "         183: 4,\n",
       "         86: 8,\n",
       "         68: 8,\n",
       "         142: 2,\n",
       "         37: 7,\n",
       "         24: 10,\n",
       "         146: 3,\n",
       "         137: 6,\n",
       "         173: 2,\n",
       "         91: 3,\n",
       "         61: 2,\n",
       "         93: 6,\n",
       "         90: 3,\n",
       "         58: 2,\n",
       "         148: 3,\n",
       "         176: 5,\n",
       "         152: 5,\n",
       "         0: 7,\n",
       "         182: 1,\n",
       "         188: 3,\n",
       "         198: 2,\n",
       "         119: 3,\n",
       "         41: 6,\n",
       "         89: 2,\n",
       "         30: 3,\n",
       "         174: 1,\n",
       "         184: 1,\n",
       "         162: 2,\n",
       "         75: 3,\n",
       "         97: 4,\n",
       "         127: 4,\n",
       "         164: 6,\n",
       "         44: 2,\n",
       "         189: 1,\n",
       "         118: 8,\n",
       "         84: 4,\n",
       "         21: 14,\n",
       "         83: 8,\n",
       "         158: 9,\n",
       "         132: 3,\n",
       "         169: 1,\n",
       "         186: 2,\n",
       "         7: 17,\n",
       "         3: 6,\n",
       "         136: 2,\n",
       "         121: 5,\n",
       "         12: 5})"
      ]
     },
     "execution_count": 39,
     "metadata": {},
     "output_type": "execute_result"
    }
   ],
   "source": [
    "Counter(cluster_assignment)"
   ]
  },
  {
   "cell_type": "code",
   "execution_count": 17,
   "id": "252f748a",
   "metadata": {},
   "outputs": [],
   "source": [
    "k = 2\n",
    "k_list = []\n",
    "best_k = 75\n",
    "\n",
    "score_list = []\n",
    "best_score = -2.0\n",
    "\n",
    "while k <= 500:\n",
    "    km = KMeans(n_clusters = k, max_iter = 50000, init = 'k-means++', random_state=43)\n",
    "    cluster_assignment = km.fit(assess_vectors).labels_\n",
    "    s = silhouette_score(assess_vectors, cluster_assignment, metric='euclidean')\n",
    "    if s > best_score:\n",
    "        best_score = s\n",
    "        best_k = k\n",
    "    k_list.append(k)\n",
    "    score_list.append(s)\n",
    "    k += 1"
   ]
  },
  {
   "cell_type": "code",
   "execution_count": 18,
   "id": "fbcf9dc5",
   "metadata": {},
   "outputs": [
    {
     "data": {
      "image/png": "[encoded data removed]",
      "text/plain": [
       "<Figure size 432x288 with 1 Axes>"
      ]
     },
     "metadata": {
      "needs_background": "light"
     },
     "output_type": "display_data"
    }
   ],
   "source": [
    "plt.plot(k_list,score_list)\n",
    "plt.title('Number of Clusters versus Silhouette Score')\n",
    "plt.xlabel('Number of Clusters (k)')\n",
    "plt.ylabel('Silhouette Score')\n",
    "plt.show()"
   ]
  },
  {
   "cell_type": "code",
   "execution_count": 19,
   "id": "987f8c6f",
   "metadata": {},
   "outputs": [
    {
     "name": "stdout",
     "output_type": "stream",
     "text": [
      "Best value for k: 443\n",
      "Best Silhouette Score: 0.14608092016448365\n"
     ]
    }
   ],
   "source": [
    "print('Best value for k:', best_k)\n",
    "print('Best Silhouette Score:', best_score)"
   ]
  },
  {
   "cell_type": "code",
   "execution_count": 40,
   "id": "c79d0e3f",
   "metadata": {},
   "outputs": [],
   "source": [
    "for index in range(0, len(assess_vectors)):\n",
    "        assess_vectors[index] = assess_vectors[index] / norm(assess_vectors[index])\n",
    "\n",
    "k = 2\n",
    "k_list = []\n",
    "best_k = 75\n",
    "\n",
    "score_list = []\n",
    "best_score = -2.0\n",
    "\n",
    "while k <= 500:\n",
    "    km = KMeans(n_clusters = k, max_iter = 50000, init = 'k-means++', random_state=43)\n",
    "    cluster_assignment = km.fit(assess_vectors).labels_\n",
    "    s = silhouette_score(assess_vectors, cluster_assignment, metric='euclidean')\n",
    "    if s > best_score:\n",
    "        best_score = s\n",
    "        best_k = k\n",
    "    k_list.append(k)\n",
    "    score_list.append(s)\n",
    "    k += 1"
   ]
  },
  {
   "cell_type": "code",
   "execution_count": 41,
   "id": "0535228c",
   "metadata": {},
   "outputs": [
    {
     "data": {
      "image/png": "[encoded data removed]",
      "text/plain": [
       "<Figure size 432x288 with 1 Axes>"
      ]
     },
     "metadata": {
      "needs_background": "light"
     },
     "output_type": "display_data"
    }
   ],
   "source": [
    "plt.plot(k_list,score_list)\n",
    "plt.title('Number of Clusters versus Silhouette Score')\n",
    "plt.xlabel('Number of Clusters (k)')\n",
    "plt.ylabel('Silhouette Score')\n",
    "plt.show()"
   ]
  },
  {
   "cell_type": "code",
   "execution_count": 42,
   "id": "97326a4b",
   "metadata": {},
   "outputs": [
    {
     "name": "stdout",
     "output_type": "stream",
     "text": [
      "Best value for k: 490\n",
      "Best Silhouette Score: 0.15131349851623313\n"
     ]
    }
   ],
   "source": [
    "print('Best value for k:', best_k)\n",
    "print('Best Silhouette Score:', best_score)"
   ]
  },
  {
   "cell_type": "code",
   "execution_count": 43,
   "id": "df1eee1a",
   "metadata": {},
   "outputs": [],
   "source": [
    "runs = 0\n",
    "assignment_list = []\n",
    "while runs < 10:\n",
    "    km = KMeans(n_clusters = 200, max_iter = 50000, init = 'k-means++')\n",
    "    cluster_assignment = km.fit(assess_vectors).labels_\n",
    "    runs  += 1\n",
    "    assignment_list.append(cluster_assignment)\n",
    "\n",
    "clustering_pairs = [[a, b] for idx, a in enumerate(assignment_list) for b in assignment_list[idx + 1:]]\n",
    "\n",
    "pair_numbers = []\n",
    "for number in range(0,10):\n",
    "    for another_number in range(0,10):\n",
    "        if another_number > number: \n",
    "            pair_numbers.append([number+1, another_number+1])\n",
    "\n",
    "from sklearn.metrics.cluster import adjusted_mutual_info_score\n",
    "\n",
    "ami_score_list = []\n",
    "for index in range(0, len(clustering_pairs)):\n",
    "    label = 'Comparing Run ' + str(pair_numbers[index][0]) + ' and Run ' + str(pair_numbers[index][1])\n",
    "    ami_score = adjusted_mutual_info_score(clustering_pairs[index][0], clustering_pairs[index][1])\n",
    "    ami_score_list.append([label, ami_score])\n",
    "    \n",
    "import csv\n",
    "\n",
    "with open(\"../../../OneDrive/SMART/Jesse_2021/StoryBoards/SMART_cluster_assignment_OLI Biology_sentence-BERT.csv\",\"w+\") as my_csv:\n",
    "    newarray = csv.writer(my_csv,delimiter=',')\n",
    "    newarray.writerows(assignment_list)\n",
    "    newarray.writerows(ami_score_list)"
   ]
  },
  {
   "cell_type": "code",
   "execution_count": null,
   "id": "0b4695dc",
   "metadata": {},
   "outputs": [],
   "source": []
  }
 ],
 "metadata": {
  "kernelspec": {
   "display_name": "Python 3",
   "language": "python",
   "name": "python3"
  },
  "language_info": {
   "codemirror_mode": {
    "name": "ipython",
    "version": 3
   },
   "file_extension": ".py",
   "mimetype": "text/x-python",
   "name": "python",
   "nbconvert_exporter": "python",
   "pygments_lexer": "ipython3",
   "version": "3.8.5"
  }
 },
 "nbformat": 4,
 "nbformat_minor": 5
}
