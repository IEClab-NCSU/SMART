{
 "cells": [
  {
   "cell_type": "markdown",
   "id": "eb0a8b2d",
   "metadata": {},
   "source": [
    "Import the necessary libraries."
   ]
  },
  {
   "cell_type": "code",
   "execution_count": 1,
   "id": "689f5774",
   "metadata": {},
   "outputs": [],
   "source": [
    "import csv\n",
    "import numpy as np\n",
    "from numpy import dot\n",
    "from numpy.linalg import norm\n",
    "from sklearn.feature_extraction.text import TfidfVectorizer\n",
    "from create_input_lists import create_input_lists_from_csv, lemmatize\n",
    "from statistics import mean\n",
    "from sklearn.metrics.pairwise import cosine_similarity, euclidean_distances\n",
    "from statistics import mean, median, mode\n",
    "import matplotlib.pyplot as plt\n",
    "import math\n",
    "from sklearn.cluster import KMeans\n",
    "from sklearn.metrics import silhouette_score\n",
    "from collections import defaultdict, Counter"
   ]
  },
  {
   "cell_type": "markdown",
   "id": "c290ad38",
   "metadata": {},
   "source": [
    "Obtain and pre-process the texts."
   ]
  },
  {
   "cell_type": "code",
   "execution_count": 2,
   "id": "2c90b377",
   "metadata": {},
   "outputs": [],
   "source": [
    "paragraph_path = './OneDrive-2020-12-04/gen_chem/paragraphs.csv'\n",
    "assessment_path = './OneDrive-2020-12-04/gen_chem/assessments.csv'"
   ]
  },
  {
   "cell_type": "code",
   "execution_count": 3,
   "id": "9bb64baf",
   "metadata": {},
   "outputs": [],
   "source": [
    "para_ids, lemm_para, orig_para, assess_ids, lemma_assess, orig_assess = create_input_lists_from_csv(paragraph_path, assessment_path)"
   ]
  },
  {
   "cell_type": "markdown",
   "id": "a45677d2",
   "metadata": {},
   "source": [
    "Obtain the lengths of all assessments and paragraphs."
   ]
  },
  {
   "cell_type": "code",
   "execution_count": 4,
   "id": "3d55163f",
   "metadata": {},
   "outputs": [],
   "source": [
    "assessment_lengths = []\n",
    "for assessment in lemma_assess:\n",
    "    assessment_lengths.append(len(assessment))\n",
    "    \n",
    "paragraph_lengths = []\n",
    "for paragraph in lemm_para:\n",
    "    paragraph_lengths.append(len(paragraph))"
   ]
  },
  {
   "cell_type": "markdown",
   "id": "ac60438d",
   "metadata": {},
   "source": [
    "Output the statistics for the paragraph and assessment lengths."
   ]
  },
  {
   "cell_type": "code",
   "execution_count": 5,
   "id": "39ebf91e",
   "metadata": {},
   "outputs": [
    {
     "name": "stdout",
     "output_type": "stream",
     "text": [
      "Minimum Length of an Assessment: 1\n",
      "Maximum Length of an Assessment: 1229\n",
      "Mean Length of an Assessment: 183.38\n",
      "\n",
      "Minimum Length of a Paragraph: 1\n",
      "Maximum Length of a Paragraph: 1259\n",
      "Mean Length of a Paragraph: 155.78\n"
     ]
    }
   ],
   "source": [
    "min_assessment_length = min(assessment_lengths)\n",
    "max_assessment_length = max(assessment_lengths)\n",
    "mean_assessment_length = 0 if len(assessment_lengths) == 0 else sum(assessment_lengths)/len(assessment_lengths)\n",
    "\n",
    "print('Minimum Length of an Assessment:', min_assessment_length)\n",
    "print('Maximum Length of an Assessment:', max_assessment_length)\n",
    "print(f'Mean Length of an Assessment: {(mean_assessment_length):.2f}\\n')\n",
    "\n",
    "min_paragraph_length = min(paragraph_lengths)\n",
    "max_paragraph_length = max(paragraph_lengths)\n",
    "mean_paragraph_length = 0 if len(paragraph_lengths) == 0 else sum(paragraph_lengths)/len(paragraph_lengths)\n",
    "\n",
    "print('Minimum Length of a Paragraph:', min_paragraph_length)\n",
    "print('Maximum Length of a Paragraph:', max_paragraph_length)\n",
    "print(f'Mean Length of a Paragraph: {(mean_paragraph_length):.2f}')"
   ]
  },
  {
   "cell_type": "markdown",
   "id": "b25882f4",
   "metadata": {},
   "source": [
    "Obtain the TF-IDF vectorization of the texts."
   ]
  },
  {
   "cell_type": "code",
   "execution_count": 6,
   "id": "55c8643f",
   "metadata": {},
   "outputs": [],
   "source": [
    "vectorizer = TfidfVectorizer(use_idf=True, stop_words = 'english')\n",
    "para_vectors = vectorizer.fit_transform(lemm_para)\n",
    "assess_vectors = vectorizer.fit_transform(lemma_assess)"
   ]
  },
  {
   "cell_type": "code",
   "execution_count": 7,
   "id": "7f38768c",
   "metadata": {},
   "outputs": [
    {
     "name": "stdout",
     "output_type": "stream",
     "text": [
      "(2838, 3964)\n",
      "(1505, 2216)\n"
     ]
    }
   ],
   "source": [
    "print(para_vectors.shape)\n",
    "print(assess_vectors.shape)"
   ]
  },
  {
   "cell_type": "code",
   "execution_count": 8,
   "id": "7b71df25",
   "metadata": {},
   "outputs": [],
   "source": [
    "para_nonzero_counts = []\n",
    "for vector in para_vectors:\n",
    "    para_nonzero_counts.append(vector.count_nonzero())\n",
    "\n",
    "assess_nonzero_counts = []\n",
    "for vector in assess_vectors:\n",
    "    assess_nonzero_counts.append(vector.count_nonzero())"
   ]
  },
  {
   "cell_type": "markdown",
   "id": "fee5aefb",
   "metadata": {},
   "source": [
    "Output Summary Statistics of Vectorizations:"
   ]
  },
  {
   "cell_type": "code",
   "execution_count": 9,
   "id": "5f98b22c",
   "metadata": {},
   "outputs": [
    {
     "name": "stdout",
     "output_type": "stream",
     "text": [
      "TF-IDF for Paragraphs:\n",
      "\n",
      "Average Number of Non-Zeros: 14.533121916842846\n",
      "Total # of Dimensions: 3964\n",
      "\n",
      "\n",
      "TF-IDF for Assessments:\n",
      "\n",
      "Average Number of Non-Zeros: 14.704983388704319\n",
      "Total # of Dimensions: 2216\n"
     ]
    }
   ],
   "source": [
    "print('TF-IDF for Paragraphs:\\n')\n",
    "print('Average Number of Non-Zeros:', mean(para_nonzero_counts))\n",
    "print('Total # of Dimensions:', para_vectors.shape[1])\n",
    "\n",
    "\n",
    "print('\\n\\nTF-IDF for Assessments:\\n')\n",
    "print('Average Number of Non-Zeros:', mean(assess_nonzero_counts))\n",
    "print('Total # of Dimensions:', assess_vectors.shape[1])"
   ]
  },
  {
   "cell_type": "code",
   "execution_count": 10,
   "id": "979abec4",
   "metadata": {},
   "outputs": [],
   "source": [
    "def plot_distances(distances_list):\n",
    "    plt.hist(distances_list, rwidth = 0.8, bins=np.arange(min(distances_list), max(distances_list) + 0.01, 0.01))\n",
    "    plt.xlabel('Pairwise Distance',fontsize=10)\n",
    "    plt.ylabel('Frequency',fontsize=10)\n",
    "    plt.xticks(fontsize=6)\n",
    "    plt.yticks(fontsize=6)\n",
    "    plt.xticks(np.arange(min(distances_list), max(distances_list)+0.1, 0.1))\n",
    "    plt.grid()\n",
    "    plt.show()\n",
    "    \n",
    "def plot_similarities(cos_sim_list):\n",
    "    plt.hist(cos_sim_list, rwidth = 0.8, bins=np.arange(min(cos_sim_list), max(cos_sim_list) + 0.01, 0.01))\n",
    "    plt.xlabel('Pairwise Cosine Similarity',fontsize=10)\n",
    "    plt.ylabel('Frequency',fontsize=10)\n",
    "    plt.xticks(fontsize=6)\n",
    "    plt.yticks(fontsize=6)\n",
    "    plt.xticks(np.arange(min(cos_sim_list), max(cos_sim_list)+0.1, 0.1))\n",
    "    plt.grid()\n",
    "    plt.show()\n",
    "    \n",
    "def calculate_pairwise_metrics(pairs):    \n",
    "    cos_sim_list = []\n",
    "    dist_list = []\n",
    "    orthogonal_count = 0\n",
    "    for pair in pairs:\n",
    "        a,b = pair\n",
    "        a = np.array(a)\n",
    "        b = np.array(b)\n",
    "        cos_sim = dot(a, b)/(norm(a)*norm(b))\n",
    "        cos_sim_list.append(cos_sim)\n",
    "\n",
    "        if cos_sim == 0:\n",
    "            orthogonal_count += 1\n",
    "\n",
    "        dist = norm(a - b)\n",
    "        dist_list.append(dist)\n",
    "    \n",
    "    return(cos_sim_list, orthogonal_count, dist_list)\n",
    "\n",
    "def print_similarity_statistics(sim_list):\n",
    "    sim_list = [x for x in sim_list if math.isnan(x) == False]\n",
    "    print('Cosine Similarity Mean:', mean(sim_list))\n",
    "    print('Cosine Similarity Median:', median(sim_list))\n",
    "    print('Cosine Similarity Mode:', mode(sim_list))\n",
    "    print('Cosine Similarity Min:', min(sim_list))\n",
    "    print('Cosine Similarity Max:', max(sim_list))\n",
    "    \n",
    "def print_distance_statistics(dist_list):\n",
    "    dist_list = [x for x in dist_list if math.isnan(x) == False]\n",
    "    print('Euclidean Distance Mean:', mean(dist_list))\n",
    "    print('Euclidean Distance Median:', median(dist_list))\n",
    "    print('Euclidean Distance Mode:', mode(dist_list))\n",
    "    print('Euclidean Distance Min:', min(dist_list))\n",
    "    print('Euclidean Distance Max:', max(dist_list))"
   ]
  },
  {
   "cell_type": "code",
   "execution_count": 11,
   "id": "0746add1",
   "metadata": {},
   "outputs": [],
   "source": [
    "k = 2\n",
    "k_list = []\n",
    "best_k_silhouette = 2\n",
    "best_k_ssd = 2\n",
    "\n",
    "s_list = []\n",
    "ssd_list = []\n",
    "\n",
    "best_s = 0.0\n",
    "best_ssd = np.inf\n",
    "\n",
    "while k <= 800:\n",
    "    km = KMeans(n_clusters = k, max_iter = 50000, init = 'k-means++', random_state=43)\n",
    "    cluster_assignment = km.fit(assess_vectors).labels_\n",
    "    s = silhouette_score(assess_vectors, cluster_assignment, metric='euclidean')\n",
    "    ssd = km.inertia_\n",
    "    if s > best_s:\n",
    "        best_s = s\n",
    "        best_k_silhouette = k\n",
    "    if ssd < best_ssd:\n",
    "        best_ssd = ssd\n",
    "        best_k_ssd = k\n",
    "    k_list.append(k)\n",
    "    s_list.append(s)\n",
    "    ssd_list.append(ssd)\n",
    "    k += 1"
   ]
  },
  {
   "cell_type": "code",
   "execution_count": 14,
   "id": "686dec60",
   "metadata": {},
   "outputs": [
    {
     "name": "stdout",
     "output_type": "stream",
     "text": [
      "Best value for k (Silhouette): 771\n",
      "Best Silhouette Score: 0.1463203512834927\n"
     ]
    },
    {
     "data": {
      "image/png": "[encoded data removed]",
      "text/plain": [
       "<Figure size 432x288 with 1 Axes>"
      ]
     },
     "metadata": {
      "needs_background": "light"
     },
     "output_type": "display_data"
    }
   ],
   "source": [
    "plt.plot(k_list,s_list)\n",
    "plt.title('Number of Clusters versus Silhouette Score')\n",
    "plt.xlabel('Number of Clusters (k)')\n",
    "plt.ylabel('Silhouette Score')\n",
    "plt.savefig('silhouette_curve_optimal_k_chem.pdf')\n",
    "plt.close\n",
    "\n",
    "print('Best value for k (Silhouette):', best_k_silhouette)\n",
    "print('Best Silhouette Score:', best_s)"
   ]
  },
  {
   "cell_type": "code",
   "execution_count": 15,
   "id": "ad2012f9",
   "metadata": {},
   "outputs": [
    {
     "name": "stdout",
     "output_type": "stream",
     "text": [
      "Best value for k (SSD): 800\n",
      "Best Sum of Squared Distances: 229.41092059803177\n"
     ]
    },
    {
     "data": {
      "image/png": "[encoded data removed]",
      "text/plain": [
       "<Figure size 432x288 with 1 Axes>"
      ]
     },
     "metadata": {
      "needs_background": "light"
     },
     "output_type": "display_data"
    }
   ],
   "source": [
    "plt.plot(k_list,ssd_list)\n",
    "plt.title('Elbow Method for Optimal k')\n",
    "plt.xlabel('Number of Clusters (k)')\n",
    "plt.ylabel('Sum of Squared Distances/Inertia')\n",
    "plt.savefig('ssd_curve_optimal_k_chem.pdf')\n",
    "plt.close\n",
    "\n",
    "print('Best value for k (SSD):', best_k_ssd)\n",
    "print('Best Sum of Squared Distances:', best_ssd)"
   ]
  },
  {
   "cell_type": "code",
   "execution_count": null,
   "id": "2fc2464e",
   "metadata": {},
   "outputs": [],
   "source": []
  }
 ],
 "metadata": {
  "kernelspec": {
   "display_name": "Python 3",
   "language": "python",
   "name": "python3"
  },
  "language_info": {
   "codemirror_mode": {
    "name": "ipython",
    "version": 3
   },
   "file_extension": ".py",
   "mimetype": "text/x-python",
   "name": "python",
   "nbconvert_exporter": "python",
   "pygments_lexer": "ipython3",
   "version": "3.8.10"
  }
 },
 "nbformat": 4,
 "nbformat_minor": 5
}
