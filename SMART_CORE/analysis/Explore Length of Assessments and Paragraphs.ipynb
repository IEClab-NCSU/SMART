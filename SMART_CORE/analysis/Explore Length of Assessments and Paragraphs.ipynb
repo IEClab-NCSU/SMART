{
 "cells": [
  {
   "cell_type": "markdown",
   "id": "bd3be88d",
   "metadata": {},
   "source": [
    "Import the necessary libraries."
   ]
  },
  {
   "cell_type": "code",
   "execution_count": 10,
   "id": "6d01a696",
   "metadata": {},
   "outputs": [],
   "source": [
    "from transformers import BertModel, BertConfig, BertTokenizer\n",
    "import os\n",
    "from create_input_lists import create_input_lists_from_csv, lemmatize\n",
    "import matplotlib.pyplot as plt"
   ]
  },
  {
   "cell_type": "markdown",
   "id": "0517bca9",
   "metadata": {},
   "source": [
    "Create the BERT tokenizer."
   ]
  },
  {
   "cell_type": "code",
   "execution_count": 11,
   "id": "aa386cb1",
   "metadata": {},
   "outputs": [],
   "source": [
    "model_path = 'bert-base-uncased'\n",
    "tokenizer = BertTokenizer.from_pretrained(model_path)"
   ]
  },
  {
   "cell_type": "markdown",
   "id": "c3cbac02",
   "metadata": {},
   "source": [
    "Read the text data from file and process it."
   ]
  },
  {
   "cell_type": "code",
   "execution_count": 12,
   "id": "32b6b8ba",
   "metadata": {},
   "outputs": [],
   "source": [
    "input1 = 'assessments.csv'\n",
    "input2 = 'paragraphs.csv'\n",
    "\n",
    "inputFolder = './OneDrive-2020-12-04/intro_bio (with periods)_labelled' # local (temporary)\n",
    "# curr_dir = os.path.dirname(os.path.realpath(__file__))\n",
    "# inputFolder = os.path.join(curr_dir, inputFolder)\n",
    "\n",
    "input1_path = os.path.join(inputFolder, input1)\n",
    "input2_path = os.path.join(inputFolder, input2)\n",
    "\n",
    "text_ids1, lemmatized_texts1, original_texts1, text_ids2, lemmatized_texts2, original_texts2 = create_input_lists_from_csv(input1_path, input2_path)"
   ]
  },
  {
   "cell_type": "code",
   "execution_count": 13,
   "id": "7192d45a",
   "metadata": {},
   "outputs": [],
   "source": [
    "with open('raw-text-for-bert.txt', 'w') as output:\n",
    "    for text in original_texts1:\n",
    "        output.write(text+'\\n')\n",
    "    for text in original_texts2:\n",
    "        output.write(text+'\\n')\n",
    "    "
   ]
  },
  {
   "cell_type": "markdown",
   "id": "cc03cad5",
   "metadata": {},
   "source": [
    "Tokenize the lemmatized texts (assessments and paragraphs)."
   ]
  },
  {
   "cell_type": "code",
   "execution_count": 5,
   "id": "4761fa83",
   "metadata": {},
   "outputs": [],
   "source": [
    "assessment_lengths = []\n",
    "for assessment in lemmatized_texts1:\n",
    "    tokens = tokenizer(assessment)\n",
    "    assessment_lengths.append(len(tokens['input_ids']))\n",
    "    \n",
    "paragraph_lengths = []\n",
    "for paragraph in lemmatized_texts2:\n",
    "    tokens = tokenizer(paragraph)\n",
    "    paragraph_lengths.append(len(tokens['input_ids']))"
   ]
  },
  {
   "cell_type": "markdown",
   "id": "a54d1e84",
   "metadata": {},
   "source": [
    "Output and graph the statistics for the lengths of the assessments and paragraphs."
   ]
  },
  {
   "cell_type": "code",
   "execution_count": 11,
   "id": "52a73c49",
   "metadata": {},
   "outputs": [
    {
     "name": "stdout",
     "output_type": "stream",
     "text": [
      "Minimum Length of an Assessment: 4\n",
      "Maximum Length of an Assessment: 147\n",
      "Mean Length of an Assessment: 30.88\n",
      "\n",
      "Minimum Length of a Paragraph: 3\n",
      "Maximum Length of a Paragraph: 420\n",
      "Mean Length of a Paragraph: 37.36\n"
     ]
    }
   ],
   "source": [
    "min_assessment_length = min(assessment_lengths)\n",
    "max_assessment_length = max(assessment_lengths)\n",
    "mean_assessment_length = 0 if len(assessment_lengths) == 0 else sum(assessment_lengths)/len(assessment_lengths)\n",
    "\n",
    "print('Minimum Length of an Assessment:', min_assessment_length)\n",
    "print('Maximum Length of an Assessment:', max_assessment_length)\n",
    "print(f'Mean Length of an Assessment: {(mean_assessment_length):.2f}\\n')\n",
    "\n",
    "min_paragraph_length = min(paragraph_lengths)\n",
    "max_paragraph_length = max(paragraph_lengths)\n",
    "mean_paragraph_length = 0 if len(paragraph_lengths) == 0 else sum(paragraph_lengths)/len(paragraph_lengths)\n",
    "\n",
    "print('Minimum Length of a Paragraph:', min_paragraph_length)\n",
    "print('Maximum Length of a Paragraph:', max_paragraph_length)\n",
    "print(f'Mean Length of a Paragraph: {(mean_paragraph_length):.2f}')"
   ]
  },
  {
   "cell_type": "code",
   "execution_count": 9,
   "id": "49c1697a",
   "metadata": {},
   "outputs": [
    {
     "data": {
      "image/png": "[encoded data removed]",
      "text/plain": [
       "<Figure size 432x288 with 1 Axes>"
      ]
     },
     "metadata": {
      "needs_background": "light"
     },
     "output_type": "display_data"
    },
    {
     "data": {
      "image/png": "[encoded data removed]",
      "text/plain": [
       "<Figure size 432x288 with 1 Axes>"
      ]
     },
     "metadata": {
      "needs_background": "light"
     },
     "output_type": "display_data"
    }
   ],
   "source": [
    "plt.hist(assessment_lengths, bins = 25)\n",
    "plt.title('Histogram: Assessment Lengths')\n",
    "plt.xlabel('Number of Tokens')\n",
    "plt.ylabel('Count')\n",
    "plt.show()\n",
    "\n",
    "plt.hist(paragraph_lengths, bins = 25)\n",
    "plt.title('Histogram: Paragraph Lengths')\n",
    "plt.xlabel('Number of Tokens')\n",
    "plt.ylabel('Count')\n",
    "plt.show()"
   ]
  },
  {
   "cell_type": "code",
   "execution_count": null,
   "id": "ec20bc59",
   "metadata": {},
   "outputs": [],
   "source": []
  }
 ],
 "metadata": {
  "kernelspec": {
   "display_name": "Python 3",
   "language": "python",
   "name": "python3"
  },
  "language_info": {
   "codemirror_mode": {
    "name": "ipython",
    "version": 3
   },
   "file_extension": ".py",
   "mimetype": "text/x-python",
   "name": "python",
   "nbconvert_exporter": "python",
   "pygments_lexer": "ipython3",
   "version": "3.8.10"
  }
 },
 "nbformat": 4,
 "nbformat_minor": 5
}
