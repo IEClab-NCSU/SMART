{
 "cells": [
  {
   "cell_type": "markdown",
   "id": "eb0a8b2d",
   "metadata": {},
   "source": [
    "Import the necessary libraries."
   ]
  },
  {
   "cell_type": "code",
   "execution_count": 1,
   "id": "689f5774",
   "metadata": {},
   "outputs": [],
   "source": [
    "import csv\n",
    "import numpy as np\n",
    "from numpy import dot\n",
    "from numpy.linalg import norm\n",
    "from sklearn.feature_extraction.text import TfidfVectorizer\n",
    "from create_input_lists import create_input_lists_from_csv, lemmatize\n",
    "from statistics import mean\n",
    "from sklearn.metrics.pairwise import cosine_similarity, euclidean_distances\n",
    "from statistics import mean, median, mode\n",
    "import matplotlib.pyplot as plt\n",
    "import math\n",
    "from sklearn.cluster import KMeans\n",
    "from collections import defaultdict, Counter\n",
    "from sklearn.metrics import silhouette_score"
   ]
  },
  {
   "cell_type": "markdown",
   "id": "c290ad38",
   "metadata": {},
   "source": [
    "Obtain and pre-process the texts."
   ]
  },
  {
   "cell_type": "code",
   "execution_count": 2,
   "id": "2c90b377",
   "metadata": {},
   "outputs": [],
   "source": [
    "paragraph_path = './OneDrive-2020-12-04/intro_bio (with periods)_labelled/paragraphs.csv'\n",
    "assessment_path = './OneDrive-2020-12-04/intro_bio (with periods)_labelled/assessments.csv'"
   ]
  },
  {
   "cell_type": "code",
   "execution_count": 3,
   "id": "9bb64baf",
   "metadata": {},
   "outputs": [],
   "source": [
    "para_ids, lemm_para, orig_para, assess_ids, lemma_assess, orig_assess = create_input_lists_from_csv(paragraph_path, assessment_path)"
   ]
  },
  {
   "cell_type": "markdown",
   "id": "b25882f4",
   "metadata": {},
   "source": [
    "Obtain the TF-IDF vectorization of the texts."
   ]
  },
  {
   "cell_type": "code",
   "execution_count": 4,
   "id": "55c8643f",
   "metadata": {},
   "outputs": [],
   "source": [
    "vectorizer = TfidfVectorizer(use_idf=True, stop_words = 'english')\n",
    "para_vectors = vectorizer.fit_transform(lemm_para)\n",
    "assess_vectors = vectorizer.fit_transform(lemma_assess)\n",
    "\n",
    "second_para_vectors = cosine_similarity(para_vectors, para_vectors)\n",
    "second_assess_vectors = cosine_similarity(assess_vectors, assess_vectors)"
   ]
  },
  {
   "cell_type": "code",
   "execution_count": 5,
   "id": "7f38768c",
   "metadata": {},
   "outputs": [
    {
     "name": "stdout",
     "output_type": "stream",
     "text": [
      "(1608, 4121)\n",
      "(1095, 2630)\n"
     ]
    }
   ],
   "source": [
    "print(para_vectors.shape)\n",
    "print(assess_vectors.shape)\n",
    "print('\\n')\n",
    "print(second_para_vectors.shape)\n",
    "print(second_assess_vectors.shape)"
   ]
  },
  {
   "cell_type": "code",
   "execution_count": 6,
   "id": "7b71df25",
   "metadata": {},
   "outputs": [],
   "source": [
    "para_nonzero_counts = []\n",
    "for vector in para_vectors:\n",
    "    para_nonzero_counts.append(vector.count_nonzero())\n",
    "\n",
    "assess_nonzero_counts = []\n",
    "for vector in assess_vectors:\n",
    "    assess_nonzero_counts.append(vector.count_nonzero())\n",
    "    \n",
    "second_para_nonzero_counts = []\n",
    "for vector in second_para_vectors:\n",
    "    second_para_nonzero_counts.append(vector.count_nonzero())\n",
    "\n",
    "second_assess_nonzero_counts = []\n",
    "for vector in second_assess_vectors:\n",
    "    second_assess_nonzero_counts.append(vector.count_nonzero())"
   ]
  },
  {
   "cell_type": "markdown",
   "id": "fee5aefb",
   "metadata": {},
   "source": [
    "Output Summary Statistics of Vectorizations:"
   ]
  },
  {
   "cell_type": "code",
   "execution_count": 7,
   "id": "5f98b22c",
   "metadata": {},
   "outputs": [
    {
     "name": "stdout",
     "output_type": "stream",
     "text": [
      "TF-IDF for Paragraphs:\n",
      "\n",
      "Average Number of Non-Zeros: 20.018034825870647\n",
      "Total # of Dimensions: 4121\n",
      "\n",
      "\n",
      "TF-IDF for Assessments:\n",
      "\n",
      "Average Number of Non-Zeros: 14.107762557077626\n",
      "Total # of Dimensions: 2630\n"
     ]
    }
   ],
   "source": [
    "print('TF-IDF for Paragraphs:\\n')\n",
    "print('Average Number of Non-Zeros (First):', mean(para_nonzero_counts))\n",
    "print('Total # of Dimensions (First):', para_vectors.shape[1])\n",
    "print('Average Number of Non-Zeros (Second):', mean(second_para_nonzero_counts))\n",
    "print('Total # of Dimensions (Second):', second_para_vectors.shape[1])\n",
    "\n",
    "print('\\n\\nTF-IDF for Assessments:\\n')\n",
    "print('Average Number of Non-Zeros (First):', mean(assess_nonzero_counts))\n",
    "print('Total # of Dimensions (First):', assess_vectors.shape[1])\n",
    "print('Average Number of Non-Zeros (Second):', mean(second_assess_nonzero_counts))\n",
    "print('Total # of Dimensions (Second):', second_assess_vectors.shape[1])"
   ]
  },
  {
   "cell_type": "code",
   "execution_count": 8,
   "id": "979abec4",
   "metadata": {},
   "outputs": [],
   "source": [
    "def plot_distances(distances_list_within, distances_list_between):\n",
    "    plt.hist(distances_list_within, rwidth = 0.8, bins=np.arange(min(distances_list_within), max(distances_list_within) + 0.01, 0.01), label='Within Cluster Pairs')\n",
    "    plt.hist(distances_list_within, rwidth = 0.8, bins=np.arange(min(distances_list_within), max(distances_list_within) + 0.01, 0.01), label='Between Cluster Pairs')\n",
    "    plt.xlabel('Pairwise Distance',fontsize=10)\n",
    "    plt.ylabel('Frequency',fontsize=10)\n",
    "    plt.xticks(fontsize=6)\n",
    "    plt.yticks(fontsize=6)\n",
    "    plt.xticks(np.arange(min(distances_list), max(distances_list)+0.1, 0.1))\n",
    "    plt.legend()\n",
    "    plt.grid()\n",
    "    plt.show()\n",
    "    \n",
    "def calculate_pairwise_metrics(pairs):    \n",
    "    cos_sim_list = []\n",
    "    dist_list = []\n",
    "    orthogonal_count = 0\n",
    "    for pair in pairs:\n",
    "        a,b = pair\n",
    "        a = np.array(a)\n",
    "        b = np.array(b)\n",
    "        cos_sim = dot(a, b)/(norm(a)*norm(b))\n",
    "        cos_sim_list.append(cos_sim)\n",
    "\n",
    "        if cos_sim == 0:\n",
    "            orthogonal_count += 1\n",
    "\n",
    "        dist = norm(a - b)\n",
    "        dist_list.append(dist)\n",
    "    \n",
    "    return(cos_sim_list, orthogonal_count, dist_list)\n",
    "\n",
    "    \n",
    "def print_distance_statistics(dist_list):\n",
    "    dist_list = [x for x in dist_list if math.isnan(x) == False]\n",
    "    print('Euclidean Distance Mean:', mean(dist_list))\n",
    "    print('Euclidean Distance Median:', median(dist_list))\n",
    "    print('Euclidean Distance Mode:', mode(dist_list))\n",
    "    print('Euclidean Distance Min:', min(dist_list))\n",
    "    print('Euclidean Distance Max:', max(dist_list))"
   ]
  },
  {
   "cell_type": "code",
   "execution_count": 35,
   "id": "9031fcfd",
   "metadata": {},
   "outputs": [
    {
     "name": "stdout",
     "output_type": "stream",
     "text": [
      "0.10879960415421469\n"
     ]
    }
   ],
   "source": [
    "km = KMeans(n_clusters = 200, max_iter = 50000, init = 'k-means++')\n",
    "cluster_assignment = km.fit(assess_vectors).labels_\n",
    "s = silhouette_score(assess_vectors, cluster_assignment, metric='euclidean')\n",
    "print(s)\n",
    "\n",
    "km_second = KMeans(n_clusters = 200, max_iter = 50000, init = 'k-means++')\n",
    "cluster_assignment_second = km_second.fit(second_assess_vectors).labels_\n",
    "s_second = silhouette_score(second_assess_vectors, cluster_assignment, metric='euclidean')\n",
    "print(s_second)"
   ]
  },
  {
   "cell_type": "code",
   "execution_count": 36,
   "id": "0c1b4f4a",
   "metadata": {},
   "outputs": [],
   "source": [
    "clusterIndex_to_clusteredText1 = defaultdict(lambda: \" \")\n",
    "text_id1_to_clusterIndex = dict()\n",
    "\n",
    "for i, clusterIndex in enumerate(cluster_assignment): # len(cluster_assignment) is equal to len(vectors)\n",
    "    clusterIndex_to_clusteredText1[clusterIndex] += orig_assess[i] + \". \" \n",
    "    text_id1_to_clusterIndex[assess_ids[i]] = clusterIndex"
   ]
  },
  {
   "cell_type": "code",
   "execution_count": 37,
   "id": "557160a1",
   "metadata": {},
   "outputs": [
    {
     "name": "stdout",
     "output_type": "stream",
     "text": [
      "Cosine Similarity Mean: 0.017778784302364445\n",
      "Cosine Similarity Median: 0.0\n",
      "Cosine Similarity Mode: 0.0\n",
      "Cosine Similarity Min: 0.0\n",
      "Cosine Similarity Max: 0.8496707999000419\n",
      "\n",
      "Number of Pairs: 595644\n",
      "Number of Orthogonal Pairs: 437561\n",
      "Percentage of Orthogonal Pairs: 0.7346015405174903\n"
     ]
    },
    {
     "data": {
      "image/png": "[encoded data removed]",
      "text/plain": [
       "<Figure size 432x288 with 1 Axes>"
      ]
     },
     "metadata": {
      "needs_background": "light"
     },
     "output_type": "display_data"
    },
    {
     "name": "stdout",
     "output_type": "stream",
     "text": [
      "Euclidean Distance Mean: 1.4011054754007257\n",
      "Euclidean Distance Median: 1.4142135623730951\n",
      "Euclidean Distance Mode: 1.4142135623730951\n",
      "Euclidean Distance Min: 0.5483232625011603\n",
      "Euclidean Distance Max: 1.4142135623730954\n"
     ]
    },
    {
     "data": {
      "image/png": "[encoded data removed]",
      "text/plain": [
       "<Figure size 432x288 with 1 Axes>"
      ]
     },
     "metadata": {
      "needs_background": "light"
     },
     "output_type": "display_data"
    }
   ],
   "source": [
    "assess_pair_ids = [[a, b] for idx, a in enumerate(assess_ids) for b in assess_ids[idx + 1:]]\n",
    "\n",
    "inter_cluster_pairs = []\n",
    "for index in range(0,len(assess_pairs)):\n",
    "    a, b = assess_pairs[index]\n",
    "    a_id, b_id = assess_pair_ids[index]\n",
    "    a_cluster = text_id1_to_clusterIndex[a_id]\n",
    "    b_cluster = text_id1_to_clusterIndex[b_id]\n",
    "    if a_cluster != b_cluster:\n",
    "        inter_cluster_pairs.append([a,b])\n",
    "    \n",
    "cluster_sim_list, cluster_count, cluster_dist_list = calculate_pairwise_metrics(inter_cluster_pairs)\n",
    "print_similarity_statistics(cluster_sim_list)\n",
    "print('\\nNumber of Pairs:', len(inter_cluster_pairs))\n",
    "print('Number of Orthogonal Pairs:', cluster_count)\n",
    "print('Percentage of Orthogonal Pairs:', cluster_count/len(inter_cluster_pairs))\n",
    "plot_similarities(cluster_sim_list)\n",
    "\n",
    "print_distance_statistics(cluster_dist_list)\n",
    "plot_distances(cluster_dist_list)\n",
    "\n",
    "assess_pair_ids = [[a, b] for idx, a in enumerate(assess_ids) for b in assess_ids[idx + 1:]]\n",
    "\n",
    "intra_cluster_pairs = []\n",
    "for index in range(0,len(assess_pairs)):\n",
    "    a, b = assess_pairs[index]\n",
    "    a_id, b_id = assess_pair_ids[index]\n",
    "    a_cluster = text_id1_to_clusterIndex[a_id]\n",
    "    b_cluster = text_id1_to_clusterIndex[b_id]\n",
    "    if a_cluster == b_cluster:\n",
    "        intra_cluster_pairs.append([a,b])\n",
    "    \n",
    "cluster_sim_list, cluster_count, cluster_dist_list = calculate_pairwise_metrics(intra_cluster_pairs)\n",
    "print_similarity_statistics(cluster_sim_list)\n",
    "print('\\nNumber of Pairs:', len(intra_cluster_pairs))\n",
    "print('Number of Orthogonal Pairs:', cluster_count)\n",
    "print('Percentage of Orthogonal Pairs:', cluster_count/len(intra_cluster_pairs))\n",
    "plot_similarities(cluster_sim_list)\n",
    "\n",
    "print_distance_statistics(cluster_dist_list)\n",
    "plot_distances(cluster_dist_list)"
   ]
  }
 ],
 "metadata": {
  "kernelspec": {
   "display_name": "Python 3",
   "language": "python",
   "name": "python3"
  },
  "language_info": {
   "codemirror_mode": {
    "name": "ipython",
    "version": 3
   },
   "file_extension": ".py",
   "mimetype": "text/x-python",
   "name": "python",
   "nbconvert_exporter": "python",
   "pygments_lexer": "ipython3",
   "version": "3.8.10"
  }
 },
 "nbformat": 4,
 "nbformat_minor": 5
}
