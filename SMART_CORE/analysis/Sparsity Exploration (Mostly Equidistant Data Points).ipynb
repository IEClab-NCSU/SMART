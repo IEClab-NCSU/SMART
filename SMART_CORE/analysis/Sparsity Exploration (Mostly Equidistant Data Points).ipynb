{
 "cells": [
  {
   "cell_type": "markdown",
   "id": "eb0a8b2d",
   "metadata": {},
   "source": [
    "Import the necessary libraries."
   ]
  },
  {
   "cell_type": "code",
   "execution_count": 1,
   "id": "689f5774",
   "metadata": {},
   "outputs": [],
   "source": [
    "import csv\n",
    "import numpy as np\n",
    "from numpy import dot\n",
    "from numpy.linalg import norm\n",
    "from sklearn.feature_extraction.text import TfidfVectorizer\n",
    "from create_input_lists import create_input_lists_from_csv, lemmatize\n",
    "from statistics import mean\n",
    "from sklearn.metrics.pairwise import cosine_similarity, euclidean_distances\n",
    "from statistics import mean, median, mode\n",
    "import matplotlib.pyplot as plt\n",
    "import math\n",
    "from sklearn.cluster import KMeans\n",
    "from collections import defaultdict, Counter\n",
    "from sklearn.metrics import silhouette_score"
   ]
  },
  {
   "cell_type": "markdown",
   "id": "8d55a69a",
   "metadata": {},
   "source": [
    "Define the example vectors."
   ]
  },
  {
   "cell_type": "code",
   "execution_count": 2,
   "id": "15d118b7",
   "metadata": {},
   "outputs": [],
   "source": [
    "vectors = [[1,0,0,0,0,0,0,0,0,0,0],\n",
    "           [0,1,0,0,0,0,0,0,0,0,0],\n",
    "           [0,0,1,0,0,0,0,0,0,0,0],\n",
    "           [0,0,0,1,0,0,0,0,0,0,0],\n",
    "           [0,0,0,0,1,0,0,0,0,0,0],\n",
    "           [0,0,0,0,0,1,0,0,0,0,0],\n",
    "           [0,0,0,0,0,0,1,0,0,0,0],\n",
    "           [0,0,0,0,0,0,0,1,0,0,0],\n",
    "           [0,0,0,0,0,0,0,0,1,0,0],\n",
    "           [0,0,0,0,0,0,0,0,0,1,0],\n",
    "           [0,0,0,0,0,0,0,0,0,0,1],\n",
    "           [0.9,0.1,0,0,0,0,0,0,0,0,0]]\n",
    "           # [0.1,0.9,0,0,0,0,0,0,0,0,0]]\n",
    "           # [0.2,0.8,0,0,0,0,0,0,0,0,0]]\n",
    "\n",
    "for index in range(0, len(vectors)):\n",
    "    vectors[index] = vectors[index] / norm(vectors[index])"
   ]
  },
  {
   "cell_type": "code",
   "execution_count": 3,
   "id": "7f38768c",
   "metadata": {},
   "outputs": [
    {
     "name": "stdout",
     "output_type": "stream",
     "text": [
      "(12, 11)\n"
     ]
    }
   ],
   "source": [
    "print(np.array(vectors).shape)"
   ]
  },
  {
   "cell_type": "code",
   "execution_count": 4,
   "id": "7b71df25",
   "metadata": {},
   "outputs": [],
   "source": [
    "nonzero_counts = []\n",
    "for vector in vectors:\n",
    "    nonzero_counts.append(np.count_nonzero(vector))"
   ]
  },
  {
   "cell_type": "markdown",
   "id": "fee5aefb",
   "metadata": {},
   "source": [
    "Output Summary Statistics of Vectorizations:"
   ]
  },
  {
   "cell_type": "code",
   "execution_count": 5,
   "id": "5f98b22c",
   "metadata": {},
   "outputs": [
    {
     "name": "stdout",
     "output_type": "stream",
     "text": [
      "Summary of Example Vectors:\n",
      "\n",
      "Average Number of Non-Zeros: 1.0833333333333333\n",
      "Total # of Dimensions: 11\n"
     ]
    }
   ],
   "source": [
    "print('Summary of Example Vectors:\\n')\n",
    "print('Average Number of Non-Zeros:', mean(nonzero_counts))\n",
    "print('Total # of Dimensions:', np.array(vectors).shape[1])"
   ]
  },
  {
   "cell_type": "code",
   "execution_count": 6,
   "id": "979abec4",
   "metadata": {},
   "outputs": [],
   "source": [
    "def plot_distances(distances_list):\n",
    "    plt.hist(distances_list, rwidth = 0.8, bins=np.arange(min(distances_list), max(distances_list) + 0.01, 0.01))\n",
    "    plt.xlabel('Pairwise Distance',fontsize=10)\n",
    "    plt.ylabel('Frequency',fontsize=10)\n",
    "    plt.xticks(fontsize=6)\n",
    "    plt.yticks(fontsize=6)\n",
    "    plt.xticks(np.arange(min(distances_list), max(distances_list)+0.1, 0.1))\n",
    "    plt.grid()\n",
    "    plt.show()\n",
    "    \n",
    "def plot_similarities(cos_sim_list):\n",
    "    plt.hist(cos_sim_list, rwidth = 0.8, bins=np.arange(min(cos_sim_list), max(cos_sim_list) + 0.01, 0.01))\n",
    "    plt.xlabel('Pairwise Cosine Similarity',fontsize=10)\n",
    "    plt.ylabel('Frequency',fontsize=10)\n",
    "    plt.xticks(fontsize=6)\n",
    "    plt.yticks(fontsize=6)\n",
    "    plt.xticks(np.arange(min(cos_sim_list), max(cos_sim_list)+0.1, 0.1))\n",
    "    plt.grid()\n",
    "    plt.show()\n",
    "    \n",
    "def calculate_pairwise_metrics(pairs):    \n",
    "    cos_sim_list = []\n",
    "    dist_list = []\n",
    "    orthogonal_count = 0\n",
    "    for pair in pairs:\n",
    "        a,b = pair\n",
    "        a = np.array(a)\n",
    "        b = np.array(b)\n",
    "        cos_sim = dot(a, b)/(norm(a)*norm(b))\n",
    "        cos_sim_list.append(cos_sim)\n",
    "\n",
    "        if cos_sim == 0:\n",
    "            orthogonal_count += 1\n",
    "\n",
    "        dist = norm(a - b)\n",
    "        dist_list.append(dist)\n",
    "    \n",
    "    return(cos_sim_list, orthogonal_count, dist_list)\n",
    "\n",
    "def print_similarity_statistics(sim_list):\n",
    "    print('Cosine Similarity Mean:', mean(sim_list))\n",
    "    print('Cosine Similarity Median:', median(sim_list))\n",
    "    print('Cosine Similarity Mode:', mode(sim_list))\n",
    "    print('Cosine Similarity Min:', min(sim_list))\n",
    "    print('Cosine Similarity Max:', max(sim_list))\n",
    "    \n",
    "def print_distance_statistics(dist_list):\n",
    "    print('Euclidean Distance Mean:', mean(dist_list))\n",
    "    print('Euclidean Distance Median:', median(dist_list))\n",
    "    print('Euclidean Distance Mode:', mode(dist_list))\n",
    "    print('Euclidean Distance Min:', min(dist_list))\n",
    "    print('Euclidean Distance Max:', max(dist_list))"
   ]
  },
  {
   "cell_type": "code",
   "execution_count": 7,
   "id": "524eb072",
   "metadata": {},
   "outputs": [
    {
     "name": "stdout",
     "output_type": "stream",
     "text": [
      "Cosine Similarity Mean: 0.01673204940527978\n",
      "Cosine Similarity Median: 0.0\n",
      "Cosine Similarity Mode: 0.0\n",
      "Cosine Similarity Min: 0.0\n",
      "Cosine Similarity Max: 0.9938837346736189\n",
      "\n",
      "Number of Pairs: 66\n",
      "Number of Orthogonal Pairs: 64\n"
     ]
    },
    {
     "data": {
      "image/png": "[encoded data removed]",
      "text/plain": [
       "<Figure size 432x288 with 1 Axes>"
      ]
     },
     "metadata": {
      "needs_background": "light"
     },
     "output_type": "display_data"
    },
    {
     "name": "stdout",
     "output_type": "stream",
     "text": [
      "Euclidean Distance Mean: 1.3932441164862261\n",
      "Euclidean Distance Median: 1.4142135623730951\n",
      "Euclidean Distance Mode: 1.4142135623730951\n",
      "Euclidean Distance Min: 0.11060077148357603\n",
      "Euclidean Distance Max: 1.4142135623730951\n"
     ]
    },
    {
     "data": {
      "image/png": "[encoded data removed]",
      "text/plain": [
       "<Figure size 432x288 with 1 Axes>"
      ]
     },
     "metadata": {
      "needs_background": "light"
     },
     "output_type": "display_data"
    }
   ],
   "source": [
    "pairs = [[a, b] for idx, a in enumerate(vectors) for b in vectors[idx + 1:]]\n",
    "\n",
    "sim_list, count, dist_list = calculate_pairwise_metrics(pairs)\n",
    "print_similarity_statistics(sim_list)\n",
    "print('\\nNumber of Pairs:', len(pairs))\n",
    "print('Number of Orthogonal Pairs:', count)\n",
    "plot_similarities(sim_list)\n",
    "\n",
    "print_distance_statistics(dist_list)\n",
    "plot_distances(dist_list)"
   ]
  },
  {
   "cell_type": "code",
   "execution_count": 8,
   "id": "5395b10c",
   "metadata": {},
   "outputs": [],
   "source": [
    "k = 2\n",
    "k_list = []\n",
    "best_k = 75\n",
    "\n",
    "score_list = []\n",
    "best_score = -2.0\n",
    "\n",
    "while k < len(vectors):\n",
    "    km = KMeans(n_clusters = k, max_iter = 50000, init = 'k-means++', random_state=43)\n",
    "    cluster_assignment = km.fit(vectors).labels_\n",
    "    s = silhouette_score(vectors, cluster_assignment, metric='euclidean')\n",
    "    if s > best_score:\n",
    "        best_score = s\n",
    "        best_k = k\n",
    "    k_list.append(k)\n",
    "    score_list.append(s)\n",
    "    k += 1"
   ]
  },
  {
   "cell_type": "code",
   "execution_count": 9,
   "id": "48550bd0",
   "metadata": {},
   "outputs": [
    {
     "data": {
      "image/png": "[encoded data removed]",
      "text/plain": [
       "<Figure size 432x288 with 1 Axes>"
      ]
     },
     "metadata": {
      "needs_background": "light"
     },
     "output_type": "display_data"
    }
   ],
   "source": [
    "plt.plot(k_list,score_list)\n",
    "plt.title('Number of Clusters versus Silhouette Score')\n",
    "plt.xlabel('Number of Clusters (k)')\n",
    "plt.ylabel('Silhouette Score')\n",
    "plt.show()"
   ]
  },
  {
   "cell_type": "code",
   "execution_count": 10,
   "id": "1c2cc656",
   "metadata": {},
   "outputs": [
    {
     "name": "stdout",
     "output_type": "stream",
     "text": [
      "Best value for k: 5\n",
      "Best Silhouette Score: 0.15323954641087992\n"
     ]
    }
   ],
   "source": [
    "print('Best value for k:', best_k)\n",
    "print('Best Silhouette Score:', best_score)"
   ]
  },
  {
   "cell_type": "code",
   "execution_count": null,
   "id": "68329a10",
   "metadata": {},
   "outputs": [],
   "source": []
  }
 ],
 "metadata": {
  "kernelspec": {
   "display_name": "Python 3",
   "language": "python",
   "name": "python3"
  },
  "language_info": {
   "codemirror_mode": {
    "name": "ipython",
    "version": 3
   },
   "file_extension": ".py",
   "mimetype": "text/x-python",
   "name": "python",
   "nbconvert_exporter": "python",
   "pygments_lexer": "ipython3",
   "version": "3.8.5"
  }
 },
 "nbformat": 4,
 "nbformat_minor": 5
}
