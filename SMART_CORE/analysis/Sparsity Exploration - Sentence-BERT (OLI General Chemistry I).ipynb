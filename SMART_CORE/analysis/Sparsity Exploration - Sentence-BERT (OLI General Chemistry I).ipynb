{
 "cells": [
  {
   "cell_type": "markdown",
   "id": "eb0a8b2d",
   "metadata": {},
   "source": [
    "Import the necessary libraries."
   ]
  },
  {
   "cell_type": "code",
   "execution_count": 1,
   "id": "689f5774",
   "metadata": {},
   "outputs": [],
   "source": [
    "import csv\n",
    "import numpy as np\n",
    "from numpy import dot\n",
    "from numpy.linalg import norm\n",
    "from sentence_transformers import SentenceTransformer\n",
    "from create_input_lists import create_input_lists_from_csv, lemmatize\n",
    "from statistics import mean\n",
    "from sklearn.metrics.pairwise import cosine_similarity, euclidean_distances\n",
    "from statistics import mean, median, mode\n",
    "import matplotlib.pyplot as plt\n",
    "import math\n",
    "from sklearn.cluster import KMeans\n",
    "from sklearn.metrics import silhouette_score\n",
    "from collections import defaultdict, Counter"
   ]
  },
  {
   "cell_type": "markdown",
   "id": "c290ad38",
   "metadata": {},
   "source": [
    "Obtain and pre-process the texts."
   ]
  },
  {
   "cell_type": "code",
   "execution_count": 2,
   "id": "2c90b377",
   "metadata": {},
   "outputs": [],
   "source": [
    "paragraph_path = './OneDrive-2020-12-04/gen_chem/paragraphs.csv'\n",
    "assessment_path = './OneDrive-2020-12-04/gen_chem/assessments.csv'"
   ]
  },
  {
   "cell_type": "code",
   "execution_count": 3,
   "id": "9bb64baf",
   "metadata": {},
   "outputs": [],
   "source": [
    "para_ids, lemm_para, orig_para, assess_ids, lemma_assess, orig_assess = create_input_lists_from_csv(paragraph_path, assessment_path)"
   ]
  },
  {
   "cell_type": "markdown",
   "id": "b25882f4",
   "metadata": {},
   "source": [
    "Obtain the BERT embeddings of the texts."
   ]
  },
  {
   "cell_type": "code",
   "execution_count": 4,
   "id": "55c8643f",
   "metadata": {},
   "outputs": [],
   "source": [
    "def get_embeddings_sentBert(texts):\n",
    "    model = SentenceTransformer('paraphrase-distilroberta-base-v2')\n",
    "    text_embeddings = model.encode(texts)\n",
    "\n",
    "    return np.array(text_embeddings)\n",
    "\n",
    "para_vectors = get_embeddings_sentBert(lemm_para)\n",
    "assess_vectors = get_embeddings_sentBert(lemma_assess)"
   ]
  },
  {
   "cell_type": "code",
   "execution_count": 5,
   "id": "7f38768c",
   "metadata": {},
   "outputs": [
    {
     "name": "stdout",
     "output_type": "stream",
     "text": [
      "(2860, 768)\n",
      "(1275, 768)\n"
     ]
    }
   ],
   "source": [
    "print(para_vectors.shape)\n",
    "print(assess_vectors.shape)"
   ]
  },
  {
   "cell_type": "code",
   "execution_count": 6,
   "id": "7b71df25",
   "metadata": {},
   "outputs": [],
   "source": [
    "para_nonzero_counts = []\n",
    "for vector in para_vectors:\n",
    "    para_nonzero_counts.append(np.count_nonzero(vector))\n",
    "\n",
    "assess_nonzero_counts = []\n",
    "for vector in assess_vectors:\n",
    "    assess_nonzero_counts.append(np.count_nonzero(vector))"
   ]
  },
  {
   "cell_type": "markdown",
   "id": "fee5aefb",
   "metadata": {},
   "source": [
    "Output Summary Statistics of Vectorizations:"
   ]
  },
  {
   "cell_type": "code",
   "execution_count": 7,
   "id": "5f98b22c",
   "metadata": {},
   "outputs": [
    {
     "name": "stdout",
     "output_type": "stream",
     "text": [
      "TF-IDF for Paragraphs:\n",
      "\n",
      "Average Number of Non-Zeros: 768\n",
      "Total # of Dimensions: 768\n",
      "\n",
      "\n",
      "TF-IDF for Assessments:\n",
      "\n",
      "Average Number of Non-Zeros: 768\n",
      "Total # of Dimensions: 768\n"
     ]
    }
   ],
   "source": [
    "print('TF-IDF for Paragraphs:\\n')\n",
    "print('Average Number of Non-Zeros:', mean(para_nonzero_counts))\n",
    "print('Total # of Dimensions:', para_vectors.shape[1])\n",
    "\n",
    "\n",
    "print('\\n\\nTF-IDF for Assessments:\\n')\n",
    "print('Average Number of Non-Zeros:', mean(assess_nonzero_counts))\n",
    "print('Total # of Dimensions:', assess_vectors.shape[1])"
   ]
  },
  {
   "cell_type": "code",
   "execution_count": 8,
   "id": "979abec4",
   "metadata": {},
   "outputs": [],
   "source": [
    "def plot_distances(distances_list):\n",
    "    plt.hist(distances_list, rwidth = 0.8, bins=np.arange(min(distances_list), max(distances_list) + 0.01, 0.01))\n",
    "    plt.xlabel('Pairwise Distance',fontsize=10)\n",
    "    plt.ylabel('Frequency',fontsize=10)\n",
    "    plt.xticks(fontsize=6)\n",
    "    plt.yticks(fontsize=6)\n",
    "    plt.xticks(np.arange(min(distances_list), max(distances_list)+0.1, 0.1))\n",
    "    plt.grid()\n",
    "    plt.show()\n",
    "    \n",
    "def plot_similarities(cos_sim_list):\n",
    "    plt.hist(cos_sim_list, rwidth = 0.8, bins=np.arange(min(cos_sim_list), max(cos_sim_list) + 0.01, 0.01))\n",
    "    plt.xlabel('Pairwise Cosine Similarity',fontsize=10)\n",
    "    plt.ylabel('Frequency',fontsize=10)\n",
    "    plt.xticks(fontsize=6)\n",
    "    plt.yticks(fontsize=6)\n",
    "    plt.xticks(np.arange(min(cos_sim_list), max(cos_sim_list)+0.1, 0.1))\n",
    "    plt.grid()\n",
    "    plt.show()\n",
    "    \n",
    "def calculate_pairwise_metrics(pairs):    \n",
    "    cos_sim_list = []\n",
    "    dist_list = []\n",
    "    orthogonal_count = 0\n",
    "    for pair in pairs:\n",
    "        a,b = pair\n",
    "        a = np.array(a)\n",
    "        b = np.array(b)\n",
    "        cos_sim = dot(a, b)/(norm(a)*norm(b))\n",
    "        cos_sim_list.append(cos_sim)\n",
    "\n",
    "        if -0.01 <= cos_sim <= 0.01:\n",
    "            orthogonal_count += 1\n",
    "\n",
    "        dist = norm(a - b)\n",
    "        dist_list.append(dist)\n",
    "    \n",
    "    return(cos_sim_list, orthogonal_count, dist_list)\n",
    "\n",
    "def print_similarity_statistics(sim_list):\n",
    "    print('Cosine Similarity Mean:', mean(sim_list))\n",
    "    print('Cosine Similarity Median:', median(sim_list))\n",
    "    print('Cosine Similarity Mode:', mode(sim_list))\n",
    "    print('Cosine Similarity Min:', min(sim_list))\n",
    "    print('Cosine Similarity Max:', max(sim_list))\n",
    "    \n",
    "def print_distance_statistics(dist_list):\n",
    "    print('Euclidean Distance Mean:', mean(dist_list))\n",
    "    print('Euclidean Distance Median:', median(dist_list))\n",
    "    print('Euclidean Distance Mode:', mode(dist_list))\n",
    "    print('Euclidean Distance Min:', min(dist_list))\n",
    "    print('Euclidean Distance Max:', max(dist_list))"
   ]
  },
  {
   "cell_type": "code",
   "execution_count": 9,
   "id": "524eb072",
   "metadata": {},
   "outputs": [
    {
     "name": "stdout",
     "output_type": "stream",
     "text": [
      "Cosine Similarity Mean: 0.15751713618455074\n",
      "Cosine Similarity Median: 0.13302906523433158\n",
      "Cosine Similarity Mode: 1.0\n",
      "Cosine Similarity Min: -0.23466059791378716\n",
      "Cosine Similarity Max: 1.0000000000000002\n",
      "\n",
      "Number of Pairs: 4088370\n",
      "Number of Orthogonal Pairs: 164123\n"
     ]
    },
    {
     "data": {
      "image/png": "[encoded data removed]",
      "text/plain": [
       "<Figure size 432x288 with 1 Axes>"
      ]
     },
     "metadata": {
      "needs_background": "light"
     },
     "output_type": "display_data"
    },
    {
     "name": "stdout",
     "output_type": "stream",
     "text": [
      "Euclidean Distance Mean: 19.678437552427123\n",
      "Euclidean Distance Median: 19.99947204007117\n",
      "Euclidean Distance Mode: 0.0\n",
      "Euclidean Distance Min: 0.0\n",
      "Euclidean Distance Max: 28.07460822204368\n"
     ]
    },
    {
     "data": {
      "image/png": "[encoded data removed]",
      "text/plain": [
       "<Figure size 432x288 with 1 Axes>"
      ]
     },
     "metadata": {
      "needs_background": "light"
     },
     "output_type": "display_data"
    }
   ],
   "source": [
    "para_vectors = para_vectors.tolist()\n",
    "\n",
    "para_pairs = [[a, b] for idx, a in enumerate(para_vectors) for b in para_vectors[idx + 1:]]\n",
    "\n",
    "para_sim_list, para_count, para_dist_list = calculate_pairwise_metrics(para_pairs)\n",
    "print_similarity_statistics(para_sim_list)\n",
    "print('\\nNumber of Pairs:', len(para_pairs))\n",
    "print('Number of Orthogonal Pairs:', para_count)\n",
    "plot_similarities(para_sim_list)\n",
    "\n",
    "print_distance_statistics(para_dist_list)\n",
    "plot_distances(para_dist_list)"
   ]
  },
  {
   "cell_type": "code",
   "execution_count": 10,
   "id": "2d879122",
   "metadata": {},
   "outputs": [
    {
     "name": "stdout",
     "output_type": "stream",
     "text": [
      "Cosine Similarity Mean: 0.24360421669690777\n",
      "Cosine Similarity Median: 0.21970276935817606\n",
      "Cosine Similarity Mode: 1.0\n",
      "Cosine Similarity Min: -0.22610760045978706\n",
      "Cosine Similarity Max: 1.0000000000000002\n",
      "\n",
      "Number of Pairs: 812175\n",
      "Number of Orthogonal Pairs: 8352\n",
      "Percentage of Orthogonal Pairs: 0.010283498014590452\n"
     ]
    },
    {
     "data": {
      "image/png": "[encoded data removed]",
      "text/plain": [
       "<Figure size 432x288 with 1 Axes>"
      ]
     },
     "metadata": {
      "needs_background": "light"
     },
     "output_type": "display_data"
    },
    {
     "name": "stdout",
     "output_type": "stream",
     "text": [
      "Euclidean Distance Mean: 17.441214154634807\n",
      "Euclidean Distance Median: 17.739115978969103\n",
      "Euclidean Distance Mode: 0.0\n",
      "Euclidean Distance Min: 0.0\n",
      "Euclidean Distance Max: 27.29860854193884\n"
     ]
    },
    {
     "data": {
      "image/png": "[encoded data removed]",
      "text/plain": [
       "<Figure size 432x288 with 1 Axes>"
      ]
     },
     "metadata": {
      "needs_background": "light"
     },
     "output_type": "display_data"
    }
   ],
   "source": [
    "assess_vectors = assess_vectors.tolist()\n",
    "\n",
    "assess_pairs = [[a, b] for idx, a in enumerate(assess_vectors) for b in assess_vectors[idx + 1:]]\n",
    "\n",
    "assess_sim_list, assess_count, assess_dist_list = calculate_pairwise_metrics(assess_pairs)\n",
    "print_similarity_statistics(assess_sim_list)\n",
    "print('\\nNumber of Pairs:', len(assess_pairs))\n",
    "print('Number of Orthogonal Pairs:', assess_count)\n",
    "print('Percentage of Orthogonal Pairs:', assess_count/len(assess_pairs))\n",
    "plot_similarities(assess_sim_list)\n",
    "\n",
    "print_distance_statistics(assess_dist_list)\n",
    "plot_distances(assess_dist_list)"
   ]
  },
  {
   "cell_type": "code",
   "execution_count": 35,
   "id": "fef65945",
   "metadata": {},
   "outputs": [
    {
     "name": "stdout",
     "output_type": "stream",
     "text": [
      "0.08857169548049601\n"
     ]
    }
   ],
   "source": [
    "km = KMeans(n_clusters = 200, max_iter = 50000, init = 'k-means++')\n",
    "cluster_assignment = km.fit(assess_vectors).labels_\n",
    "s = silhouette_score(assess_vectors, cluster_assignment, metric='euclidean')\n",
    "print(s)"
   ]
  },
  {
   "cell_type": "code",
   "execution_count": 36,
   "id": "32860be3",
   "metadata": {},
   "outputs": [],
   "source": [
    "clusterIndex_to_clusteredText1 = defaultdict(lambda: \" \")\n",
    "text_id1_to_clusterIndex = dict()\n",
    "\n",
    "for i, clusterIndex in enumerate(cluster_assignment): # len(cluster_assignment) is equal to len(vectors)\n",
    "    clusterIndex_to_clusteredText1[clusterIndex] += orig_assess[i] + \". \" \n",
    "    text_id1_to_clusterIndex[assess_ids[i]] = clusterIndex"
   ]
  },
  {
   "cell_type": "code",
   "execution_count": 37,
   "id": "c3b23fe5",
   "metadata": {},
   "outputs": [
    {
     "name": "stdout",
     "output_type": "stream",
     "text": [
      "Cosine Similarity Mean: 0.24042243140867528\n",
      "Cosine Similarity Median: 0.21827091644270158\n",
      "Cosine Similarity Mode: 0.21510773420863666\n",
      "Cosine Similarity Min: -0.22610760045978706\n",
      "Cosine Similarity Max: 0.9377070546374202\n",
      "\n",
      "Number of Pairs: 805112\n",
      "Number of Orthogonal Pairs: 8352\n",
      "Percentage of Orthogonal Pairs: 0.010373711980444957\n"
     ]
    },
    {
     "data": {
      "image/png": "[encoded data removed]",
      "text/plain": [
       "<Figure size 432x288 with 1 Axes>"
      ]
     },
     "metadata": {
      "needs_background": "light"
     },
     "output_type": "display_data"
    },
    {
     "name": "stdout",
     "output_type": "stream",
     "text": [
      "Euclidean Distance Mean: 17.492202812913202\n",
      "Euclidean Distance Median: 17.76533807589591\n",
      "Euclidean Distance Mode: 21.12959055199726\n",
      "Euclidean Distance Min: 4.461529153859777\n",
      "Euclidean Distance Max: 27.29860854193884\n"
     ]
    },
    {
     "data": {
      "image/png": "[encoded data removed]",
      "text/plain": [
       "<Figure size 432x288 with 1 Axes>"
      ]
     },
     "metadata": {
      "needs_background": "light"
     },
     "output_type": "display_data"
    }
   ],
   "source": [
    "assess_pair_ids = [[a, b] for idx, a in enumerate(assess_ids) for b in assess_ids[idx + 1:]]\n",
    "\n",
    "inter_cluster_pairs = []\n",
    "for index in range(0,len(assess_pairs)):\n",
    "    a, b = assess_pairs[index]\n",
    "    a_id, b_id = assess_pair_ids[index]\n",
    "    a_cluster = text_id1_to_clusterIndex[a_id]\n",
    "    b_cluster = text_id1_to_clusterIndex[b_id]\n",
    "    if a_cluster != b_cluster:\n",
    "        inter_cluster_pairs.append([a,b])\n",
    "    \n",
    "cluster_sim_list, cluster_count, cluster_dist_list = calculate_pairwise_metrics(inter_cluster_pairs)\n",
    "print_similarity_statistics(cluster_sim_list)\n",
    "print('\\nNumber of Pairs:', len(inter_cluster_pairs))\n",
    "print('Number of Orthogonal Pairs:', cluster_count)\n",
    "print('Percentage of Orthogonal Pairs:', cluster_count/len(inter_cluster_pairs))\n",
    "plot_similarities(cluster_sim_list)\n",
    "\n",
    "print_distance_statistics(cluster_dist_list)\n",
    "plot_distances(cluster_dist_list)"
   ]
  },
  {
   "cell_type": "code",
   "execution_count": 38,
   "id": "39bbf9fc",
   "metadata": {},
   "outputs": [
    {
     "name": "stdout",
     "output_type": "stream",
     "text": [
      "Cosine Similarity Mean: 0.6062962055089454\n",
      "Cosine Similarity Median: 0.6216462139505987\n",
      "Cosine Similarity Mode: 1.0\n",
      "Cosine Similarity Min: 0.0768479055258297\n",
      "Cosine Similarity Max: 1.0000000000000002\n",
      "\n",
      "Number of Pairs: 7063\n",
      "Number of Orthogonal Pairs: 0\n",
      "Percentage of Orthogonal Pairs: 0.0\n"
     ]
    },
    {
     "data": {
      "image/png": "[encoded data removed]",
      "text/plain": [
       "<Figure size 432x288 with 1 Axes>"
      ]
     },
     "metadata": {
      "needs_background": "light"
     },
     "output_type": "display_data"
    },
    {
     "name": "stdout",
     "output_type": "stream",
     "text": [
      "Euclidean Distance Mean: 11.629012449433825\n",
      "Euclidean Distance Median: 11.50989721262632\n",
      "Euclidean Distance Mode: 0.0\n",
      "Euclidean Distance Min: 0.0\n",
      "Euclidean Distance Max: 22.91548908506628\n"
     ]
    },
    {
     "data": {
      "image/png": "[encoded data removed]",
      "text/plain": [
       "<Figure size 432x288 with 1 Axes>"
      ]
     },
     "metadata": {
      "needs_background": "light"
     },
     "output_type": "display_data"
    }
   ],
   "source": [
    "intra_cluster_pairs = []\n",
    "for index in range(0,len(assess_pairs)):\n",
    "    a, b = assess_pairs[index]\n",
    "    a_id, b_id = assess_pair_ids[index]\n",
    "    a_cluster = text_id1_to_clusterIndex[a_id]\n",
    "    b_cluster = text_id1_to_clusterIndex[b_id]\n",
    "    if a_cluster == b_cluster:\n",
    "        intra_cluster_pairs.append([a,b])\n",
    "    \n",
    "cluster_sim_list, cluster_count, cluster_dist_list = calculate_pairwise_metrics(intra_cluster_pairs)\n",
    "print_similarity_statistics(cluster_sim_list)\n",
    "print('\\nNumber of Pairs:', len(intra_cluster_pairs))\n",
    "print('Number of Orthogonal Pairs:', cluster_count)\n",
    "print('Percentage of Orthogonal Pairs:', cluster_count/len(intra_cluster_pairs))\n",
    "plot_similarities(cluster_sim_list)\n",
    "\n",
    "print_distance_statistics(cluster_dist_list)\n",
    "plot_distances(cluster_dist_list)"
   ]
  },
  {
   "cell_type": "code",
   "execution_count": 39,
   "id": "eac3b41b",
   "metadata": {},
   "outputs": [
    {
     "data": {
      "text/plain": [
       "Counter({78: 3,\n",
       "         176: 1,\n",
       "         156: 1,\n",
       "         69: 38,\n",
       "         25: 6,\n",
       "         115: 5,\n",
       "         1: 7,\n",
       "         3: 9,\n",
       "         191: 12,\n",
       "         91: 2,\n",
       "         89: 2,\n",
       "         98: 11,\n",
       "         165: 3,\n",
       "         133: 2,\n",
       "         175: 1,\n",
       "         72: 23,\n",
       "         152: 1,\n",
       "         149: 1,\n",
       "         164: 1,\n",
       "         182: 5,\n",
       "         110: 5,\n",
       "         95: 2,\n",
       "         127: 25,\n",
       "         107: 5,\n",
       "         46: 5,\n",
       "         28: 8,\n",
       "         40: 4,\n",
       "         184: 3,\n",
       "         54: 7,\n",
       "         118: 3,\n",
       "         5: 10,\n",
       "         199: 2,\n",
       "         67: 1,\n",
       "         96: 32,\n",
       "         13: 17,\n",
       "         80: 5,\n",
       "         194: 1,\n",
       "         60: 15,\n",
       "         158: 1,\n",
       "         37: 23,\n",
       "         170: 3,\n",
       "         159: 5,\n",
       "         70: 27,\n",
       "         147: 11,\n",
       "         10: 7,\n",
       "         77: 10,\n",
       "         141: 10,\n",
       "         186: 15,\n",
       "         86: 10,\n",
       "         34: 6,\n",
       "         123: 8,\n",
       "         195: 6,\n",
       "         23: 5,\n",
       "         14: 17,\n",
       "         82: 5,\n",
       "         160: 4,\n",
       "         102: 6,\n",
       "         0: 1,\n",
       "         56: 2,\n",
       "         59: 7,\n",
       "         26: 3,\n",
       "         64: 5,\n",
       "         62: 7,\n",
       "         145: 20,\n",
       "         139: 4,\n",
       "         35: 13,\n",
       "         181: 2,\n",
       "         143: 3,\n",
       "         11: 4,\n",
       "         71: 12,\n",
       "         161: 1,\n",
       "         47: 3,\n",
       "         157: 4,\n",
       "         74: 15,\n",
       "         142: 2,\n",
       "         2: 10,\n",
       "         9: 22,\n",
       "         192: 12,\n",
       "         76: 17,\n",
       "         104: 38,\n",
       "         27: 6,\n",
       "         178: 8,\n",
       "         146: 6,\n",
       "         117: 5,\n",
       "         12: 19,\n",
       "         83: 7,\n",
       "         94: 10,\n",
       "         32: 11,\n",
       "         131: 4,\n",
       "         188: 7,\n",
       "         114: 4,\n",
       "         101: 2,\n",
       "         61: 6,\n",
       "         92: 2,\n",
       "         180: 2,\n",
       "         31: 7,\n",
       "         84: 5,\n",
       "         68: 7,\n",
       "         106: 7,\n",
       "         16: 9,\n",
       "         137: 4,\n",
       "         154: 4,\n",
       "         190: 2,\n",
       "         128: 2,\n",
       "         99: 3,\n",
       "         134: 7,\n",
       "         109: 4,\n",
       "         41: 4,\n",
       "         112: 2,\n",
       "         58: 7,\n",
       "         53: 3,\n",
       "         185: 4,\n",
       "         17: 8,\n",
       "         52: 4,\n",
       "         173: 4,\n",
       "         151: 2,\n",
       "         119: 5,\n",
       "         90: 6,\n",
       "         189: 1,\n",
       "         168: 1,\n",
       "         44: 6,\n",
       "         8: 12,\n",
       "         198: 2,\n",
       "         196: 4,\n",
       "         65: 3,\n",
       "         125: 10,\n",
       "         155: 2,\n",
       "         73: 6,\n",
       "         50: 1,\n",
       "         153: 2,\n",
       "         132: 11,\n",
       "         144: 7,\n",
       "         171: 2,\n",
       "         36: 4,\n",
       "         49: 11,\n",
       "         135: 1,\n",
       "         122: 1,\n",
       "         39: 1,\n",
       "         167: 1,\n",
       "         116: 2,\n",
       "         108: 6,\n",
       "         21: 5,\n",
       "         121: 4,\n",
       "         19: 5,\n",
       "         85: 10,\n",
       "         57: 10,\n",
       "         33: 6,\n",
       "         66: 3,\n",
       "         129: 3,\n",
       "         30: 10,\n",
       "         126: 6,\n",
       "         166: 1,\n",
       "         193: 1,\n",
       "         38: 6,\n",
       "         113: 9,\n",
       "         150: 9,\n",
       "         51: 6,\n",
       "         162: 5,\n",
       "         7: 7,\n",
       "         63: 8,\n",
       "         81: 3,\n",
       "         177: 5,\n",
       "         6: 9,\n",
       "         45: 4,\n",
       "         148: 6,\n",
       "         42: 7,\n",
       "         138: 1,\n",
       "         169: 4,\n",
       "         15: 1,\n",
       "         111: 12,\n",
       "         29: 9,\n",
       "         18: 3,\n",
       "         20: 5,\n",
       "         22: 5,\n",
       "         48: 5,\n",
       "         124: 3,\n",
       "         97: 4,\n",
       "         163: 6,\n",
       "         140: 4,\n",
       "         103: 2,\n",
       "         172: 4,\n",
       "         105: 2,\n",
       "         43: 14,\n",
       "         24: 8,\n",
       "         93: 2,\n",
       "         75: 5,\n",
       "         100: 7,\n",
       "         183: 3,\n",
       "         197: 1,\n",
       "         55: 8,\n",
       "         87: 4,\n",
       "         4: 4,\n",
       "         136: 3,\n",
       "         174: 2,\n",
       "         120: 2,\n",
       "         79: 4,\n",
       "         88: 4,\n",
       "         179: 2,\n",
       "         130: 2,\n",
       "         187: 6})"
      ]
     },
     "execution_count": 39,
     "metadata": {},
     "output_type": "execute_result"
    }
   ],
   "source": [
    "Counter(cluster_assignment)"
   ]
  },
  {
   "cell_type": "code",
   "execution_count": 17,
   "id": "63354288",
   "metadata": {},
   "outputs": [],
   "source": [
    "k = 2\n",
    "k_list = []\n",
    "best_k = 75\n",
    "\n",
    "score_list = []\n",
    "best_score = -2.0\n",
    "\n",
    "while k <= 500:\n",
    "    km = KMeans(n_clusters = k, max_iter = 50000, init = 'k-means++', random_state=43)\n",
    "    cluster_assignment = km.fit(assess_vectors).labels_\n",
    "    s = silhouette_score(assess_vectors, cluster_assignment, metric='euclidean')\n",
    "    if s > best_score:\n",
    "        best_score = s\n",
    "        best_k = k\n",
    "    k_list.append(k)\n",
    "    score_list.append(s)\n",
    "    k += 1"
   ]
  },
  {
   "cell_type": "code",
   "execution_count": 18,
   "id": "69e06782",
   "metadata": {},
   "outputs": [
    {
     "data": {
      "image/png": "[encoded data removed]",
      "text/plain": [
       "<Figure size 432x288 with 1 Axes>"
      ]
     },
     "metadata": {
      "needs_background": "light"
     },
     "output_type": "display_data"
    }
   ],
   "source": [
    "plt.plot(k_list,score_list)\n",
    "plt.title('Number of Clusters versus Silhouette Score')\n",
    "plt.xlabel('Number of Clusters (k)')\n",
    "plt.ylabel('Silhouette Score')\n",
    "plt.show()"
   ]
  },
  {
   "cell_type": "code",
   "execution_count": 19,
   "id": "e9bf37c9",
   "metadata": {},
   "outputs": [
    {
     "name": "stdout",
     "output_type": "stream",
     "text": [
      "Best value for k: 488\n",
      "Best Silhouette Score: 0.1163041471454313\n"
     ]
    }
   ],
   "source": [
    "print('Best value for k:', best_k)\n",
    "print('Best Silhouette Score:', best_score)"
   ]
  },
  {
   "cell_type": "code",
   "execution_count": 41,
   "id": "7218bf72",
   "metadata": {},
   "outputs": [],
   "source": [
    "runs = 0\n",
    "assignment_list = []\n",
    "while runs < 10:\n",
    "    km = KMeans(n_clusters = 200, max_iter = 50000, init = 'k-means++')\n",
    "    cluster_assignment = km.fit(assess_vectors).labels_\n",
    "    runs  += 1\n",
    "    assignment_list.append(cluster_assignment)\n",
    "\n",
    "clustering_pairs = [[a, b] for idx, a in enumerate(assignment_list) for b in assignment_list[idx + 1:]]\n",
    "\n",
    "pair_numbers = []\n",
    "for number in range(0,10):\n",
    "    for another_number in range(0,10):\n",
    "        if another_number > number: \n",
    "            pair_numbers.append([number+1, another_number+1])\n",
    "\n",
    "from sklearn.metrics.cluster import adjusted_mutual_info_score\n",
    "\n",
    "ami_score_list = []\n",
    "for index in range(0, len(clustering_pairs)):\n",
    "    label = 'Comparing Run ' + str(pair_numbers[index][0]) + ' and Run ' + str(pair_numbers[index][1])\n",
    "    ami_score = adjusted_mutual_info_score(clustering_pairs[index][0], clustering_pairs[index][1])\n",
    "    ami_score_list.append([label, ami_score])\n",
    "    \n",
    "import csv\n",
    "\n",
    "with open(\"../../../OneDrive/SMART/Jesse_2021/StoryBoards/SMART_cluster_assignment_OLI General Chemistry I_sentence-BERT.csv\",\"w+\") as my_csv:\n",
    "    newarray = csv.writer(my_csv,delimiter=',')\n",
    "    newarray.writerows(assignment_list)\n",
    "    newarray.writerows(ami_score_list)"
   ]
  },
  {
   "cell_type": "code",
   "execution_count": null,
   "id": "1a7a976f",
   "metadata": {},
   "outputs": [],
   "source": []
  }
 ],
 "metadata": {
  "kernelspec": {
   "display_name": "Python 3",
   "language": "python",
   "name": "python3"
  },
  "language_info": {
   "codemirror_mode": {
    "name": "ipython",
    "version": 3
   },
   "file_extension": ".py",
   "mimetype": "text/x-python",
   "name": "python",
   "nbconvert_exporter": "python",
   "pygments_lexer": "ipython3",
   "version": "3.8.5"
  }
 },
 "nbformat": 4,
 "nbformat_minor": 5
}
